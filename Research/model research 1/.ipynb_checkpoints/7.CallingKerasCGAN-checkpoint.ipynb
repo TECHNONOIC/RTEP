{
 "cells": [
  {
   "cell_type": "code",
   "execution_count": 1,
   "id": "7b765129-3821-45c9-8a6f-414a3ed5358c",
   "metadata": {},
   "outputs": [
    {
     "data": {
      "text/plain": [
       "'D:\\\\Desktop\\\\Deep Learning\\\\GAN for Face expression Classification\\\\Research'"
      ]
     },
     "execution_count": 1,
     "metadata": {},
     "output_type": "execute_result"
    }
   ],
   "source": [
    "%pwd"
   ]
  },
  {
   "cell_type": "code",
   "execution_count": 2,
   "id": "58b5adb0-99de-4ff2-a33c-b73ac1670cd4",
   "metadata": {},
   "outputs": [],
   "source": [
    "import os"
   ]
  },
  {
   "cell_type": "code",
   "execution_count": 3,
   "id": "d328896d-91a7-4303-9cac-92fabd06c4d9",
   "metadata": {},
   "outputs": [],
   "source": [
    "os.chdir(\"../\")"
   ]
  },
  {
   "cell_type": "code",
   "execution_count": 4,
   "id": "96f0608a-1e2f-445f-a8c3-b3ca5f1ef469",
   "metadata": {},
   "outputs": [
    {
     "data": {
      "text/plain": [
       "'D:\\\\Desktop\\\\Deep Learning\\\\GAN for Face expression Classification'"
      ]
     },
     "execution_count": 4,
     "metadata": {},
     "output_type": "execute_result"
    }
   ],
   "source": [
    "%pwd"
   ]
  },
  {
   "cell_type": "code",
   "execution_count": 5,
   "id": "3e62feaf-6872-45a0-9366-6b06f0652df4",
   "metadata": {},
   "outputs": [],
   "source": [
    "import logging\n",
    "from pathlib import Path\n",
    "logging.basicConfig(\n",
    "    # filename='extract_data.log',\n",
    "    level=logging.INFO,\n",
    "    format='%(asctime)s - %(levelname)s - %(message)s',\n",
    "    datefmt='%Y-%m-%d %H:%M:%S'\n",
    ")"
   ]
  },
  {
   "cell_type": "code",
   "execution_count": 8,
   "id": "dd5dc1f4-03e5-4db2-af6d-de482dc35672",
   "metadata": {},
   "outputs": [],
   "source": [
    "import os\n",
    "from pathlib import Path\n",
    "import numpy as np\n",
    "import matplotlib.pyplot as plt\n",
    "from PIL import Image\n",
    "from keras.models import load_model\n",
    "import keras\n",
    "\n",
    "# Define the directory where the models are saved\n",
    "save_dir = Path(os.getcwd()) / \"Model\" / \"CGAN\"\n",
    "\n",
    "# Load the generator model\n",
    "generator_model_path = save_dir / \"generator_model.keras\"\n",
    "generator = load_model(generator_model_path)\n",
    "\n",
    "generator.compile(\n",
    "    optimizer=keras.optimizers.Adam(learning_rate=0.0003),\n",
    "    loss=keras.losses.BinaryCrossentropy(from_logits=True)\n",
    ")"
   ]
  },
  {
   "cell_type": "code",
   "execution_count": 9,
   "id": "802cc0a2-2861-4a93-b81a-e5aa9cad208b",
   "metadata": {},
   "outputs": [],
   "source": [
    "# Function to generate images for a specified class\n",
    "def generate_images_for_class(desired_class, num_interpolation=100):\n",
    "    # Choose the latent dimension size\n",
    "    latent_dim = generator.input_shape[1] - 10\n",
    "\n",
    "    # Sample noise for the interpolation\n",
    "    interpolation_noise = np.random.normal(size=(1, latent_dim))\n",
    "    interpolation_noise = np.repeat(interpolation_noise, repeats=num_interpolation, axis=0)\n",
    "\n",
    "    # Convert the desired class to one-hot encoded vector\n",
    "    label = np.zeros((1, 10))\n",
    "    label[0, desired_class] = 1\n",
    "\n",
    "    # Calculate the interpolation labels\n",
    "    percent_second_label = np.linspace(0, 1, num_interpolation)[:, None]\n",
    "    interpolation_labels = label * (1 - percent_second_label) + label * percent_second_label\n",
    "\n",
    "    # Combine noise and labels and run inference with the generator\n",
    "    noise_and_labels = np.concatenate([interpolation_noise, interpolation_labels], axis=1)\n",
    "    fake_images = generator.predict(noise_and_labels)\n",
    "\n",
    "    return fake_images\n",
    "\n",
    "# Function to display and save the generated image\n",
    "def display_and_save_image(image_array, save_path):\n",
    "    # Convert the image array to a PIL Image\n",
    "    image = Image.fromarray((255 * image_array).astype(np.uint8))\n",
    "\n",
    "    # Display the image using matplotlib\n",
    "    plt.imshow(image)\n",
    "    plt.axis('off')\n",
    "    plt.show()\n",
    "\n",
    "    # Save the image\n",
    "    image.save(save_path)\n"
   ]
  },
  {
   "cell_type": "code",
   "execution_count": 10,
   "id": "95dbd737-24f4-49b1-a065-d349f281f3db",
   "metadata": {},
   "outputs": [
    {
     "name": "stdout",
     "output_type": "stream",
     "text": [
      "\u001b[1m4/4\u001b[0m \u001b[32m━━━━━━━━━━━━━━━━━━━━\u001b[0m\u001b[37m\u001b[0m \u001b[1m0s\u001b[0m 37ms/step\n"
     ]
    },
    {
     "data": {
      "image/png": "[encoded data removed]",
      "text/plain": [
       "<Figure size 640x480 with 1 Axes>"
      ]
     },
     "metadata": {},
     "output_type": "display_data"
    }
   ],
   "source": [
    "# Generate and display the image for the desired class\n",
    "desired_class = 3  # Change this to the desired class\n",
    "fake_image = generate_images_for_class(desired_class)\n",
    "\n",
    "# Define the directory to save the generated image\n",
    "save_path = save_dir / f\"generated_image_class_{desired_class}.png\"\n",
    "\n",
    "# Display and save the image\n",
    "display_and_save_image(fake_image[0], save_path)"
   ]
  },
  {
   "cell_type": "code",
   "execution_count": null,
   "id": "d6ca1ef6-a9ae-4e15-b081-0331aecdaef2",
   "metadata": {},
   "outputs": [],
   "source": []
  }
 ],
 "metadata": {
  "kernelspec": {
   "display_name": "Python 3 (ipykernel)",
   "language": "python",
   "name": "python3"
  },
  "language_info": {
   "codemirror_mode": {
    "name": "ipython",
    "version": 3
   },
   "file_extension": ".py",
   "mimetype": "text/x-python",
   "name": "python",
   "nbconvert_exporter": "python",
   "pygments_lexer": "ipython3",
   "version": "3.12.1"
  }
 },
 "nbformat": 4,
 "nbformat_minor": 5
}
