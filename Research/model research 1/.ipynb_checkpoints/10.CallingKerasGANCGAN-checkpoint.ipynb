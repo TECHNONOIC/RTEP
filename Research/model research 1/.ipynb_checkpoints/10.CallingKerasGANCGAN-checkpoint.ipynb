{
 "cells": [
  {
   "cell_type": "code",
   "execution_count": 7,
   "id": "7b765129-3821-45c9-8a6f-414a3ed5358c",
   "metadata": {},
   "outputs": [
    {
     "data": {
      "text/plain": [
       "'D:\\\\Desktop\\\\Deep Learning\\\\GAN for Face expression Classification'"
      ]
     },
     "execution_count": 7,
     "metadata": {},
     "output_type": "execute_result"
    }
   ],
   "source": [
    "%pwd"
   ]
  },
  {
   "cell_type": "code",
   "execution_count": 8,
   "id": "58b5adb0-99de-4ff2-a33c-b73ac1670cd4",
   "metadata": {},
   "outputs": [],
   "source": [
    "import os"
   ]
  },
  {
   "cell_type": "code",
   "execution_count": 9,
   "id": "d328896d-91a7-4303-9cac-92fabd06c4d9",
   "metadata": {},
   "outputs": [],
   "source": [
    "os.chdir(\"../\")"
   ]
  },
  {
   "cell_type": "code",
   "execution_count": 10,
   "id": "96f0608a-1e2f-445f-a8c3-b3ca5f1ef469",
   "metadata": {},
   "outputs": [
    {
     "data": {
      "text/plain": [
       "'D:\\\\Desktop\\\\Deep Learning'"
      ]
     },
     "execution_count": 10,
     "metadata": {},
     "output_type": "execute_result"
    }
   ],
   "source": [
    "%pwd"
   ]
  },
  {
   "cell_type": "code",
   "execution_count": 11,
   "id": "3e62feaf-6872-45a0-9366-6b06f0652df4",
   "metadata": {},
   "outputs": [],
   "source": [
    "import logging\n",
    "from pathlib import Path\n",
    "logging.basicConfig(\n",
    "    # filename='extract_data.log',\n",
    "    level=logging.INFO,\n",
    "    format='%(asctime)s - %(levelname)s - %(message)s',\n",
    "    datefmt='%Y-%m-%d %H:%M:%S'\n",
    ")"
   ]
  },
  {
   "cell_type": "code",
   "execution_count": 12,
   "id": "dd5dc1f4-03e5-4db2-af6d-de482dc35672",
   "metadata": {},
   "outputs": [
    {
     "ename": "ValueError",
     "evalue": "File not found: filepath=D:\\Desktop\\Deep Learning\\Model\\GAN_CGAN_Merge\\generator_model.keras. Please ensure the file is an accessible `.keras` zip file.",
     "output_type": "error",
     "traceback": [
      "\u001b[1;31m---------------------------------------------------------------------------\u001b[0m",
      "\u001b[1;31mValueError\u001b[0m                                Traceback (most recent call last)",
      "Cell \u001b[1;32mIn[12], line 14\u001b[0m\n\u001b[0;32m     12\u001b[0m \u001b[38;5;66;03m# Load the generator model\u001b[39;00m\n\u001b[0;32m     13\u001b[0m generator_model_path \u001b[38;5;241m=\u001b[39m save_dir \u001b[38;5;241m/\u001b[39m \u001b[38;5;124m\"\u001b[39m\u001b[38;5;124mgenerator_model.keras\u001b[39m\u001b[38;5;124m\"\u001b[39m\n\u001b[1;32m---> 14\u001b[0m generator \u001b[38;5;241m=\u001b[39m \u001b[43mload_model\u001b[49m\u001b[43m(\u001b[49m\u001b[43mgenerator_model_path\u001b[49m\u001b[43m)\u001b[49m\n\u001b[0;32m     16\u001b[0m generator\u001b[38;5;241m.\u001b[39mcompile(\n\u001b[0;32m     17\u001b[0m     optimizer\u001b[38;5;241m=\u001b[39mkeras\u001b[38;5;241m.\u001b[39moptimizers\u001b[38;5;241m.\u001b[39mAdam(learning_rate\u001b[38;5;241m=\u001b[39m\u001b[38;5;241m0.0003\u001b[39m),\n\u001b[0;32m     18\u001b[0m     loss\u001b[38;5;241m=\u001b[39mkeras\u001b[38;5;241m.\u001b[39mlosses\u001b[38;5;241m.\u001b[39mBinaryCrossentropy(from_logits\u001b[38;5;241m=\u001b[39m\u001b[38;5;28;01mTrue\u001b[39;00m)\n\u001b[0;32m     19\u001b[0m )\n",
      "File \u001b[1;32mD:\\Desktop\\Deep Learning\\GAN for Face expression Classification\\venv\\Lib\\site-packages\\keras\\src\\saving\\saving_api.py:185\u001b[0m, in \u001b[0;36mload_model\u001b[1;34m(filepath, custom_objects, compile, safe_mode)\u001b[0m\n\u001b[0;32m    183\u001b[0m     \u001b[38;5;28;01mreturn\u001b[39;00m legacy_h5_format\u001b[38;5;241m.\u001b[39mload_model_from_hdf5(filepath)\n\u001b[0;32m    184\u001b[0m \u001b[38;5;28;01melif\u001b[39;00m \u001b[38;5;28mstr\u001b[39m(filepath)\u001b[38;5;241m.\u001b[39mendswith(\u001b[38;5;124m\"\u001b[39m\u001b[38;5;124m.keras\u001b[39m\u001b[38;5;124m\"\u001b[39m):\n\u001b[1;32m--> 185\u001b[0m     \u001b[38;5;28;01mraise\u001b[39;00m \u001b[38;5;167;01mValueError\u001b[39;00m(\n\u001b[0;32m    186\u001b[0m         \u001b[38;5;124mf\u001b[39m\u001b[38;5;124m\"\u001b[39m\u001b[38;5;124mFile not found: filepath=\u001b[39m\u001b[38;5;132;01m{\u001b[39;00mfilepath\u001b[38;5;132;01m}\u001b[39;00m\u001b[38;5;124m. \u001b[39m\u001b[38;5;124m\"\u001b[39m\n\u001b[0;32m    187\u001b[0m         \u001b[38;5;124m\"\u001b[39m\u001b[38;5;124mPlease ensure the file is an accessible `.keras` \u001b[39m\u001b[38;5;124m\"\u001b[39m\n\u001b[0;32m    188\u001b[0m         \u001b[38;5;124m\"\u001b[39m\u001b[38;5;124mzip file.\u001b[39m\u001b[38;5;124m\"\u001b[39m\n\u001b[0;32m    189\u001b[0m     )\n\u001b[0;32m    190\u001b[0m \u001b[38;5;28;01melse\u001b[39;00m:\n\u001b[0;32m    191\u001b[0m     \u001b[38;5;28;01mraise\u001b[39;00m \u001b[38;5;167;01mValueError\u001b[39;00m(\n\u001b[0;32m    192\u001b[0m         \u001b[38;5;124mf\u001b[39m\u001b[38;5;124m\"\u001b[39m\u001b[38;5;124mFile format not supported: filepath=\u001b[39m\u001b[38;5;132;01m{\u001b[39;00mfilepath\u001b[38;5;132;01m}\u001b[39;00m\u001b[38;5;124m. \u001b[39m\u001b[38;5;124m\"\u001b[39m\n\u001b[0;32m    193\u001b[0m         \u001b[38;5;124m\"\u001b[39m\u001b[38;5;124mKeras 3 only supports V3 `.keras` files and \u001b[39m\u001b[38;5;124m\"\u001b[39m\n\u001b[1;32m   (...)\u001b[0m\n\u001b[0;32m    202\u001b[0m         \u001b[38;5;124m\"\u001b[39m\u001b[38;5;124mmight have a different name).\u001b[39m\u001b[38;5;124m\"\u001b[39m\n\u001b[0;32m    203\u001b[0m     )\n",
      "\u001b[1;31mValueError\u001b[0m: File not found: filepath=D:\\Desktop\\Deep Learning\\Model\\GAN_CGAN_Merge\\generator_model.keras. Please ensure the file is an accessible `.keras` zip file."
     ]
    }
   ],
   "source": [
    "import os\n",
    "from pathlib import Path\n",
    "import numpy as np\n",
    "import matplotlib.pyplot as plt\n",
    "from PIL import Image\n",
    "from keras.models import load_model\n",
    "import keras\n",
    "\n",
    "# Define the directory where the models are saved\n",
    "save_dir = Path(os.getcwd())/ \"Model\" / \"GAN_CGAN_Merge\"\n",
    "\n",
    "# Load the generator model\n",
    "generator_model_path = save_dir / \"generator_model.keras\"\n",
    "generator = load_model(generator_model_path)\n",
    "\n",
    "generator.compile(\n",
    "    optimizer=keras.optimizers.Adam(learning_rate=0.0003),\n",
    "    loss=keras.losses.BinaryCrossentropy(from_logits=True)\n",
    ")"
   ]
  },
  {
   "cell_type": "code",
   "execution_count": null,
   "id": "802cc0a2-2861-4a93-b81a-e5aa9cad208b",
   "metadata": {},
   "outputs": [],
   "source": [
    "# Function to generate images for a specified class\n",
    "def generate_images_for_class(desired_class, num_interpolation=100):\n",
    "    # Choose the latent dimension size\n",
    "    latent_dim = generator.input_shape[1] - 10\n",
    "\n",
    "    # Sample noise for the interpolation\n",
    "    interpolation_noise = np.random.normal(size=(1, latent_dim))\n",
    "    interpolation_noise = np.repeat(interpolation_noise, repeats=num_interpolation, axis=0)\n",
    "\n",
    "    # Convert the desired class to one-hot encoded vector\n",
    "    label = np.zeros((1, 10))\n",
    "    label[0, desired_class] = 1\n",
    "\n",
    "    # Calculate the interpolation labels\n",
    "    percent_second_label = np.linspace(0, 1, num_interpolation)[:, None]\n",
    "    interpolation_labels = label * (1 - percent_second_label) + label * percent_second_label\n",
    "\n",
    "    # Combine noise and labels and run inference with the generator\n",
    "    noise_and_labels = np.concatenate([interpolation_noise, interpolation_labels], axis=1)\n",
    "    fake_images = generator.predict(noise_and_labels)\n",
    "\n",
    "    return fake_images\n",
    "\n",
    "# Function to display and save the generated image\n",
    "def display_and_save_image(image_array, save_path):\n",
    "    # Convert the image array to a PIL Image\n",
    "    image = Image.fromarray((255 * image_array).astype(np.uint8))\n",
    "\n",
    "    # Display the image using matplotlib\n",
    "    plt.imshow(image)\n",
    "    plt.axis('off')\n",
    "    plt.show()\n",
    "\n",
    "    # Save the image\n",
    "    image.save(save_path)\n"
   ]
  },
  {
   "cell_type": "code",
   "execution_count": null,
   "id": "95dbd737-24f4-49b1-a065-d349f281f3db",
   "metadata": {},
   "outputs": [],
   "source": [
    "# Generate and display the image for the desired class\n",
    "desired_class = 1  # Change this to the desired class\n",
    "fake_image = generate_images_for_class(desired_class)\n",
    "\n",
    "# Define the directory to save the generated image\n",
    "save_path = save_dir / f\"generated_image_class_{desired_class}.png\"\n",
    "\n",
    "# Display and save the image\n",
    "display_and_save_image(fake_image[0], save_path)"
   ]
  },
  {
   "cell_type": "code",
   "execution_count": null,
   "id": "d6ca1ef6-a9ae-4e15-b081-0331aecdaef2",
   "metadata": {},
   "outputs": [],
   "source": []
  }
 ],
 "metadata": {
  "kernelspec": {
   "display_name": "Python 3 (ipykernel)",
   "language": "python",
   "name": "python3"
  },
  "language_info": {
   "codemirror_mode": {
    "name": "ipython",
    "version": 3
   },
   "file_extension": ".py",
   "mimetype": "text/x-python",
   "name": "python",
   "nbconvert_exporter": "python",
   "pygments_lexer": "ipython3",
   "version": "3.12.1"
  }
 },
 "nbformat": 4,
 "nbformat_minor": 5
}
