{
 "cells": [
  {
   "cell_type": "code",
   "execution_count": 24,
   "id": "9980cd99-5d1f-4613-b60e-a23e2b2d8967",
   "metadata": {},
   "outputs": [],
   "source": [
    "import os"
   ]
  },
  {
   "cell_type": "code",
   "execution_count": 25,
   "id": "e2521a1a-3e3c-4e44-9d5a-5c8794489608",
   "metadata": {},
   "outputs": [
    {
     "data": {
      "text/plain": [
       "'E:\\\\GAN for Face expression Classification\\\\iteration 2'"
      ]
     },
     "execution_count": 25,
     "metadata": {},
     "output_type": "execute_result"
    }
   ],
   "source": [
    "%pwd"
   ]
  },
  {
   "cell_type": "code",
   "execution_count": 26,
   "id": "1f874a1a-9eb7-45d5-88e0-df32a36dc6b5",
   "metadata": {},
   "outputs": [],
   "source": [
    "os.chdir(\"../\")"
   ]
  },
  {
   "cell_type": "code",
   "execution_count": 27,
   "id": "fc3b166b-eecb-48cc-b6b8-e21ef8df3426",
   "metadata": {},
   "outputs": [
    {
     "data": {
      "text/plain": [
       "'E:\\\\GAN for Face expression Classification'"
      ]
     },
     "execution_count": 27,
     "metadata": {},
     "output_type": "execute_result"
    }
   ],
   "source": [
    "%pwd"
   ]
  },
  {
   "cell_type": "code",
   "execution_count": 28,
   "id": "f2b35646-6fdb-4966-a8ce-6fa618521c0d",
   "metadata": {},
   "outputs": [],
   "source": [
    "import logging\n",
    "from pathlib import Path\n",
    "logging.basicConfig(\n",
    "    # filename='extract_data.log',\n",
    "    level=logging.INFO,\n",
    "    format='%(asctime)s - %(levelname)s - %(message)s',\n",
    "    datefmt='%Y-%m-%d %H:%M:%S'\n",
    ")"
   ]
  },
  {
   "cell_type": "code",
   "execution_count": 29,
   "id": "32b01d81-96b7-4330-8c91-f369827a9a65",
   "metadata": {},
   "outputs": [],
   "source": [
    "import matplotlib.pyplot as plt\n",
    "import numpy as np\n",
    "import pandas as pd\n",
    "import seaborn as sns\n",
    "import os"
   ]
  },
  {
   "cell_type": "code",
   "execution_count": 30,
   "id": "492384f9-8f80-430e-8d12-e61e9cca8636",
   "metadata": {},
   "outputs": [],
   "source": [
    "from keras.preprocessing.image import load_img, img_to_array\n",
    "from tensorflow.keras.preprocessing.image import ImageDataGenerator\n",
    "from keras. layers import Dense, Input, Dropout, GlobalAveragePooling2D, Flatten, Conv2D, BatchNormalization, Activation, MaxPooling2D\n",
    "from keras.models import Model, Sequential\n",
    "from keras.optimizers import Adam, SGD, RMSprop"
   ]
  },
  {
   "cell_type": "code",
   "execution_count": 31,
   "id": "4050d454-17e9-4d9d-b520-dcc11e592479",
   "metadata": {},
   "outputs": [],
   "source": [
    "from sklearn.model_selection import train_test_split\n",
    "import os\n",
    "from pathlib import Path"
   ]
  },
  {
   "cell_type": "code",
   "execution_count": 32,
   "id": "177f822a-c1cb-43af-b8e0-e092cbc043e8",
   "metadata": {},
   "outputs": [],
   "source": [
    "dataset_dir = Path(os.getcwd()) / \"dataset/gan_Balanced_merged_256 train val\""
   ]
  },
  {
   "cell_type": "code",
   "execution_count": 33,
   "id": "1fb3c380-25af-453d-b4f7-c117bcb0f6ed",
   "metadata": {},
   "outputs": [],
   "source": [
    "picture_size = 64"
   ]
  },
  {
   "cell_type": "code",
   "execution_count": 34,
   "id": "1beaeb2b-f3c5-4e53-88c3-320ec27e7b51",
   "metadata": {},
   "outputs": [],
   "source": [
    "batch_size  = 128\n",
    "datagen_train  = ImageDataGenerator()\n"
   ]
  },
  {
   "cell_type": "code",
   "execution_count": 35,
   "id": "3c150fa9-9093-4fca-86e7-2df15040aa62",
   "metadata": {},
   "outputs": [
    {
     "ename": "FileNotFoundError",
     "evalue": "[WinError 3] The system cannot find the path specified: 'E:\\\\GAN for Face expression Classification\\\\dataset\\\\gan_Balanced_merged_256 train val'",
     "output_type": "error",
     "traceback": [
      "\u001b[1;31m---------------------------------------------------------------------------\u001b[0m",
      "\u001b[1;31mFileNotFoundError\u001b[0m                         Traceback (most recent call last)",
      "Cell \u001b[1;32mIn[35], line 4\u001b[0m\n\u001b[0;32m      1\u001b[0m file_paths \u001b[38;5;241m=\u001b[39m []\n\u001b[0;32m      2\u001b[0m labels \u001b[38;5;241m=\u001b[39m []\n\u001b[1;32m----> 4\u001b[0m \u001b[38;5;28;01mfor\u001b[39;00m class_name \u001b[38;5;129;01min\u001b[39;00m \u001b[43mos\u001b[49m\u001b[38;5;241;43m.\u001b[39;49m\u001b[43mlistdir\u001b[49m\u001b[43m(\u001b[49m\u001b[43mdataset_dir\u001b[49m\u001b[43m)\u001b[49m:\n\u001b[0;32m      5\u001b[0m     class_dir \u001b[38;5;241m=\u001b[39m dataset_dir \u001b[38;5;241m/\u001b[39m class_name\n\u001b[0;32m      6\u001b[0m     \u001b[38;5;28;01mif\u001b[39;00m os\u001b[38;5;241m.\u001b[39mpath\u001b[38;5;241m.\u001b[39misdir(class_dir):\n",
      "\u001b[1;31mFileNotFoundError\u001b[0m: [WinError 3] The system cannot find the path specified: 'E:\\\\GAN for Face expression Classification\\\\dataset\\\\gan_Balanced_merged_256 train val'"
     ]
    }
   ],
   "source": [
    "file_paths = []\n",
    "labels = []\n",
    "\n",
    "for class_name in os.listdir(dataset_dir):\n",
    "    class_dir = dataset_dir / class_name\n",
    "    if os.path.isdir(class_dir):\n",
    "        for file_name in os.listdir(class_dir):\n",
    "            file_paths.append(str(class_dir / file_name))\n",
    "            labels.append(class_name)\n"
   ]
  },
  {
   "cell_type": "code",
   "execution_count": null,
   "id": "44d7fc8d-681b-40b4-9f70-7db7089bbf6d",
   "metadata": {},
   "outputs": [],
   "source": [
    "data = pd.DataFrame({'file_path': file_paths, 'label': labels})\n"
   ]
  },
  {
   "cell_type": "code",
   "execution_count": null,
   "id": "4bbeb3d0-a439-4e1f-8505-b201a2a3b5c2",
   "metadata": {},
   "outputs": [],
   "source": [
    "train_data, test_data = train_test_split(data, test_size=0.2, random_state=42)\n"
   ]
  },
  {
   "cell_type": "code",
   "execution_count": null,
   "id": "ebe4f1ca-6ede-48db-90cb-a7f7576f5751",
   "metadata": {},
   "outputs": [],
   "source": [
    "train_set = datagen_train.flow_from_dataframe(\n",
    "    dataframe=train_data,\n",
    "    x_col='file_path',\n",
    "    y_col='label',\n",
    "    target_size=(picture_size, picture_size),\n",
    "    color_mode=\"grayscale\",\n",
    "    batch_size=batch_size,\n",
    "    class_mode='categorical',\n",
    "    shuffle=True\n",
    ")\n"
   ]
  },
  {
   "cell_type": "code",
   "execution_count": null,
   "id": "2b46c0e6-b31d-4a48-b8ce-d09ad4c5a0c7",
   "metadata": {},
   "outputs": [],
   "source": [
    "\n",
    "\n",
    "def log_dataset_info(dataset):\n",
    "   \n",
    "    # Check if the input is train_set or test_set\n",
    "    if 'train' in str(dataset).lower():\n",
    "        dataset_type = \"Train Set\"\n",
    "    elif 'test' in str(dataset).lower():\n",
    "        dataset_type = \"Test Set\"\n",
    "    else:\n",
    "        dataset_type = \"Dataset\"\n",
    "\n",
    "    # Log dataset information\n",
    "    logging.info(f\"{dataset_type} Information:\")\n",
    "    class_labels = sorted(dataset.class_indices.items(), key=lambda x: x[1])\n",
    "    for label, index in class_labels:\n",
    "        num_images = len([x for x in dataset.labels if x == index])\n",
    "        logging.info(f\"Class '{label}' (index {index}): {num_images} images\")"
   ]
  },
  {
   "cell_type": "code",
   "execution_count": null,
   "id": "3b816c03-f299-4c8b-898f-a48d9ad73285",
   "metadata": {},
   "outputs": [],
   "source": [
    "log_dataset_info(train_set)"
   ]
  },
  {
   "cell_type": "code",
   "execution_count": null,
   "id": "26460996-b60a-4d38-a514-7ebfe76a431f",
   "metadata": {},
   "outputs": [],
   "source": [
    "test_set = datagen_train.flow_from_dataframe(\n",
    "    dataframe=test_data,\n",
    "    x_col='file_path',\n",
    "    y_col='label',\n",
    "    target_size=(picture_size, picture_size),\n",
    "    color_mode=\"grayscale\",\n",
    "    batch_size=batch_size,\n",
    "    class_mode='categorical',\n",
    "    shuffle=False\n",
    ")"
   ]
  },
  {
   "cell_type": "code",
   "execution_count": null,
   "id": "b661eb40-f749-48c0-85d3-334c7be8f66e",
   "metadata": {},
   "outputs": [],
   "source": [
    "log_dataset_info(test_set)"
   ]
  },
  {
   "cell_type": "code",
   "execution_count": null,
   "id": "837c22a7-2827-4039-a138-8ce4a0173e5f",
   "metadata": {},
   "outputs": [],
   "source": [
    "from keras.optimizers import Adam,SGD,RMSprop"
   ]
  },
  {
   "cell_type": "code",
   "execution_count": null,
   "id": "b4ba3c9c-d86e-4c96-af2b-bf4acf0a7b06",
   "metadata": {},
   "outputs": [],
   "source": [
    "\n",
    "\n",
    "no_of_classes = 7\n",
    "\n",
    "model = Sequential()\n",
    "\n",
    "#1st CNN layer\n",
    "model.add(Conv2D(64,(3,3),padding = 'same',input_shape = (64,64,1)))\n",
    "model.add(BatchNormalization())\n",
    "model.add(Activation('relu'))\n",
    "model.add(MaxPooling2D(pool_size = (2,2)))\n",
    "model.add(Dropout(0.25))\n",
    "\n",
    "#2nd CNN layer\n",
    "model.add(Conv2D(128,(5,5),padding = 'same'))\n",
    "model.add(BatchNormalization())\n",
    "model.add(Activation('relu'))\n",
    "model.add(MaxPooling2D(pool_size = (2,2)))\n",
    "model.add(Dropout (0.25))\n",
    "\n",
    "#3rd CNN layer\n",
    "model.add(Conv2D(512,(3,3),padding = 'same'))\n",
    "model.add(BatchNormalization())\n",
    "model.add(Activation('relu'))\n",
    "model.add(MaxPooling2D(pool_size = (2,2)))\n",
    "model.add(Dropout (0.25))\n",
    "\n",
    "#4th CNN layer\n",
    "model.add(Conv2D(512,(3,3), padding='same'))\n",
    "model.add(BatchNormalization())\n",
    "model.add(Activation('relu'))\n",
    "model.add(MaxPooling2D(pool_size=(2, 2)))\n",
    "model.add(Dropout(0.25))\n",
    "\n",
    "model.add(Flatten())\n",
    "\n",
    "#Fully connected 1st layer\n",
    "model.add(Dense(256))\n",
    "model.add(BatchNormalization())\n",
    "model.add(Activation('relu'))\n",
    "model.add(Dropout(0.25))\n",
    "\n",
    "\n",
    "# Fully connected layer 2nd layer\n",
    "model.add(Dense(512))\n",
    "model.add(BatchNormalization())\n",
    "model.add(Activation('relu'))\n",
    "model.add(Dropout(0.25))\n",
    "\n",
    "model.add(Dense(no_of_classes, activation='softmax'))\n",
    "\n",
    "\n",
    "\n",
    "opt = Adam(learning_rate=0.0001)\n",
    "model.compile(optimizer=opt,loss='categorical_crossentropy', metrics=['accuracy'])\n",
    "model.summary()\n"
   ]
  },
  {
   "cell_type": "code",
   "execution_count": null,
   "id": "45b4ca77-bd3a-4d37-a053-ad9b7f42f68e",
   "metadata": {},
   "outputs": [],
   "source": [
    "from keras.optimizers import RMSprop,SGD,Adam\n",
    "from keras.callbacks import ModelCheckpoint, EarlyStopping, ReduceLROnPlateau\n",
    "\n",
    "\n",
    "# checkpoint = ModelCheckpoint(str(Path(os.getcwd()) / \"Model/CNN\"/\"cnnmodel.keras\"), monitor='val_acc', verbose=1, save_best_only=True, mode='max')\n",
    "\n",
    "# early_stopping = EarlyStopping(monitor='accuracy',\n",
    "#                           min_delta=0,\n",
    "#                           patience=3,\n",
    "#                           verbose=1,\n",
    "#                           restore_best_weights=True\n",
    "#                           )\n",
    "\n",
    "reduce_learningrate = ReduceLROnPlateau(monitor='val_accuracy',\n",
    "                              factor=0.2,\n",
    "                              patience=3,\n",
    "                              verbose=1,\n",
    "                              min_delta=0.0001)\n",
    "\n",
    "# callbacks_list = [early_stopping,checkpoint,reduce_learningrate]\n",
    "# callbacks_list = [checkpoint,reduce_learningrate]\n",
    "callbacks_list = [reduce_learningrate]\n",
    "epochs = 100\n",
    "\n",
    "model.compile(loss='categorical_crossentropy',\n",
    "              optimizer=Adam(learning_rate=0.001),  # Pass learning rate as positional argument\n",
    "              metrics=['accuracy'])"
   ]
  },
  {
   "cell_type": "code",
   "execution_count": null,
   "id": "2c0de873-017a-48b5-a297-9e0965f708dc",
   "metadata": {},
   "outputs": [],
   "source": [
    "history = model.fit(train_set,\n",
    "                                steps_per_epoch=train_set.n//train_set.batch_size,\n",
    "                                epochs=epochs,\n",
    "                                validation_data = test_set,\n",
    "                                validation_steps = test_set.n//test_set.batch_size,\n",
    "                                callbacks=callbacks_list\n",
    "                                )\n",
    "\n",
    "model.save(Path(os.getcwd()) / \"model/cnn\"/ \"cnn_model_final.h5\")"
   ]
  },
  {
   "cell_type": "code",
   "execution_count": null,
   "id": "9f6dbaf0-0979-48b9-a044-7602bd4a4d26",
   "metadata": {},
   "outputs": [],
   "source": [
    "# Save plots\n",
    "plots_path = Path(os.getcwd()) / \"model\" / \"cnn\"\n",
    "plt.style.use('dark_background')\n",
    "\n",
    "# Loss plot\n",
    "plt.figure(figsize=(10, 6))\n",
    "plt.ylabel('Loss', fontsize=16)\n",
    "plt.plot(history.history['loss'], label='Training Loss')\n",
    "plt.plot(history.history['val_loss'], label='Validation Loss')\n",
    "plt.legend(loc='upper right')\n",
    "plt.title('CNN Loss')\n",
    "plt.savefig(plots_path / \"CNN_Loss.png\")\n",
    "plt.show()\n",
    "\n",
    "# Accuracy plot\n",
    "plt.figure(figsize=(10, 6))\n",
    "plt.ylabel('Accuracy', fontsize=16)\n",
    "plt.plot(history.history['accuracy'], label='Training Accuracy')\n",
    "plt.plot(history.history['val_accuracy'], label='Validation Accuracy')\n",
    "plt.legend(loc='lower right')\n",
    "plt.title('CNN Accuracy')\n",
    "plt.savefig(plots_path / \"CNN_Accuracy.png\")\n",
    "plt.show()\n"
   ]
  },
  {
   "cell_type": "code",
   "execution_count": null,
   "id": "198b5bb3-c794-4bac-a982-551f5cd950ed",
   "metadata": {},
   "outputs": [],
   "source": []
  },
  {
   "cell_type": "code",
   "execution_count": null,
   "id": "faaee319-2548-437f-9380-77c805ac8b44",
   "metadata": {},
   "outputs": [],
   "source": []
  }
 ],
 "metadata": {
  "kernelspec": {
   "display_name": "Python 3 (ipykernel)",
   "language": "python",
   "name": "python3"
  },
  "language_info": {
   "codemirror_mode": {
    "name": "ipython",
    "version": 3
   },
   "file_extension": ".py",
   "mimetype": "text/x-python",
   "name": "python",
   "nbconvert_exporter": "python",
   "pygments_lexer": "ipython3",
   "version": "3.12.1"
  }
 },
 "nbformat": 4,
 "nbformat_minor": 5
}
