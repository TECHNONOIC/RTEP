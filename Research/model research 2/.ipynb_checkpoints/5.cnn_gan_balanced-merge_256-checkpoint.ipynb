{
 "cells": [
  {
   "cell_type": "code",
   "execution_count": 1,
   "id": "9980cd99-5d1f-4613-b60e-a23e2b2d8967",
   "metadata": {},
   "outputs": [],
   "source": [
    "import os"
   ]
  },
  {
   "cell_type": "code",
   "execution_count": 2,
   "id": "e2521a1a-3e3c-4e44-9d5a-5c8794489608",
   "metadata": {},
   "outputs": [
    {
     "data": {
      "text/plain": [
       "'E:\\\\GAN for Face expression Classification\\\\iteration 2\\\\research'"
      ]
     },
     "execution_count": 2,
     "metadata": {},
     "output_type": "execute_result"
    }
   ],
   "source": [
    "%pwd"
   ]
  },
  {
   "cell_type": "code",
   "execution_count": 3,
   "id": "1f874a1a-9eb7-45d5-88e0-df32a36dc6b5",
   "metadata": {},
   "outputs": [],
   "source": [
    "os.chdir(\"../\")"
   ]
  },
  {
   "cell_type": "code",
   "execution_count": 4,
   "id": "fc3b166b-eecb-48cc-b6b8-e21ef8df3426",
   "metadata": {},
   "outputs": [
    {
     "data": {
      "text/plain": [
       "'E:\\\\GAN for Face expression Classification\\\\iteration 2'"
      ]
     },
     "execution_count": 4,
     "metadata": {},
     "output_type": "execute_result"
    }
   ],
   "source": [
    "%pwd"
   ]
  },
  {
   "cell_type": "code",
   "execution_count": 5,
   "id": "f2b35646-6fdb-4966-a8ce-6fa618521c0d",
   "metadata": {},
   "outputs": [],
   "source": [
    "import logging\n",
    "from pathlib import Path\n",
    "logging.basicConfig(\n",
    "    # filename='extract_data.log',\n",
    "    level=logging.INFO,\n",
    "    format='%(asctime)s - %(levelname)s - %(message)s',\n",
    "    datefmt='%Y-%m-%d %H:%M:%S'\n",
    ")"
   ]
  },
  {
   "cell_type": "code",
   "execution_count": 6,
   "id": "32b01d81-96b7-4330-8c91-f369827a9a65",
   "metadata": {},
   "outputs": [],
   "source": [
    "import matplotlib.pyplot as plt\n",
    "import numpy as np\n",
    "import pandas as pd\n",
    "import seaborn as sns\n",
    "import os"
   ]
  },
  {
   "cell_type": "code",
   "execution_count": 7,
   "id": "492384f9-8f80-430e-8d12-e61e9cca8636",
   "metadata": {},
   "outputs": [],
   "source": [
    "from keras.preprocessing.image import load_img, img_to_array\n",
    "from tensorflow.keras.preprocessing.image import ImageDataGenerator\n",
    "from keras. layers import Dense, Input, Dropout, GlobalAveragePooling2D, Flatten, Conv2D, BatchNormalization, Activation, MaxPooling2D\n",
    "from keras.models import Model, Sequential\n",
    "from keras.optimizers import Adam, SGD, RMSprop"
   ]
  },
  {
   "cell_type": "code",
   "execution_count": 8,
   "id": "4050d454-17e9-4d9d-b520-dcc11e592479",
   "metadata": {},
   "outputs": [],
   "source": [
    "from sklearn.model_selection import train_test_split\n",
    "import os\n",
    "from pathlib import Path"
   ]
  },
  {
   "cell_type": "code",
   "execution_count": 9,
   "id": "177f822a-c1cb-43af-b8e0-e092cbc043e8",
   "metadata": {},
   "outputs": [],
   "source": [
    "dataset_dir = Path(os.getcwd()) / \"dataset/gan_Balanced_merged_256 train val\""
   ]
  },
  {
   "cell_type": "code",
   "execution_count": 10,
   "id": "1fb3c380-25af-453d-b4f7-c117bcb0f6ed",
   "metadata": {},
   "outputs": [],
   "source": [
    "picture_size = 64"
   ]
  },
  {
   "cell_type": "code",
   "execution_count": 11,
   "id": "1beaeb2b-f3c5-4e53-88c3-320ec27e7b51",
   "metadata": {},
   "outputs": [],
   "source": [
    "batch_size  = 128\n",
    "datagen_train  = ImageDataGenerator()\n"
   ]
  },
  {
   "cell_type": "code",
   "execution_count": 12,
   "id": "3c150fa9-9093-4fca-86e7-2df15040aa62",
   "metadata": {},
   "outputs": [],
   "source": [
    "file_paths = []\n",
    "labels = []\n",
    "\n",
    "for class_name in os.listdir(dataset_dir):\n",
    "    class_dir = dataset_dir / class_name\n",
    "    if os.path.isdir(class_dir):\n",
    "        for file_name in os.listdir(class_dir):\n",
    "            file_paths.append(str(class_dir / file_name))\n",
    "            labels.append(class_name)\n"
   ]
  },
  {
   "cell_type": "code",
   "execution_count": 13,
   "id": "44d7fc8d-681b-40b4-9f70-7db7089bbf6d",
   "metadata": {},
   "outputs": [],
   "source": [
    "data = pd.DataFrame({'file_path': file_paths, 'label': labels})\n"
   ]
  },
  {
   "cell_type": "code",
   "execution_count": 14,
   "id": "4bbeb3d0-a439-4e1f-8505-b201a2a3b5c2",
   "metadata": {},
   "outputs": [],
   "source": [
    "train_data, test_data = train_test_split(data, test_size=0.2, random_state=42)\n"
   ]
  },
  {
   "cell_type": "code",
   "execution_count": 15,
   "id": "ebe4f1ca-6ede-48db-90cb-a7f7576f5751",
   "metadata": {},
   "outputs": [
    {
     "name": "stdout",
     "output_type": "stream",
     "text": [
      "Found 21118 validated image filenames belonging to 7 classes.\n"
     ]
    }
   ],
   "source": [
    "train_set = datagen_train.flow_from_dataframe(\n",
    "    dataframe=train_data,\n",
    "    x_col='file_path',\n",
    "    y_col='label',\n",
    "    target_size=(picture_size, picture_size),\n",
    "    color_mode=\"grayscale\",\n",
    "    batch_size=batch_size,\n",
    "    class_mode='categorical',\n",
    "    shuffle=True\n",
    ")\n"
   ]
  },
  {
   "cell_type": "code",
   "execution_count": 16,
   "id": "2b46c0e6-b31d-4a48-b8ce-d09ad4c5a0c7",
   "metadata": {},
   "outputs": [],
   "source": [
    "\n",
    "\n",
    "def log_dataset_info(dataset):\n",
    "   \n",
    "    # Check if the input is train_set or test_set\n",
    "    if 'train' in str(dataset).lower():\n",
    "        dataset_type = \"Train Set\"\n",
    "    elif 'test' in str(dataset).lower():\n",
    "        dataset_type = \"Test Set\"\n",
    "    else:\n",
    "        dataset_type = \"Dataset\"\n",
    "\n",
    "    # Log dataset information\n",
    "    logging.info(f\"{dataset_type} Information:\")\n",
    "    class_labels = sorted(dataset.class_indices.items(), key=lambda x: x[1])\n",
    "    for label, index in class_labels:\n",
    "        num_images = len([x for x in dataset.labels if x == index])\n",
    "        logging.info(f\"Class '{label}' (index {index}): {num_images} images\")"
   ]
  },
  {
   "cell_type": "code",
   "execution_count": 17,
   "id": "3b816c03-f299-4c8b-898f-a48d9ad73285",
   "metadata": {},
   "outputs": [
    {
     "name": "stderr",
     "output_type": "stream",
     "text": [
      "2024-04-30 14:07:01 - INFO - Dataset Information:\n",
      "2024-04-30 14:07:01 - INFO - Class 'angry' (index 0): 2934 images\n",
      "2024-04-30 14:07:01 - INFO - Class 'disgust' (index 1): 3298 images\n",
      "2024-04-30 14:07:01 - INFO - Class 'fear' (index 2): 2916 images\n",
      "2024-04-30 14:07:01 - INFO - Class 'happy' (index 3): 2978 images\n",
      "2024-04-30 14:07:01 - INFO - Class 'neutral' (index 4): 3016 images\n",
      "2024-04-30 14:07:01 - INFO - Class 'sad' (index 5): 2977 images\n",
      "2024-04-30 14:07:01 - INFO - Class 'surprise' (index 6): 2999 images\n"
     ]
    }
   ],
   "source": [
    "log_dataset_info(train_set)"
   ]
  },
  {
   "cell_type": "code",
   "execution_count": 18,
   "id": "26460996-b60a-4d38-a514-7ebfe76a431f",
   "metadata": {},
   "outputs": [
    {
     "name": "stdout",
     "output_type": "stream",
     "text": [
      "Found 5280 validated image filenames belonging to 7 classes.\n"
     ]
    }
   ],
   "source": [
    "test_set = datagen_train.flow_from_dataframe(\n",
    "    dataframe=test_data,\n",
    "    x_col='file_path',\n",
    "    y_col='label',\n",
    "    target_size=(picture_size, picture_size),\n",
    "    color_mode=\"grayscale\",\n",
    "    batch_size=batch_size,\n",
    "    class_mode='categorical',\n",
    "    shuffle=False\n",
    ")"
   ]
  },
  {
   "cell_type": "code",
   "execution_count": 19,
   "id": "b661eb40-f749-48c0-85d3-334c7be8f66e",
   "metadata": {},
   "outputs": [
    {
     "name": "stderr",
     "output_type": "stream",
     "text": [
      "2024-04-30 14:07:01 - INFO - Dataset Information:\n",
      "2024-04-30 14:07:01 - INFO - Class 'angry' (index 0): 775 images\n",
      "2024-04-30 14:07:01 - INFO - Class 'disgust' (index 1): 846 images\n",
      "2024-04-30 14:07:01 - INFO - Class 'fear' (index 2): 793 images\n",
      "2024-04-30 14:07:01 - INFO - Class 'happy' (index 3): 731 images\n",
      "2024-04-30 14:07:01 - INFO - Class 'neutral' (index 4): 693 images\n",
      "2024-04-30 14:07:01 - INFO - Class 'sad' (index 5): 732 images\n",
      "2024-04-30 14:07:01 - INFO - Class 'surprise' (index 6): 710 images\n"
     ]
    }
   ],
   "source": [
    "log_dataset_info(test_set)"
   ]
  },
  {
   "cell_type": "code",
   "execution_count": 20,
   "id": "837c22a7-2827-4039-a138-8ce4a0173e5f",
   "metadata": {},
   "outputs": [],
   "source": [
    "from keras.optimizers import Adam,SGD,RMSprop"
   ]
  },
  {
   "cell_type": "code",
   "execution_count": 21,
   "id": "b4ba3c9c-d86e-4c96-af2b-bf4acf0a7b06",
   "metadata": {},
   "outputs": [],
   "source": [
    "\n",
    "\n",
    "# no_of_classes = 7\n",
    "\n",
    "# model = Sequential()\n",
    "\n",
    "# #1st CNN layer\n",
    "# model.add(Conv2D(64,(3,3),padding = 'same',input_shape = (64,64,1)))\n",
    "# model.add(BatchNormalization())\n",
    "# model.add(Activation('relu'))\n",
    "# model.add(MaxPooling2D(pool_size = (2,2)))\n",
    "# model.add(Dropout(0.25))\n",
    "\n",
    "# #2nd CNN layer\n",
    "# model.add(Conv2D(128,(5,5),padding = 'same'))\n",
    "# model.add(BatchNormalization())\n",
    "# model.add(Activation('relu'))\n",
    "# model.add(MaxPooling2D(pool_size = (2,2)))\n",
    "# model.add(Dropout (0.25))\n",
    "\n",
    "# #3rd CNN layer\n",
    "# model.add(Conv2D(512,(3,3),padding = 'same'))\n",
    "# model.add(BatchNormalization())\n",
    "# model.add(Activation('relu'))\n",
    "# model.add(MaxPooling2D(pool_size = (2,2)))\n",
    "# model.add(Dropout (0.25))\n",
    "\n",
    "# #4th CNN layer\n",
    "# model.add(Conv2D(512,(3,3), padding='same'))\n",
    "# model.add(BatchNormalization())\n",
    "# model.add(Activation('relu'))\n",
    "# model.add(MaxPooling2D(pool_size=(2, 2)))\n",
    "# model.add(Dropout(0.25))\n",
    "\n",
    "# model.add(Flatten())\n",
    "\n",
    "# #Fully connected 1st layer\n",
    "# model.add(Dense(256))\n",
    "# model.add(BatchNormalization())\n",
    "# model.add(Activation('relu'))\n",
    "# model.add(Dropout(0.25))\n",
    "\n",
    "\n",
    "# # Fully connected layer 2nd layer\n",
    "# model.add(Dense(512))\n",
    "# model.add(BatchNormalization())\n",
    "# model.add(Activation('relu'))\n",
    "# model.add(Dropout(0.25))\n",
    "\n",
    "# model.add(Dense(no_of_classes, activation='softmax'))\n",
    "\n",
    "\n",
    "\n",
    "# opt = Adam(learning_rate=0.0001)\n",
    "# model.compile(optimizer=opt,loss='categorical_crossentropy', metrics=['accuracy'])\n",
    "# model.summary()\n"
   ]
  },
  {
   "cell_type": "code",
   "execution_count": 22,
   "id": "c55a5afe-147b-4d30-8939-a07407aaa2df",
   "metadata": {},
   "outputs": [
    {
     "name": "stderr",
     "output_type": "stream",
     "text": [
      "C:\\Users\\karti\\miniconda3\\Lib\\site-packages\\keras\\src\\layers\\convolutional\\base_conv.py:99: UserWarning: Do not pass an `input_shape`/`input_dim` argument to a layer. When using Sequential models, prefer using an `Input(shape)` object as the first layer in the model instead.\n",
      "  super().__init__(\n"
     ]
    },
    {
     "data": {
      "text/html": [
       "<pre style=\"white-space:pre;overflow-x:auto;line-height:normal;font-family:Menlo,'DejaVu Sans Mono',consolas,'Courier New',monospace\"><span style=\"font-weight: bold\">Model: \"sequential\"</span>\n",
       "</pre>\n"
      ],
      "text/plain": [
       "\u001b[1mModel: \"sequential\"\u001b[0m\n"
      ]
     },
     "metadata": {},
     "output_type": "display_data"
    },
    {
     "data": {
      "text/html": [
       "<pre style=\"white-space:pre;overflow-x:auto;line-height:normal;font-family:Menlo,'DejaVu Sans Mono',consolas,'Courier New',monospace\">┏━━━━━━━━━━━━━━━━━━━━━━━━━━━━━━━━━━━━━━┳━━━━━━━━━━━━━━━━━━━━━━━━━━━━━┳━━━━━━━━━━━━━━━━━┓\n",
       "┃<span style=\"font-weight: bold\"> Layer (type)                         </span>┃<span style=\"font-weight: bold\"> Output Shape                </span>┃<span style=\"font-weight: bold\">         Param # </span>┃\n",
       "┡━━━━━━━━━━━━━━━━━━━━━━━━━━━━━━━━━━━━━━╇━━━━━━━━━━━━━━━━━━━━━━━━━━━━━╇━━━━━━━━━━━━━━━━━┩\n",
       "│ conv2d (<span style=\"color: #0087ff; text-decoration-color: #0087ff\">Conv2D</span>)                      │ (<span style=\"color: #00d7ff; text-decoration-color: #00d7ff\">None</span>, <span style=\"color: #00af00; text-decoration-color: #00af00\">62</span>, <span style=\"color: #00af00; text-decoration-color: #00af00\">62</span>, <span style=\"color: #00af00; text-decoration-color: #00af00\">32</span>)          │             <span style=\"color: #00af00; text-decoration-color: #00af00\">320</span> │\n",
       "├──────────────────────────────────────┼─────────────────────────────┼─────────────────┤\n",
       "│ batch_normalization                  │ (<span style=\"color: #00d7ff; text-decoration-color: #00d7ff\">None</span>, <span style=\"color: #00af00; text-decoration-color: #00af00\">62</span>, <span style=\"color: #00af00; text-decoration-color: #00af00\">62</span>, <span style=\"color: #00af00; text-decoration-color: #00af00\">32</span>)          │             <span style=\"color: #00af00; text-decoration-color: #00af00\">128</span> │\n",
       "│ (<span style=\"color: #0087ff; text-decoration-color: #0087ff\">BatchNormalization</span>)                 │                             │                 │\n",
       "├──────────────────────────────────────┼─────────────────────────────┼─────────────────┤\n",
       "│ max_pooling2d (<span style=\"color: #0087ff; text-decoration-color: #0087ff\">MaxPooling2D</span>)         │ (<span style=\"color: #00d7ff; text-decoration-color: #00d7ff\">None</span>, <span style=\"color: #00af00; text-decoration-color: #00af00\">31</span>, <span style=\"color: #00af00; text-decoration-color: #00af00\">31</span>, <span style=\"color: #00af00; text-decoration-color: #00af00\">32</span>)          │               <span style=\"color: #00af00; text-decoration-color: #00af00\">0</span> │\n",
       "├──────────────────────────────────────┼─────────────────────────────┼─────────────────┤\n",
       "│ dropout (<span style=\"color: #0087ff; text-decoration-color: #0087ff\">Dropout</span>)                    │ (<span style=\"color: #00d7ff; text-decoration-color: #00d7ff\">None</span>, <span style=\"color: #00af00; text-decoration-color: #00af00\">31</span>, <span style=\"color: #00af00; text-decoration-color: #00af00\">31</span>, <span style=\"color: #00af00; text-decoration-color: #00af00\">32</span>)          │               <span style=\"color: #00af00; text-decoration-color: #00af00\">0</span> │\n",
       "├──────────────────────────────────────┼─────────────────────────────┼─────────────────┤\n",
       "│ conv2d_1 (<span style=\"color: #0087ff; text-decoration-color: #0087ff\">Conv2D</span>)                    │ (<span style=\"color: #00d7ff; text-decoration-color: #00d7ff\">None</span>, <span style=\"color: #00af00; text-decoration-color: #00af00\">29</span>, <span style=\"color: #00af00; text-decoration-color: #00af00\">29</span>, <span style=\"color: #00af00; text-decoration-color: #00af00\">64</span>)          │          <span style=\"color: #00af00; text-decoration-color: #00af00\">18,496</span> │\n",
       "├──────────────────────────────────────┼─────────────────────────────┼─────────────────┤\n",
       "│ batch_normalization_1                │ (<span style=\"color: #00d7ff; text-decoration-color: #00d7ff\">None</span>, <span style=\"color: #00af00; text-decoration-color: #00af00\">29</span>, <span style=\"color: #00af00; text-decoration-color: #00af00\">29</span>, <span style=\"color: #00af00; text-decoration-color: #00af00\">64</span>)          │             <span style=\"color: #00af00; text-decoration-color: #00af00\">256</span> │\n",
       "│ (<span style=\"color: #0087ff; text-decoration-color: #0087ff\">BatchNormalization</span>)                 │                             │                 │\n",
       "├──────────────────────────────────────┼─────────────────────────────┼─────────────────┤\n",
       "│ max_pooling2d_1 (<span style=\"color: #0087ff; text-decoration-color: #0087ff\">MaxPooling2D</span>)       │ (<span style=\"color: #00d7ff; text-decoration-color: #00d7ff\">None</span>, <span style=\"color: #00af00; text-decoration-color: #00af00\">14</span>, <span style=\"color: #00af00; text-decoration-color: #00af00\">14</span>, <span style=\"color: #00af00; text-decoration-color: #00af00\">64</span>)          │               <span style=\"color: #00af00; text-decoration-color: #00af00\">0</span> │\n",
       "├──────────────────────────────────────┼─────────────────────────────┼─────────────────┤\n",
       "│ dropout_1 (<span style=\"color: #0087ff; text-decoration-color: #0087ff\">Dropout</span>)                  │ (<span style=\"color: #00d7ff; text-decoration-color: #00d7ff\">None</span>, <span style=\"color: #00af00; text-decoration-color: #00af00\">14</span>, <span style=\"color: #00af00; text-decoration-color: #00af00\">14</span>, <span style=\"color: #00af00; text-decoration-color: #00af00\">64</span>)          │               <span style=\"color: #00af00; text-decoration-color: #00af00\">0</span> │\n",
       "├──────────────────────────────────────┼─────────────────────────────┼─────────────────┤\n",
       "│ flatten (<span style=\"color: #0087ff; text-decoration-color: #0087ff\">Flatten</span>)                    │ (<span style=\"color: #00d7ff; text-decoration-color: #00d7ff\">None</span>, <span style=\"color: #00af00; text-decoration-color: #00af00\">12544</span>)               │               <span style=\"color: #00af00; text-decoration-color: #00af00\">0</span> │\n",
       "├──────────────────────────────────────┼─────────────────────────────┼─────────────────┤\n",
       "│ dense (<span style=\"color: #0087ff; text-decoration-color: #0087ff\">Dense</span>)                        │ (<span style=\"color: #00d7ff; text-decoration-color: #00d7ff\">None</span>, <span style=\"color: #00af00; text-decoration-color: #00af00\">256</span>)                 │       <span style=\"color: #00af00; text-decoration-color: #00af00\">3,211,520</span> │\n",
       "├──────────────────────────────────────┼─────────────────────────────┼─────────────────┤\n",
       "│ batch_normalization_2                │ (<span style=\"color: #00d7ff; text-decoration-color: #00d7ff\">None</span>, <span style=\"color: #00af00; text-decoration-color: #00af00\">256</span>)                 │           <span style=\"color: #00af00; text-decoration-color: #00af00\">1,024</span> │\n",
       "│ (<span style=\"color: #0087ff; text-decoration-color: #0087ff\">BatchNormalization</span>)                 │                             │                 │\n",
       "├──────────────────────────────────────┼─────────────────────────────┼─────────────────┤\n",
       "│ dropout_2 (<span style=\"color: #0087ff; text-decoration-color: #0087ff\">Dropout</span>)                  │ (<span style=\"color: #00d7ff; text-decoration-color: #00d7ff\">None</span>, <span style=\"color: #00af00; text-decoration-color: #00af00\">256</span>)                 │               <span style=\"color: #00af00; text-decoration-color: #00af00\">0</span> │\n",
       "├──────────────────────────────────────┼─────────────────────────────┼─────────────────┤\n",
       "│ dense_1 (<span style=\"color: #0087ff; text-decoration-color: #0087ff\">Dense</span>)                      │ (<span style=\"color: #00d7ff; text-decoration-color: #00d7ff\">None</span>, <span style=\"color: #00af00; text-decoration-color: #00af00\">7</span>)                   │           <span style=\"color: #00af00; text-decoration-color: #00af00\">1,799</span> │\n",
       "└──────────────────────────────────────┴─────────────────────────────┴─────────────────┘\n",
       "</pre>\n"
      ],
      "text/plain": [
       "┏━━━━━━━━━━━━━━━━━━━━━━━━━━━━━━━━━━━━━━┳━━━━━━━━━━━━━━━━━━━━━━━━━━━━━┳━━━━━━━━━━━━━━━━━┓\n",
       "┃\u001b[1m \u001b[0m\u001b[1mLayer (type)                        \u001b[0m\u001b[1m \u001b[0m┃\u001b[1m \u001b[0m\u001b[1mOutput Shape               \u001b[0m\u001b[1m \u001b[0m┃\u001b[1m \u001b[0m\u001b[1m        Param #\u001b[0m\u001b[1m \u001b[0m┃\n",
       "┡━━━━━━━━━━━━━━━━━━━━━━━━━━━━━━━━━━━━━━╇━━━━━━━━━━━━━━━━━━━━━━━━━━━━━╇━━━━━━━━━━━━━━━━━┩\n",
       "│ conv2d (\u001b[38;5;33mConv2D\u001b[0m)                      │ (\u001b[38;5;45mNone\u001b[0m, \u001b[38;5;34m62\u001b[0m, \u001b[38;5;34m62\u001b[0m, \u001b[38;5;34m32\u001b[0m)          │             \u001b[38;5;34m320\u001b[0m │\n",
       "├──────────────────────────────────────┼─────────────────────────────┼─────────────────┤\n",
       "│ batch_normalization                  │ (\u001b[38;5;45mNone\u001b[0m, \u001b[38;5;34m62\u001b[0m, \u001b[38;5;34m62\u001b[0m, \u001b[38;5;34m32\u001b[0m)          │             \u001b[38;5;34m128\u001b[0m │\n",
       "│ (\u001b[38;5;33mBatchNormalization\u001b[0m)                 │                             │                 │\n",
       "├──────────────────────────────────────┼─────────────────────────────┼─────────────────┤\n",
       "│ max_pooling2d (\u001b[38;5;33mMaxPooling2D\u001b[0m)         │ (\u001b[38;5;45mNone\u001b[0m, \u001b[38;5;34m31\u001b[0m, \u001b[38;5;34m31\u001b[0m, \u001b[38;5;34m32\u001b[0m)          │               \u001b[38;5;34m0\u001b[0m │\n",
       "├──────────────────────────────────────┼─────────────────────────────┼─────────────────┤\n",
       "│ dropout (\u001b[38;5;33mDropout\u001b[0m)                    │ (\u001b[38;5;45mNone\u001b[0m, \u001b[38;5;34m31\u001b[0m, \u001b[38;5;34m31\u001b[0m, \u001b[38;5;34m32\u001b[0m)          │               \u001b[38;5;34m0\u001b[0m │\n",
       "├──────────────────────────────────────┼─────────────────────────────┼─────────────────┤\n",
       "│ conv2d_1 (\u001b[38;5;33mConv2D\u001b[0m)                    │ (\u001b[38;5;45mNone\u001b[0m, \u001b[38;5;34m29\u001b[0m, \u001b[38;5;34m29\u001b[0m, \u001b[38;5;34m64\u001b[0m)          │          \u001b[38;5;34m18,496\u001b[0m │\n",
       "├──────────────────────────────────────┼─────────────────────────────┼─────────────────┤\n",
       "│ batch_normalization_1                │ (\u001b[38;5;45mNone\u001b[0m, \u001b[38;5;34m29\u001b[0m, \u001b[38;5;34m29\u001b[0m, \u001b[38;5;34m64\u001b[0m)          │             \u001b[38;5;34m256\u001b[0m │\n",
       "│ (\u001b[38;5;33mBatchNormalization\u001b[0m)                 │                             │                 │\n",
       "├──────────────────────────────────────┼─────────────────────────────┼─────────────────┤\n",
       "│ max_pooling2d_1 (\u001b[38;5;33mMaxPooling2D\u001b[0m)       │ (\u001b[38;5;45mNone\u001b[0m, \u001b[38;5;34m14\u001b[0m, \u001b[38;5;34m14\u001b[0m, \u001b[38;5;34m64\u001b[0m)          │               \u001b[38;5;34m0\u001b[0m │\n",
       "├──────────────────────────────────────┼─────────────────────────────┼─────────────────┤\n",
       "│ dropout_1 (\u001b[38;5;33mDropout\u001b[0m)                  │ (\u001b[38;5;45mNone\u001b[0m, \u001b[38;5;34m14\u001b[0m, \u001b[38;5;34m14\u001b[0m, \u001b[38;5;34m64\u001b[0m)          │               \u001b[38;5;34m0\u001b[0m │\n",
       "├──────────────────────────────────────┼─────────────────────────────┼─────────────────┤\n",
       "│ flatten (\u001b[38;5;33mFlatten\u001b[0m)                    │ (\u001b[38;5;45mNone\u001b[0m, \u001b[38;5;34m12544\u001b[0m)               │               \u001b[38;5;34m0\u001b[0m │\n",
       "├──────────────────────────────────────┼─────────────────────────────┼─────────────────┤\n",
       "│ dense (\u001b[38;5;33mDense\u001b[0m)                        │ (\u001b[38;5;45mNone\u001b[0m, \u001b[38;5;34m256\u001b[0m)                 │       \u001b[38;5;34m3,211,520\u001b[0m │\n",
       "├──────────────────────────────────────┼─────────────────────────────┼─────────────────┤\n",
       "│ batch_normalization_2                │ (\u001b[38;5;45mNone\u001b[0m, \u001b[38;5;34m256\u001b[0m)                 │           \u001b[38;5;34m1,024\u001b[0m │\n",
       "│ (\u001b[38;5;33mBatchNormalization\u001b[0m)                 │                             │                 │\n",
       "├──────────────────────────────────────┼─────────────────────────────┼─────────────────┤\n",
       "│ dropout_2 (\u001b[38;5;33mDropout\u001b[0m)                  │ (\u001b[38;5;45mNone\u001b[0m, \u001b[38;5;34m256\u001b[0m)                 │               \u001b[38;5;34m0\u001b[0m │\n",
       "├──────────────────────────────────────┼─────────────────────────────┼─────────────────┤\n",
       "│ dense_1 (\u001b[38;5;33mDense\u001b[0m)                      │ (\u001b[38;5;45mNone\u001b[0m, \u001b[38;5;34m7\u001b[0m)                   │           \u001b[38;5;34m1,799\u001b[0m │\n",
       "└──────────────────────────────────────┴─────────────────────────────┴─────────────────┘\n"
      ]
     },
     "metadata": {},
     "output_type": "display_data"
    },
    {
     "data": {
      "text/html": [
       "<pre style=\"white-space:pre;overflow-x:auto;line-height:normal;font-family:Menlo,'DejaVu Sans Mono',consolas,'Courier New',monospace\"><span style=\"font-weight: bold\"> Total params: </span><span style=\"color: #00af00; text-decoration-color: #00af00\">3,233,543</span> (12.33 MB)\n",
       "</pre>\n"
      ],
      "text/plain": [
       "\u001b[1m Total params: \u001b[0m\u001b[38;5;34m3,233,543\u001b[0m (12.33 MB)\n"
      ]
     },
     "metadata": {},
     "output_type": "display_data"
    },
    {
     "data": {
      "text/html": [
       "<pre style=\"white-space:pre;overflow-x:auto;line-height:normal;font-family:Menlo,'DejaVu Sans Mono',consolas,'Courier New',monospace\"><span style=\"font-weight: bold\"> Trainable params: </span><span style=\"color: #00af00; text-decoration-color: #00af00\">3,232,839</span> (12.33 MB)\n",
       "</pre>\n"
      ],
      "text/plain": [
       "\u001b[1m Trainable params: \u001b[0m\u001b[38;5;34m3,232,839\u001b[0m (12.33 MB)\n"
      ]
     },
     "metadata": {},
     "output_type": "display_data"
    },
    {
     "data": {
      "text/html": [
       "<pre style=\"white-space:pre;overflow-x:auto;line-height:normal;font-family:Menlo,'DejaVu Sans Mono',consolas,'Courier New',monospace\"><span style=\"font-weight: bold\"> Non-trainable params: </span><span style=\"color: #00af00; text-decoration-color: #00af00\">704</span> (2.75 KB)\n",
       "</pre>\n"
      ],
      "text/plain": [
       "\u001b[1m Non-trainable params: \u001b[0m\u001b[38;5;34m704\u001b[0m (2.75 KB)\n"
      ]
     },
     "metadata": {},
     "output_type": "display_data"
    }
   ],
   "source": [
    "from keras.models import Sequential\n",
    "from keras.layers import Conv2D, MaxPooling2D, Flatten, Dense, Dropout\n",
    "\n",
    "# Initialize the model\n",
    "model = Sequential()\n",
    "\n",
    "# Add model layers\n",
    "model.add(Conv2D(32, kernel_size=(3, 3), activation='relu', input_shape=(64, 64, 1)))\n",
    "model.add(BatchNormalization())\n",
    "model.add(MaxPooling2D(pool_size=(2, 2)))\n",
    "model.add(Dropout(0.25))\n",
    "\n",
    "model.add(Conv2D(64, kernel_size=(3, 3), activation='relu'))\n",
    "model.add(BatchNormalization())\n",
    "model.add(MaxPooling2D(pool_size=(2, 2)))\n",
    "model.add(Dropout(0.25))\n",
    "\n",
    "model.add(Flatten())\n",
    "model.add(Dense(256, activation='relu'))\n",
    "model.add(BatchNormalization())\n",
    "model.add(Dropout(0.5))\n",
    "model.add(Dense(7, activation='softmax'))  # Change to match number of classes\n",
    "\n",
    "# Compile the model\n",
    "model.compile(optimizer='adam', loss='categorical_crossentropy', metrics=['accuracy'])\n",
    "\n",
    "# Summary of the model\n",
    "model.summary()"
   ]
  },
  {
   "cell_type": "code",
   "execution_count": null,
   "id": "cfb9cd6a-5ac0-4034-ae1f-af1c313c22f4",
   "metadata": {},
   "outputs": [],
   "source": [
    "\n",
    "\n",
    "\n"
   ]
  },
  {
   "cell_type": "code",
   "execution_count": null,
   "id": "45b4ca77-bd3a-4d37-a053-ad9b7f42f68e",
   "metadata": {},
   "outputs": [],
   "source": [
    "from keras.optimizers import RMSprop,SGD,Adam\n",
    "from keras.callbacks import ModelCheckpoint, EarlyStopping, ReduceLROnPlateau\n",
    "\n",
    "\n",
    "# checkpoint = ModelCheckpoint(str(Path(os.getcwd()) / \"Model/CNN\"/\"cnnmodel.keras\"), monitor='val_acc', verbose=1, save_best_only=True, mode='max')\n",
    "\n",
    "# early_stopping = EarlyStopping(monitor='accuracy',\n",
    "#                           min_delta=0,\n",
    "#                           patience=3,\n",
    "#                           verbose=1,\n",
    "#                           restore_best_weights=True\n",
    "#                           )\n",
    "\n",
    "reduce_learningrate = ReduceLROnPlateau(monitor='val_accuracy',\n",
    "                              factor=0.2,\n",
    "                              patience=3,\n",
    "                              verbose=1,\n",
    "                              min_delta=0.0001)\n",
    "\n",
    "# callbacks_list = [early_stopping,checkpoint,reduce_learningrate]\n",
    "# callbacks_list = [checkpoint,reduce_learningrate]\n",
    "callbacks_list = [reduce_learningrate]\n",
    "epochs = 100\n",
    "\n",
    "model.compile(loss='categorical_crossentropy',\n",
    "              optimizer=Adam(learning_rate=0.001),  # Pass learning rate as positional argument\n",
    "              metrics=['accuracy'])"
   ]
  },
  {
   "cell_type": "code",
   "execution_count": null,
   "id": "2c0de873-017a-48b5-a297-9e0965f708dc",
   "metadata": {},
   "outputs": [
    {
     "name": "stdout",
     "output_type": "stream",
     "text": [
      "Epoch 1/100\n"
     ]
    },
    {
     "name": "stderr",
     "output_type": "stream",
     "text": [
      "C:\\Users\\karti\\miniconda3\\Lib\\site-packages\\keras\\src\\trainers\\data_adapters\\py_dataset_adapter.py:120: UserWarning: Your `PyDataset` class should call `super().__init__(**kwargs)` in its constructor. `**kwargs` can include `workers`, `use_multiprocessing`, `max_queue_size`. Do not pass these arguments to `fit()`, as they will be ignored.\n",
      "  self._warn_if_super_not_called()\n"
     ]
    },
    {
     "name": "stdout",
     "output_type": "stream",
     "text": [
      "\u001b[1m164/164\u001b[0m \u001b[32m━━━━━━━━━━━━━━━━━━━━\u001b[0m\u001b[37m\u001b[0m \u001b[1m54s\u001b[0m 319ms/step - accuracy: 0.3374 - loss: 2.0328 - val_accuracy: 0.2660 - val_loss: 1.9812 - learning_rate: 0.0010\n",
      "Epoch 2/100\n",
      "\u001b[1m164/164\u001b[0m \u001b[32m━━━━━━━━━━━━━━━━━━━━\u001b[0m\u001b[37m\u001b[0m \u001b[1m0s\u001b[0m 276us/step - accuracy: 0.4453 - loss: 1.4248 - val_accuracy: 0.3750 - val_loss: 1.8300 - learning_rate: 0.0010\n",
      "Epoch 3/100\n"
     ]
    },
    {
     "name": "stderr",
     "output_type": "stream",
     "text": [
      "C:\\Users\\karti\\miniconda3\\Lib\\contextlib.py:158: UserWarning: Your input ran out of data; interrupting training. Make sure that your dataset or generator can generate at least `steps_per_epoch * epochs` batches. You may need to use the `.repeat()` function when building your dataset.\n",
      "  self.gen.throw(value)\n"
     ]
    },
    {
     "name": "stdout",
     "output_type": "stream",
     "text": [
      "\u001b[1m164/164\u001b[0m \u001b[32m━━━━━━━━━━━━━━━━━━━━\u001b[0m\u001b[37m\u001b[0m \u001b[1m52s\u001b[0m 315ms/step - accuracy: 0.4677 - loss: 1.4088 - val_accuracy: 0.4663 - val_loss: 1.3980 - learning_rate: 0.0010\n",
      "Epoch 4/100\n",
      "\u001b[1m164/164\u001b[0m \u001b[32m━━━━━━━━━━━━━━━━━━━━\u001b[0m\u001b[37m\u001b[0m \u001b[1m0s\u001b[0m 172us/step - accuracy: 0.4766 - loss: 1.4073 - val_accuracy: 0.4688 - val_loss: 1.4950 - learning_rate: 0.0010\n",
      "Epoch 5/100\n",
      "\u001b[1m164/164\u001b[0m \u001b[32m━━━━━━━━━━━━━━━━━━━━\u001b[0m\u001b[37m\u001b[0m \u001b[1m52s\u001b[0m 313ms/step - accuracy: 0.5058 - loss: 1.3063 - val_accuracy: 0.4783 - val_loss: 1.3473 - learning_rate: 0.0010\n",
      "Epoch 6/100\n",
      "\u001b[1m164/164\u001b[0m \u001b[32m━━━━━━━━━━━━━━━━━━━━\u001b[0m\u001b[37m\u001b[0m \u001b[1m0s\u001b[0m 166us/step - accuracy: 0.4844 - loss: 1.3836 - val_accuracy: 0.5000 - val_loss: 1.4449 - learning_rate: 0.0010\n",
      "Epoch 7/100\n",
      "\u001b[1m164/164\u001b[0m \u001b[32m━━━━━━━━━━━━━━━━━━━━\u001b[0m\u001b[37m\u001b[0m \u001b[1m53s\u001b[0m 320ms/step - accuracy: 0.5431 - loss: 1.2004 - val_accuracy: 0.5118 - val_loss: 1.2648 - learning_rate: 0.0010\n",
      "Epoch 8/100\n",
      "\u001b[1m164/164\u001b[0m \u001b[32m━━━━━━━━━━━━━━━━━━━━\u001b[0m\u001b[37m\u001b[0m \u001b[1m0s\u001b[0m 172us/step - accuracy: 0.4531 - loss: 1.3802 - val_accuracy: 0.5625 - val_loss: 1.2668 - learning_rate: 0.0010\n",
      "Epoch 9/100\n",
      "\u001b[1m164/164\u001b[0m \u001b[32m━━━━━━━━━━━━━━━━━━━━\u001b[0m\u001b[37m\u001b[0m \u001b[1m53s\u001b[0m 321ms/step - accuracy: 0.5709 - loss: 1.1362 - val_accuracy: 0.5231 - val_loss: 1.2406 - learning_rate: 0.0010\n",
      "Epoch 10/100\n",
      "\u001b[1m164/164\u001b[0m \u001b[32m━━━━━━━━━━━━━━━━━━━━\u001b[0m\u001b[37m\u001b[0m \u001b[1m0s\u001b[0m 190us/step - accuracy: 0.5859 - loss: 1.2223 - val_accuracy: 0.5000 - val_loss: 1.3328 - learning_rate: 0.0010\n",
      "Epoch 11/100\n",
      "\u001b[1m164/164\u001b[0m \u001b[32m━━━━━━━━━━━━━━━━━━━━\u001b[0m\u001b[37m\u001b[0m \u001b[1m0s\u001b[0m 301ms/step - accuracy: 0.6044 - loss: 1.0642\n",
      "Epoch 11: ReduceLROnPlateau reducing learning rate to 0.00020000000949949026.\n",
      "\u001b[1m164/164\u001b[0m \u001b[32m━━━━━━━━━━━━━━━━━━━━\u001b[0m\u001b[37m\u001b[0m \u001b[1m52s\u001b[0m 316ms/step - accuracy: 0.6043 - loss: 1.0643 - val_accuracy: 0.5349 - val_loss: 1.2376 - learning_rate: 0.0010\n",
      "Epoch 12/100\n",
      "\u001b[1m164/164\u001b[0m \u001b[32m━━━━━━━━━━━━━━━━━━━━\u001b[0m\u001b[37m\u001b[0m \u001b[1m0s\u001b[0m 148us/step - accuracy: 0.5469 - loss: 1.1385 - val_accuracy: 0.5938 - val_loss: 1.3360 - learning_rate: 2.0000e-04\n",
      "Epoch 13/100\n",
      "\u001b[1m164/164\u001b[0m \u001b[32m━━━━━━━━━━━━━━━━━━━━\u001b[0m\u001b[37m\u001b[0m \u001b[1m53s\u001b[0m 322ms/step - accuracy: 0.6387 - loss: 0.9772 - val_accuracy: 0.5372 - val_loss: 1.3035 - learning_rate: 2.0000e-04\n",
      "Epoch 14/100\n",
      "\u001b[1m164/164\u001b[0m \u001b[32m━━━━━━━━━━━━━━━━━━━━\u001b[0m\u001b[37m\u001b[0m \u001b[1m0s\u001b[0m 221us/step - accuracy: 0.6719 - loss: 0.8853 - val_accuracy: 0.5625 - val_loss: 1.3821 - learning_rate: 2.0000e-04\n",
      "Epoch 15/100\n",
      "\u001b[1m164/164\u001b[0m \u001b[32m━━━━━━━━━━━━━━━━━━━━\u001b[0m\u001b[37m\u001b[0m \u001b[1m0s\u001b[0m 321ms/step - accuracy: 0.6725 - loss: 0.8965\n",
      "Epoch 15: ReduceLROnPlateau reducing learning rate to 4.0000001899898055e-05.\n",
      "\u001b[1m164/164\u001b[0m \u001b[32m━━━━━━━━━━━━━━━━━━━━\u001b[0m\u001b[37m\u001b[0m \u001b[1m56s\u001b[0m 337ms/step - accuracy: 0.6725 - loss: 0.8966 - val_accuracy: 0.5488 - val_loss: 1.2005 - learning_rate: 2.0000e-04\n",
      "Epoch 16/100\n",
      "\u001b[1m164/164\u001b[0m \u001b[32m━━━━━━━━━━━━━━━━━━━━\u001b[0m\u001b[37m\u001b[0m \u001b[1m0s\u001b[0m 209us/step - accuracy: 0.6562 - loss: 0.9593 - val_accuracy: 0.5625 - val_loss: 1.4584 - learning_rate: 4.0000e-05\n",
      "Epoch 17/100\n",
      "\u001b[1m164/164\u001b[0m \u001b[32m━━━━━━━━━━━━━━━━━━━━\u001b[0m\u001b[37m\u001b[0m \u001b[1m52s\u001b[0m 315ms/step - accuracy: 0.6805 - loss: 0.8655 - val_accuracy: 0.5526 - val_loss: 1.2126 - learning_rate: 4.0000e-05\n",
      "Epoch 18/100\n",
      "\u001b[1m  1/164\u001b[0m \u001b[37m━━━━━━━━━━━━━━━━━━━━\u001b[0m \u001b[1m49s\u001b[0m 305ms/step - accuracy: 0.7344 - loss: 0.7392\n",
      "Epoch 18: ReduceLROnPlateau reducing learning rate to 8.000000525498762e-06.\n",
      "\u001b[1m164/164\u001b[0m \u001b[32m━━━━━━━━━━━━━━━━━━━━\u001b[0m\u001b[37m\u001b[0m \u001b[1m0s\u001b[0m 227us/step - accuracy: 0.7344 - loss: 0.7392 - val_accuracy: 0.5625 - val_loss: 1.5853 - learning_rate: 4.0000e-05\n",
      "Epoch 19/100\n",
      "\u001b[1m164/164\u001b[0m \u001b[32m━━━━━━━━━━━━━━━━━━━━\u001b[0m\u001b[37m\u001b[0m \u001b[1m55s\u001b[0m 331ms/step - accuracy: 0.6952 - loss: 0.8396 - val_accuracy: 0.5564 - val_loss: 1.2150 - learning_rate: 8.0000e-06\n",
      "Epoch 20/100\n",
      "\u001b[1m164/164\u001b[0m \u001b[32m━━━━━━━━━━━━━━━━━━━━\u001b[0m\u001b[37m\u001b[0m \u001b[1m0s\u001b[0m 184us/step - accuracy: 0.6641 - loss: 0.8938 - val_accuracy: 0.5625 - val_loss: 1.6771 - learning_rate: 8.0000e-06\n",
      "Epoch 21/100\n",
      "\u001b[1m164/164\u001b[0m \u001b[32m━━━━━━━━━━━━━━━━━━━━\u001b[0m\u001b[37m\u001b[0m \u001b[1m0s\u001b[0m 308ms/step - accuracy: 0.6890 - loss: 0.8438\n",
      "Epoch 21: ReduceLROnPlateau reducing learning rate to 1.6000001778593287e-06.\n",
      "\u001b[1m164/164\u001b[0m \u001b[32m━━━━━━━━━━━━━━━━━━━━\u001b[0m\u001b[37m\u001b[0m \u001b[1m53s\u001b[0m 323ms/step - accuracy: 0.6890 - loss: 0.8438 - val_accuracy: 0.5583 - val_loss: 1.2076 - learning_rate: 8.0000e-06\n",
      "Epoch 22/100\n",
      "\u001b[1m164/164\u001b[0m \u001b[32m━━━━━━━━━━━━━━━━━━━━\u001b[0m\u001b[37m\u001b[0m \u001b[1m0s\u001b[0m 160us/step - accuracy: 0.7031 - loss: 0.8789 - val_accuracy: 0.5625 - val_loss: 1.6705 - learning_rate: 1.6000e-06\n",
      "Epoch 23/100\n",
      "\u001b[1m164/164\u001b[0m \u001b[32m━━━━━━━━━━━━━━━━━━━━\u001b[0m\u001b[37m\u001b[0m \u001b[1m53s\u001b[0m 323ms/step - accuracy: 0.6929 - loss: 0.8419 - val_accuracy: 0.5575 - val_loss: 1.2109 - learning_rate: 1.6000e-06\n",
      "Epoch 24/100\n",
      "\u001b[1m  1/164\u001b[0m \u001b[37m━━━━━━━━━━━━━━━━━━━━\u001b[0m \u001b[1m50s\u001b[0m 310ms/step - accuracy: 0.6797 - loss: 0.8654\n",
      "Epoch 24: ReduceLROnPlateau reducing learning rate to 3.200000264769187e-07.\n",
      "\u001b[1m164/164\u001b[0m \u001b[32m━━━━━━━━━━━━━━━━━━━━\u001b[0m\u001b[37m\u001b[0m \u001b[1m0s\u001b[0m 182us/step - accuracy: 0.6797 - loss: 0.8654 - val_accuracy: 0.5625 - val_loss: 1.6963 - learning_rate: 1.6000e-06\n",
      "Epoch 25/100\n",
      "\u001b[1m164/164\u001b[0m \u001b[32m━━━━━━━━━━━━━━━━━━━━\u001b[0m\u001b[37m\u001b[0m \u001b[1m53s\u001b[0m 321ms/step - accuracy: 0.6955 - loss: 0.8315 - val_accuracy: 0.5577 - val_loss: 1.2115 - learning_rate: 3.2000e-07\n",
      "Epoch 26/100\n",
      "\u001b[1m164/164\u001b[0m \u001b[32m━━━━━━━━━━━━━━━━━━━━\u001b[0m\u001b[37m\u001b[0m \u001b[1m0s\u001b[0m 172us/step - accuracy: 0.7344 - loss: 0.7921 - val_accuracy: 0.5625 - val_loss: 1.7001 - learning_rate: 3.2000e-07\n",
      "Epoch 27/100\n",
      "\u001b[1m164/164\u001b[0m \u001b[32m━━━━━━━━━━━━━━━━━━━━\u001b[0m\u001b[37m\u001b[0m \u001b[1m0s\u001b[0m 294ms/step - accuracy: 0.6896 - loss: 0.8419\n",
      "Epoch 27: ReduceLROnPlateau reducing learning rate to 6.400000529538374e-08.\n",
      "\u001b[1m164/164\u001b[0m \u001b[32m━━━━━━━━━━━━━━━━━━━━\u001b[0m\u001b[37m\u001b[0m \u001b[1m51s\u001b[0m 309ms/step - accuracy: 0.6896 - loss: 0.8419 - val_accuracy: 0.5575 - val_loss: 1.2098 - learning_rate: 3.2000e-07\n",
      "Epoch 28/100\n",
      "\u001b[1m164/164\u001b[0m \u001b[32m━━━━━━━━━━━━━━━━━━━━\u001b[0m\u001b[37m\u001b[0m \u001b[1m0s\u001b[0m 147us/step - accuracy: 0.6094 - loss: 0.9346 - val_accuracy: 0.5625 - val_loss: 1.6988 - learning_rate: 6.4000e-08\n",
      "Epoch 29/100\n",
      "\u001b[1m164/164\u001b[0m \u001b[32m━━━━━━━━━━━━━━━━━━━━\u001b[0m\u001b[37m\u001b[0m \u001b[1m51s\u001b[0m 308ms/step - accuracy: 0.6932 - loss: 0.8418 - val_accuracy: 0.5566 - val_loss: 1.2120 - learning_rate: 6.4000e-08\n",
      "Epoch 30/100\n",
      "\u001b[1m  1/164\u001b[0m \u001b[37m━━━━━━━━━━━━━━━━━━━━\u001b[0m \u001b[1m44s\u001b[0m 272ms/step - accuracy: 0.7188 - loss: 0.8115\n",
      "Epoch 30: ReduceLROnPlateau reducing learning rate to 1.2800001059076749e-08.\n",
      "\u001b[1m164/164\u001b[0m \u001b[32m━━━━━━━━━━━━━━━━━━━━\u001b[0m\u001b[37m\u001b[0m \u001b[1m0s\u001b[0m 153us/step - accuracy: 0.7188 - loss: 0.8115 - val_accuracy: 0.5625 - val_loss: 1.6941 - learning_rate: 6.4000e-08\n",
      "Epoch 31/100\n",
      "\u001b[1m164/164\u001b[0m \u001b[32m━━━━━━━━━━━━━━━━━━━━\u001b[0m\u001b[37m\u001b[0m \u001b[1m50s\u001b[0m 303ms/step - accuracy: 0.6956 - loss: 0.8408 - val_accuracy: 0.5575 - val_loss: 1.2076 - learning_rate: 1.2800e-08\n",
      "Epoch 32/100\n",
      "\u001b[1m164/164\u001b[0m \u001b[32m━━━━━━━━━━━━━━━━━━━━\u001b[0m\u001b[37m\u001b[0m \u001b[1m0s\u001b[0m 202us/step - accuracy: 0.6797 - loss: 0.8574 - val_accuracy: 0.5625 - val_loss: 1.5500 - learning_rate: 1.2800e-08\n",
      "Epoch 33/100\n",
      "\u001b[1m164/164\u001b[0m \u001b[32m━━━━━━━━━━━━━━━━━━━━\u001b[0m\u001b[37m\u001b[0m \u001b[1m0s\u001b[0m 286ms/step - accuracy: 0.6945 - loss: 0.8381\n",
      "Epoch 33: ReduceLROnPlateau reducing learning rate to 2.5600002118153498e-09.\n",
      "\u001b[1m164/164\u001b[0m \u001b[32m━━━━━━━━━━━━━━━━━━━━\u001b[0m\u001b[37m\u001b[0m \u001b[1m50s\u001b[0m 300ms/step - accuracy: 0.6946 - loss: 0.8381 - val_accuracy: 0.5583 - val_loss: 1.2093 - learning_rate: 1.2800e-08\n",
      "Epoch 34/100\n",
      "\u001b[1m164/164\u001b[0m \u001b[32m━━━━━━━━━━━━━━━━━━━━\u001b[0m\u001b[37m\u001b[0m \u001b[1m0s\u001b[0m 135us/step - accuracy: 0.7109 - loss: 0.7970 - val_accuracy: 0.5625 - val_loss: 1.6490 - learning_rate: 2.5600e-09\n",
      "Epoch 35/100\n",
      "\u001b[1m164/164\u001b[0m \u001b[32m━━━━━━━━━━━━━━━━━━━━\u001b[0m\u001b[37m\u001b[0m \u001b[1m49s\u001b[0m 299ms/step - accuracy: 0.6881 - loss: 0.8516 - val_accuracy: 0.5566 - val_loss: 1.2104 - learning_rate: 2.5600e-09\n",
      "Epoch 36/100\n",
      "\u001b[1m  1/164\u001b[0m \u001b[37m━━━━━━━━━━━━━━━━━━━━\u001b[0m \u001b[1m44s\u001b[0m 272ms/step - accuracy: 0.6484 - loss: 0.9520\n",
      "Epoch 36: ReduceLROnPlateau reducing learning rate to 5.1200004236307e-10.\n",
      "\u001b[1m164/164\u001b[0m \u001b[32m━━━━━━━━━━━━━━━━━━━━\u001b[0m\u001b[37m\u001b[0m \u001b[1m0s\u001b[0m 169us/step - accuracy: 0.6484 - loss: 0.9520 - val_accuracy: 0.5625 - val_loss: 1.6867 - learning_rate: 2.5600e-09\n",
      "Epoch 37/100\n",
      "\u001b[1m164/164\u001b[0m \u001b[32m━━━━━━━━━━━━━━━━━━━━\u001b[0m\u001b[37m\u001b[0m \u001b[1m49s\u001b[0m 295ms/step - accuracy: 0.6938 - loss: 0.8341 - val_accuracy: 0.5579 - val_loss: 1.2099 - learning_rate: 5.1200e-10\n",
      "Epoch 38/100\n",
      "\u001b[1m164/164\u001b[0m \u001b[32m━━━━━━━━━━━━━━━━━━━━\u001b[0m\u001b[37m\u001b[0m \u001b[1m0s\u001b[0m 152us/step - accuracy: 0.6875 - loss: 0.8847 - val_accuracy: 0.5625 - val_loss: 1.6807 - learning_rate: 5.1200e-10\n",
      "Epoch 39/100\n",
      "\u001b[1m164/164\u001b[0m \u001b[32m━━━━━━━━━━━━━━━━━━━━\u001b[0m\u001b[37m\u001b[0m \u001b[1m0s\u001b[0m 299ms/step - accuracy: 0.6986 - loss: 0.8358\n",
      "Epoch 39: ReduceLROnPlateau reducing learning rate to 1.0240001069306004e-10.\n",
      "\u001b[1m164/164\u001b[0m \u001b[32m━━━━━━━━━━━━━━━━━━━━\u001b[0m\u001b[37m\u001b[0m \u001b[1m52s\u001b[0m 315ms/step - accuracy: 0.6986 - loss: 0.8358 - val_accuracy: 0.5562 - val_loss: 1.2116 - learning_rate: 5.1200e-10\n",
      "Epoch 40/100\n",
      "\u001b[1m164/164\u001b[0m \u001b[32m━━━━━━━━━━━━━━━━━━━━\u001b[0m\u001b[37m\u001b[0m \u001b[1m0s\u001b[0m 221us/step - accuracy: 0.7109 - loss: 0.8845 - val_accuracy: 0.5625 - val_loss: 1.6912 - learning_rate: 1.0240e-10\n",
      "Epoch 41/100\n",
      "\u001b[1m164/164\u001b[0m \u001b[32m━━━━━━━━━━━━━━━━━━━━\u001b[0m\u001b[37m\u001b[0m \u001b[1m48s\u001b[0m 289ms/step - accuracy: 0.6931 - loss: 0.8392 - val_accuracy: 0.5572 - val_loss: 1.2124 - learning_rate: 1.0240e-10\n",
      "Epoch 42/100\n",
      "\u001b[1m  1/164\u001b[0m \u001b[37m━━━━━━━━━━━━━━━━━━━━\u001b[0m \u001b[1m44s\u001b[0m 273ms/step - accuracy: 0.7578 - loss: 0.7023\n",
      "Epoch 42: ReduceLROnPlateau reducing learning rate to 2.0480002416167767e-11.\n",
      "\u001b[1m164/164\u001b[0m \u001b[32m━━━━━━━━━━━━━━━━━━━━\u001b[0m\u001b[37m\u001b[0m \u001b[1m0s\u001b[0m 160us/step - accuracy: 0.7578 - loss: 0.7023 - val_accuracy: 0.5625 - val_loss: 1.6970 - learning_rate: 1.0240e-10\n",
      "Epoch 43/100\n",
      "\u001b[1m164/164\u001b[0m \u001b[32m━━━━━━━━━━━━━━━━━━━━\u001b[0m\u001b[37m\u001b[0m \u001b[1m49s\u001b[0m 296ms/step - accuracy: 0.6887 - loss: 0.8416 - val_accuracy: 0.5568 - val_loss: 1.2115 - learning_rate: 2.0480e-11\n",
      "Epoch 44/100\n",
      "\u001b[1m164/164\u001b[0m \u001b[32m━━━━━━━━━━━━━━━━━━━━\u001b[0m\u001b[37m\u001b[0m \u001b[1m0s\u001b[0m 147us/step - accuracy: 0.7500 - loss: 0.7536 - val_accuracy: 0.5625 - val_loss: 1.6762 - learning_rate: 2.0480e-11\n",
      "Epoch 45/100\n",
      "\u001b[1m164/164\u001b[0m \u001b[32m━━━━━━━━━━━━━━━━━━━━\u001b[0m\u001b[37m\u001b[0m \u001b[1m0s\u001b[0m 279ms/step - accuracy: 0.6962 - loss: 0.8461\n",
      "Epoch 45: ReduceLROnPlateau reducing learning rate to 4.096000622011431e-12.\n",
      "\u001b[1m164/164\u001b[0m \u001b[32m━━━━━━━━━━━━━━━━━━━━\u001b[0m\u001b[37m\u001b[0m \u001b[1m48s\u001b[0m 294ms/step - accuracy: 0.6962 - loss: 0.8460 - val_accuracy: 0.5570 - val_loss: 1.2111 - learning_rate: 2.0480e-11\n",
      "Epoch 46/100\n",
      "\u001b[1m164/164\u001b[0m \u001b[32m━━━━━━━━━━━━━━━━━━━━\u001b[0m\u001b[37m\u001b[0m \u001b[1m0s\u001b[0m 166us/step - accuracy: 0.6328 - loss: 0.9729 - val_accuracy: 0.5625 - val_loss: 1.6795 - learning_rate: 4.0960e-12\n",
      "Epoch 47/100\n",
      "\u001b[1m164/164\u001b[0m \u001b[32m━━━━━━━━━━━━━━━━━━━━\u001b[0m\u001b[37m\u001b[0m \u001b[1m53s\u001b[0m 321ms/step - accuracy: 0.6946 - loss: 0.8349 - val_accuracy: 0.5570 - val_loss: 1.2129 - learning_rate: 4.0960e-12\n",
      "Epoch 48/100\n",
      "\u001b[1m  1/164\u001b[0m \u001b[37m━━━━━━━━━━━━━━━━━━━━\u001b[0m \u001b[1m43s\u001b[0m 267ms/step - accuracy: 0.6484 - loss: 1.0066\n",
      "Epoch 48: ReduceLROnPlateau reducing learning rate to 8.192000897078167e-13.\n",
      "\u001b[1m164/164\u001b[0m \u001b[32m━━━━━━━━━━━━━━━━━━━━\u001b[0m\u001b[37m\u001b[0m \u001b[1m0s\u001b[0m 141us/step - accuracy: 0.6484 - loss: 1.0066 - val_accuracy: 0.5625 - val_loss: 1.6915 - learning_rate: 4.0960e-12\n",
      "Epoch 49/100\n",
      "\u001b[1m164/164\u001b[0m \u001b[32m━━━━━━━━━━━━━━━━━━━━\u001b[0m\u001b[37m\u001b[0m \u001b[1m46s\u001b[0m 281ms/step - accuracy: 0.6975 - loss: 0.8257 - val_accuracy: 0.5562 - val_loss: 1.2145 - learning_rate: 8.1920e-13\n",
      "Epoch 50/100\n",
      "\u001b[1m164/164\u001b[0m \u001b[32m━━━━━━━━━━━━━━━━━━━━\u001b[0m\u001b[37m\u001b[0m \u001b[1m0s\u001b[0m 141us/step - accuracy: 0.6797 - loss: 0.9341 - val_accuracy: 0.5625 - val_loss: 1.6938 - learning_rate: 8.1920e-13\n",
      "Epoch 51/100\n",
      "\u001b[1m164/164\u001b[0m \u001b[32m━━━━━━━━━━━━━━━━━━━━\u001b[0m\u001b[37m\u001b[0m \u001b[1m0s\u001b[0m 268ms/step - accuracy: 0.6931 - loss: 0.8410\n",
      "Epoch 51: ReduceLROnPlateau reducing learning rate to 1.6384001360475466e-13.\n",
      "\u001b[1m164/164\u001b[0m \u001b[32m━━━━━━━━━━━━━━━━━━━━\u001b[0m\u001b[37m\u001b[0m \u001b[1m46s\u001b[0m 281ms/step - accuracy: 0.6931 - loss: 0.8410 - val_accuracy: 0.5575 - val_loss: 1.2116 - learning_rate: 8.1920e-13\n",
      "Epoch 52/100\n",
      "\u001b[1m164/164\u001b[0m \u001b[32m━━━━━━━━━━━━━━━━━━━━\u001b[0m\u001b[37m\u001b[0m \u001b[1m0s\u001b[0m 172us/step - accuracy: 0.7734 - loss: 0.7521 - val_accuracy: 0.5625 - val_loss: 1.6954 - learning_rate: 1.6384e-13\n",
      "Epoch 53/100\n",
      "\u001b[1m164/164\u001b[0m \u001b[32m━━━━━━━━━━━━━━━━━━━━\u001b[0m\u001b[37m\u001b[0m \u001b[1m46s\u001b[0m 280ms/step - accuracy: 0.6871 - loss: 0.8474 - val_accuracy: 0.5574 - val_loss: 1.2103 - learning_rate: 1.6384e-13\n",
      "Epoch 54/100\n",
      "\u001b[1m  1/164\u001b[0m \u001b[37m━━━━━━━━━━━━━━━━━━━━\u001b[0m \u001b[1m43s\u001b[0m 266ms/step - accuracy: 0.7109 - loss: 0.7731\n",
      "Epoch 54: ReduceLROnPlateau reducing learning rate to 3.2768002178849846e-14.\n",
      "\u001b[1m164/164\u001b[0m \u001b[32m━━━━━━━━━━━━━━━━━━━━\u001b[0m\u001b[37m\u001b[0m \u001b[1m0s\u001b[0m 172us/step - accuracy: 0.7109 - loss: 0.7731 - val_accuracy: 0.5625 - val_loss: 1.6949 - learning_rate: 1.6384e-13\n",
      "Epoch 55/100\n",
      "\u001b[1m164/164\u001b[0m \u001b[32m━━━━━━━━━━━━━━━━━━━━\u001b[0m\u001b[37m\u001b[0m \u001b[1m46s\u001b[0m 279ms/step - accuracy: 0.6919 - loss: 0.8388 - val_accuracy: 0.5572 - val_loss: 1.2125 - learning_rate: 3.2768e-14\n",
      "Epoch 56/100\n",
      "\u001b[1m164/164\u001b[0m \u001b[32m━━━━━━━━━━━━━━━━━━━━\u001b[0m\u001b[37m\u001b[0m \u001b[1m0s\u001b[0m 160us/step - accuracy: 0.7031 - loss: 0.8582 - val_accuracy: 0.5625 - val_loss: 1.6956 - learning_rate: 3.2768e-14\n",
      "Epoch 57/100\n",
      "\u001b[1m164/164\u001b[0m \u001b[32m━━━━━━━━━━━━━━━━━━━━\u001b[0m\u001b[37m\u001b[0m \u001b[1m0s\u001b[0m 267ms/step - accuracy: 0.6908 - loss: 0.8393\n",
      "Epoch 57: ReduceLROnPlateau reducing learning rate to 6.553600300244697e-15.\n",
      "\u001b[1m164/164\u001b[0m \u001b[32m━━━━━━━━━━━━━━━━━━━━\u001b[0m\u001b[37m\u001b[0m \u001b[1m46s\u001b[0m 281ms/step - accuracy: 0.6909 - loss: 0.8393 - val_accuracy: 0.5570 - val_loss: 1.2121 - learning_rate: 3.2768e-14\n",
      "Epoch 58/100\n",
      "\u001b[1m164/164\u001b[0m \u001b[32m━━━━━━━━━━━━━━━━━━━━\u001b[0m\u001b[37m\u001b[0m \u001b[1m0s\u001b[0m 178us/step - accuracy: 0.7500 - loss: 0.7666 - val_accuracy: 0.5625 - val_loss: 1.6955 - learning_rate: 6.5536e-15\n",
      "Epoch 59/100\n",
      "\u001b[1m164/164\u001b[0m \u001b[32m━━━━━━━━━━━━━━━━━━━━\u001b[0m\u001b[37m\u001b[0m \u001b[1m46s\u001b[0m 280ms/step - accuracy: 0.6834 - loss: 0.8495 - val_accuracy: 0.5570 - val_loss: 1.2099 - learning_rate: 6.5536e-15\n",
      "Epoch 60/100\n",
      "\u001b[1m  1/164\u001b[0m \u001b[37m━━━━━━━━━━━━━━━━━━━━\u001b[0m \u001b[1m44s\u001b[0m 270ms/step - accuracy: 0.6953 - loss: 0.8387\n",
      "Epoch 60: ReduceLROnPlateau reducing learning rate to 1.3107200431082805e-15.\n",
      "\u001b[1m164/164\u001b[0m \u001b[32m━━━━━━━━━━━━━━━━━━━━\u001b[0m\u001b[37m\u001b[0m \u001b[1m0s\u001b[0m 141us/step - accuracy: 0.6953 - loss: 0.8387 - val_accuracy: 0.5625 - val_loss: 1.6168 - learning_rate: 6.5536e-15\n",
      "Epoch 61/100\n",
      "\u001b[1m164/164\u001b[0m \u001b[32m━━━━━━━━━━━━━━━━━━━━\u001b[0m\u001b[37m\u001b[0m \u001b[1m48s\u001b[0m 293ms/step - accuracy: 0.6936 - loss: 0.8400 - val_accuracy: 0.5568 - val_loss: 1.2113 - learning_rate: 1.3107e-15\n",
      "Epoch 62/100\n",
      "\u001b[1m164/164\u001b[0m \u001b[32m━━━━━━━━━━━━━━━━━━━━\u001b[0m\u001b[37m\u001b[0m \u001b[1m0s\u001b[0m 184us/step - accuracy: 0.7109 - loss: 0.8086 - val_accuracy: 0.5625 - val_loss: 1.6797 - learning_rate: 1.3107e-15\n",
      "Epoch 63/100\n",
      "\u001b[1m164/164\u001b[0m \u001b[32m━━━━━━━━━━━━━━━━━━━━\u001b[0m\u001b[37m\u001b[0m \u001b[1m0s\u001b[0m 273ms/step - accuracy: 0.6946 - loss: 0.8358\n",
      "Epoch 63: ReduceLROnPlateau reducing learning rate to 2.6214401285682084e-16.\n",
      "\u001b[1m164/164\u001b[0m \u001b[32m━━━━━━━━━━━━━━━━━━━━\u001b[0m\u001b[37m\u001b[0m \u001b[1m47s\u001b[0m 286ms/step - accuracy: 0.6945 - loss: 0.8358 - val_accuracy: 0.5570 - val_loss: 1.2128 - learning_rate: 1.3107e-15\n",
      "Epoch 64/100\n",
      "\u001b[1m164/164\u001b[0m \u001b[32m━━━━━━━━━━━━━━━━━━━━\u001b[0m\u001b[37m\u001b[0m \u001b[1m0s\u001b[0m 153us/step - accuracy: 0.6797 - loss: 0.8553 - val_accuracy: 0.5625 - val_loss: 1.6894 - learning_rate: 2.6214e-16\n",
      "Epoch 65/100\n",
      "\u001b[1m164/164\u001b[0m \u001b[32m━━━━━━━━━━━━━━━━━━━━\u001b[0m\u001b[37m\u001b[0m \u001b[1m46s\u001b[0m 279ms/step - accuracy: 0.6936 - loss: 0.8370 - val_accuracy: 0.5566 - val_loss: 1.2126 - learning_rate: 2.6214e-16\n",
      "Epoch 66/100\n",
      "\u001b[1m  1/164\u001b[0m \u001b[37m━━━━━━━━━━━━━━━━━━━━\u001b[0m \u001b[1m42s\u001b[0m 263ms/step - accuracy: 0.7969 - loss: 0.6847\n",
      "Epoch 66: ReduceLROnPlateau reducing learning rate to 5.2428803630155353e-17.\n",
      "\u001b[1m164/164\u001b[0m \u001b[32m━━━━━━━━━━━━━━━━━━━━\u001b[0m\u001b[37m\u001b[0m \u001b[1m0s\u001b[0m 160us/step - accuracy: 0.7969 - loss: 0.6847 - val_accuracy: 0.5625 - val_loss: 1.6952 - learning_rate: 2.6214e-16\n",
      "Epoch 67/100\n",
      "\u001b[1m164/164\u001b[0m \u001b[32m━━━━━━━━━━━━━━━━━━━━\u001b[0m\u001b[37m\u001b[0m \u001b[1m46s\u001b[0m 281ms/step - accuracy: 0.6919 - loss: 0.8385 - val_accuracy: 0.5574 - val_loss: 1.2122 - learning_rate: 5.2429e-17\n",
      "Epoch 68/100\n",
      "\u001b[1m164/164\u001b[0m \u001b[32m━━━━━━━━━━━━━━━━━━━━\u001b[0m\u001b[37m\u001b[0m \u001b[1m0s\u001b[0m 147us/step - accuracy: 0.7031 - loss: 0.7368 - val_accuracy: 0.5625 - val_loss: 1.6959 - learning_rate: 5.2429e-17\n",
      "Epoch 69/100\n",
      "\u001b[1m164/164\u001b[0m \u001b[32m━━━━━━━━━━━━━━━━━━━━\u001b[0m\u001b[37m\u001b[0m \u001b[1m0s\u001b[0m 266ms/step - accuracy: 0.6914 - loss: 0.8360\n",
      "Epoch 69: ReduceLROnPlateau reducing learning rate to 1.0485760990728867e-17.\n",
      "\u001b[1m164/164\u001b[0m \u001b[32m━━━━━━━━━━━━━━━━━━━━\u001b[0m\u001b[37m\u001b[0m \u001b[1m46s\u001b[0m 280ms/step - accuracy: 0.6914 - loss: 0.8360 - val_accuracy: 0.5577 - val_loss: 1.2109 - learning_rate: 5.2429e-17\n",
      "Epoch 70/100\n",
      "\u001b[1m164/164\u001b[0m \u001b[32m━━━━━━━━━━━━━━━━━━━━\u001b[0m\u001b[37m\u001b[0m \u001b[1m0s\u001b[0m 147us/step - accuracy: 0.6328 - loss: 0.9364 - val_accuracy: 0.5625 - val_loss: 1.6786 - learning_rate: 1.0486e-17\n",
      "Epoch 71/100\n",
      "\u001b[1m164/164\u001b[0m \u001b[32m━━━━━━━━━━━━━━━━━━━━\u001b[0m\u001b[37m\u001b[0m \u001b[1m47s\u001b[0m 285ms/step - accuracy: 0.6883 - loss: 0.8444 - val_accuracy: 0.5577 - val_loss: 1.2115 - learning_rate: 1.0486e-17\n",
      "Epoch 72/100\n",
      "\u001b[1m  1/164\u001b[0m \u001b[37m━━━━━━━━━━━━━━━━━━━━\u001b[0m \u001b[1m42s\u001b[0m 260ms/step - accuracy: 0.7188 - loss: 0.8593\n",
      "Epoch 72: ReduceLROnPlateau reducing learning rate to 2.097152165058549e-18.\n",
      "\u001b[1m164/164\u001b[0m \u001b[32m━━━━━━━━━━━━━━━━━━━━\u001b[0m\u001b[37m\u001b[0m \u001b[1m0s\u001b[0m 153us/step - accuracy: 0.7188 - loss: 0.8593 - val_accuracy: 0.5625 - val_loss: 1.6964 - learning_rate: 1.0486e-17\n",
      "Epoch 73/100\n",
      "\u001b[1m164/164\u001b[0m \u001b[32m━━━━━━━━━━━━━━━━━━━━\u001b[0m\u001b[37m\u001b[0m \u001b[1m48s\u001b[0m 294ms/step - accuracy: 0.6878 - loss: 0.8475 - val_accuracy: 0.5570 - val_loss: 1.2119 - learning_rate: 2.0972e-18\n",
      "Epoch 74/100\n",
      "\u001b[1m164/164\u001b[0m \u001b[32m━━━━━━━━━━━━━━━━━━━━\u001b[0m\u001b[37m\u001b[0m \u001b[1m0s\u001b[0m 153us/step - accuracy: 0.6953 - loss: 0.7816 - val_accuracy: 0.5625 - val_loss: 1.6982 - learning_rate: 2.0972e-18\n",
      "Epoch 75/100\n",
      "\u001b[1m164/164\u001b[0m \u001b[32m━━━━━━━━━━━━━━━━━━━━\u001b[0m\u001b[37m\u001b[0m \u001b[1m0s\u001b[0m 284ms/step - accuracy: 0.6908 - loss: 0.8373\n",
      "Epoch 75: ReduceLROnPlateau reducing learning rate to 4.19430449555322e-19.\n",
      "\u001b[1m164/164\u001b[0m \u001b[32m━━━━━━━━━━━━━━━━━━━━\u001b[0m\u001b[37m\u001b[0m \u001b[1m49s\u001b[0m 298ms/step - accuracy: 0.6908 - loss: 0.8373 - val_accuracy: 0.5568 - val_loss: 1.2120 - learning_rate: 2.0972e-18\n",
      "Epoch 76/100\n",
      "\u001b[1m164/164\u001b[0m \u001b[32m━━━━━━━━━━━━━━━━━━━━\u001b[0m\u001b[37m\u001b[0m \u001b[1m0s\u001b[0m 202us/step - accuracy: 0.6953 - loss: 0.8697 - val_accuracy: 0.5625 - val_loss: 1.6956 - learning_rate: 4.1943e-19\n",
      "Epoch 77/100\n",
      "\u001b[1m164/164\u001b[0m \u001b[32m━━━━━━━━━━━━━━━━━━━━\u001b[0m\u001b[37m\u001b[0m \u001b[1m49s\u001b[0m 300ms/step - accuracy: 0.6880 - loss: 0.8506 - val_accuracy: 0.5577 - val_loss: 1.2119 - learning_rate: 4.1943e-19\n",
      "Epoch 78/100\n",
      "\u001b[1m  1/164\u001b[0m \u001b[37m━━━━━━━━━━━━━━━━━━━━\u001b[0m \u001b[1m45s\u001b[0m 282ms/step - accuracy: 0.7109 - loss: 0.7724\n",
      "Epoch 78: ReduceLROnPlateau reducing learning rate to 8.388609197901593e-20.\n",
      "\u001b[1m164/164\u001b[0m \u001b[32m━━━━━━━━━━━━━━━━━━━━\u001b[0m\u001b[37m\u001b[0m \u001b[1m0s\u001b[0m 221us/step - accuracy: 0.7109 - loss: 0.7724 - val_accuracy: 0.5625 - val_loss: 1.6968 - learning_rate: 4.1943e-19\n",
      "Epoch 79/100\n",
      "\u001b[1m164/164\u001b[0m \u001b[32m━━━━━━━━━━━━━━━━━━━━\u001b[0m\u001b[37m\u001b[0m \u001b[1m48s\u001b[0m 294ms/step - accuracy: 0.6927 - loss: 0.8386 - val_accuracy: 0.5568 - val_loss: 1.2114 - learning_rate: 8.3886e-20\n",
      "Epoch 80/100\n",
      "\u001b[1m164/164\u001b[0m \u001b[32m━━━━━━━━━━━━━━━━━━━━\u001b[0m\u001b[37m\u001b[0m \u001b[1m0s\u001b[0m 184us/step - accuracy: 0.6953 - loss: 0.8657 - val_accuracy: 0.5625 - val_loss: 1.6941 - learning_rate: 8.3886e-20\n",
      "Epoch 81/100\n",
      "\u001b[1m164/164\u001b[0m \u001b[32m━━━━━━━━━━━━━━━━━━━━\u001b[0m\u001b[37m\u001b[0m \u001b[1m0s\u001b[0m 295ms/step - accuracy: 0.6945 - loss: 0.8375\n",
      "Epoch 81: ReduceLROnPlateau reducing learning rate to 1.6777218395803187e-20.\n",
      "\u001b[1m164/164\u001b[0m \u001b[32m━━━━━━━━━━━━━━━━━━━━\u001b[0m\u001b[37m\u001b[0m \u001b[1m51s\u001b[0m 309ms/step - accuracy: 0.6945 - loss: 0.8375 - val_accuracy: 0.5570 - val_loss: 1.2110 - learning_rate: 8.3886e-20\n",
      "Epoch 82/100\n",
      "\u001b[1m164/164\u001b[0m \u001b[32m━━━━━━━━━━━━━━━━━━━━\u001b[0m\u001b[37m\u001b[0m \u001b[1m0s\u001b[0m 233us/step - accuracy: 0.7500 - loss: 0.7343 - val_accuracy: 0.5625 - val_loss: 1.6763 - learning_rate: 1.6777e-20\n",
      "Epoch 83/100\n",
      "\u001b[1m164/164\u001b[0m \u001b[32m━━━━━━━━━━━━━━━━━━━━\u001b[0m\u001b[37m\u001b[0m \u001b[1m48s\u001b[0m 289ms/step - accuracy: 0.6954 - loss: 0.8335 - val_accuracy: 0.5566 - val_loss: 1.2138 - learning_rate: 1.6777e-20\n",
      "Epoch 84/100\n",
      "\u001b[1m  1/164\u001b[0m \u001b[37m━━━━━━━━━━━━━━━━━━━━\u001b[0m \u001b[1m42s\u001b[0m 258ms/step - accuracy: 0.6250 - loss: 0.9185\n",
      "Epoch 84: ReduceLROnPlateau reducing learning rate to 3.3554436145371517e-21.\n",
      "\u001b[1m164/164\u001b[0m \u001b[32m━━━━━━━━━━━━━━━━━━━━\u001b[0m\u001b[37m\u001b[0m \u001b[1m0s\u001b[0m 153us/step - accuracy: 0.6250 - loss: 0.9185 - val_accuracy: 0.5625 - val_loss: 1.6912 - learning_rate: 1.6777e-20\n",
      "Epoch 85/100\n",
      "\u001b[1m164/164\u001b[0m \u001b[32m━━━━━━━━━━━━━━━━━━━━\u001b[0m\u001b[37m\u001b[0m \u001b[1m49s\u001b[0m 295ms/step - accuracy: 0.6985 - loss: 0.8382 - val_accuracy: 0.5574 - val_loss: 1.2112 - learning_rate: 3.3554e-21\n",
      "Epoch 86/100\n",
      "\u001b[1m164/164\u001b[0m \u001b[32m━━━━━━━━━━━━━━━━━━━━\u001b[0m\u001b[37m\u001b[0m \u001b[1m0s\u001b[0m 135us/step - accuracy: 0.7109 - loss: 0.7693 - val_accuracy: 0.5625 - val_loss: 1.6933 - learning_rate: 3.3554e-21\n",
      "Epoch 87/100\n",
      "\u001b[1m142/164\u001b[0m \u001b[32m━━━━━━━━━━━━━━━━━\u001b[0m\u001b[37m━━━\u001b[0m \u001b[1m6s\u001b[0m 285ms/step - accuracy: 0.6913 - loss: 0.8360"
     ]
    }
   ],
   "source": [
    "history = model.fit(train_set,\n",
    "                                steps_per_epoch=train_set.n//train_set.batch_size,\n",
    "                                epochs=epochs,\n",
    "                                validation_data = test_set,\n",
    "                                validation_steps = test_set.n//test_set.batch_size,\n",
    "                                callbacks=callbacks_list\n",
    "                                )\n",
    "\n",
    "model.save(Path(os.getcwd()) / \"model/cnn\"/ \"cnn_model_final.h5\")"
   ]
  },
  {
   "cell_type": "code",
   "execution_count": null,
   "id": "9f6dbaf0-0979-48b9-a044-7602bd4a4d26",
   "metadata": {},
   "outputs": [],
   "source": [
    "# Save plots\n",
    "plots_path = Path(os.getcwd()) / \"model\" / \"cnn\"\n",
    "plt.style.use('dark_background')\n",
    "\n",
    "# Loss plot\n",
    "plt.figure(figsize=(10, 6))\n",
    "plt.ylabel('Loss', fontsize=16)\n",
    "plt.plot(history.history['loss'], label='Training Loss')\n",
    "plt.plot(history.history['val_loss'], label='Validation Loss')\n",
    "plt.legend(loc='upper right')\n",
    "plt.title('CNN Loss')\n",
    "plt.savefig(plots_path / \"CNN_Loss.png\")\n",
    "plt.show()\n",
    "\n",
    "# Accuracy plot\n",
    "plt.figure(figsize=(10, 6))\n",
    "plt.ylabel('Accuracy', fontsize=16)\n",
    "plt.plot(history.history['accuracy'], label='Training Accuracy')\n",
    "plt.plot(history.history['val_accuracy'], label='Validation Accuracy')\n",
    "plt.legend(loc='lower right')\n",
    "plt.title('CNN Accuracy')\n",
    "plt.savefig(plots_path / \"CNN_Accuracy.png\")\n",
    "plt.show()\n"
   ]
  },
  {
   "cell_type": "code",
   "execution_count": null,
   "id": "198b5bb3-c794-4bac-a982-551f5cd950ed",
   "metadata": {},
   "outputs": [],
   "source": []
  },
  {
   "cell_type": "code",
   "execution_count": null,
   "id": "faaee319-2548-437f-9380-77c805ac8b44",
   "metadata": {},
   "outputs": [],
   "source": []
  }
 ],
 "metadata": {
  "kernelspec": {
   "display_name": "Python 3 (ipykernel)",
   "language": "python",
   "name": "python3"
  },
  "language_info": {
   "codemirror_mode": {
    "name": "ipython",
    "version": 3
   },
   "file_extension": ".py",
   "mimetype": "text/x-python",
   "name": "python",
   "nbconvert_exporter": "python",
   "pygments_lexer": "ipython3",
   "version": "3.12.1"
  }
 },
 "nbformat": 4,
 "nbformat_minor": 5
}
