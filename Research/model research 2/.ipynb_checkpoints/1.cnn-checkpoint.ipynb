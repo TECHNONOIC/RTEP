{
 "cells": [
  {
   "cell_type": "code",
   "execution_count": 1,
   "metadata": {},
   "outputs": [],
   "source": [
    "import os"
   ]
  },
  {
   "cell_type": "code",
   "execution_count": 2,
   "metadata": {},
   "outputs": [
    {
     "data": {
      "text/plain": [
       "'D:\\\\Desktop\\\\Deep Learning\\\\Face expression Classification\\\\Research'"
      ]
     },
     "execution_count": 2,
     "metadata": {},
     "output_type": "execute_result"
    }
   ],
   "source": [
    "%pwd"
   ]
  },
  {
   "cell_type": "code",
   "execution_count": 3,
   "metadata": {},
   "outputs": [],
   "source": [
    "os.chdir(\"../\")"
   ]
  },
  {
   "cell_type": "code",
   "execution_count": 4,
   "metadata": {},
   "outputs": [
    {
     "data": {
      "text/plain": [
       "'D:\\\\Desktop\\\\Deep Learning\\\\Face expression Classification'"
      ]
     },
     "execution_count": 4,
     "metadata": {},
     "output_type": "execute_result"
    }
   ],
   "source": [
    "%pwd"
   ]
  },
  {
   "cell_type": "code",
   "execution_count": 5,
   "metadata": {},
   "outputs": [],
   "source": [
    "import logging\n",
    "from pathlib import Path\n",
    "logging.basicConfig(\n",
    "    # filename='extract_data.log',\n",
    "    level=logging.INFO,\n",
    "    format='%(asctime)s - %(levelname)s - %(message)s',\n",
    "    datefmt='%Y-%m-%d %H:%M:%S'\n",
    ")"
   ]
  },
  {
   "cell_type": "code",
   "execution_count": 6,
   "metadata": {},
   "outputs": [],
   "source": [
    "import matplotlib.pyplot as plt\n",
    "import numpy as np\n",
    "import pandas as pd\n",
    "import seaborn as sns\n",
    "import os"
   ]
  },
  {
   "cell_type": "code",
   "execution_count": 7,
   "metadata": {},
   "outputs": [
    {
     "name": "stderr",
     "output_type": "stream",
     "text": [
      "2024-04-10 10:45:34 - WARNING - From D:\\Desktop\\Deep Learning\\Lab 2\\MNSIT-MLPClassifer\\venv\\lib\\site-packages\\keras\\src\\losses.py:2976: The name tf.losses.sparse_softmax_cross_entropy is deprecated. Please use tf.compat.v1.losses.sparse_softmax_cross_entropy instead.\n",
      "\n"
     ]
    }
   ],
   "source": [
    "from keras.preprocessing.image import load_img, img_to_array\n",
    "from tensorflow.keras.preprocessing.image import ImageDataGenerator\n",
    "from keras. layers import Dense, Input, Dropout, GlobalAveragePooling2D, Flatten, Conv2D, BatchNormalization, Activation, MaxPooling2D\n",
    "from keras.models import Model, Sequential\n",
    "from keras.optimizers import Adam, SGD, RMSprop"
   ]
  },
  {
   "cell_type": "code",
   "execution_count": 8,
   "metadata": {},
   "outputs": [],
   "source": [
    "picture_size = 64\n",
    "folder_path = Path(os.getcwd()) / \"Dataset/images\""
   ]
  },
  {
   "cell_type": "code",
   "execution_count": 9,
   "metadata": {},
   "outputs": [],
   "source": [
    "batch_size  = 128\n",
    "datagen_train  = ImageDataGenerator()\n",
    "datagen_val = ImageDataGenerator()"
   ]
  },
  {
   "cell_type": "code",
   "execution_count": 10,
   "metadata": {},
   "outputs": [
    {
     "name": "stdout",
     "output_type": "stream",
     "text": [
      "Found 28821 images belonging to 7 classes.\n"
     ]
    }
   ],
   "source": [
    "train_set = datagen_train.flow_from_directory(Path(os.getcwd()) / \"Dataset/images\" / \"train\",\n",
    "                                              target_size = (picture_size,picture_size),\n",
    "                                              color_mode = \"grayscale\",\n",
    "                                              batch_size=batch_size,\n",
    "                                              class_mode='categorical',\n",
    "                                              shuffle=True)"
   ]
  },
  {
   "cell_type": "code",
   "execution_count": 11,
   "metadata": {},
   "outputs": [
    {
     "name": "stdout",
     "output_type": "stream",
     "text": [
      "Found 7066 images belonging to 7 classes.\n"
     ]
    }
   ],
   "source": [
    "test_set = datagen_val.flow_from_directory(Path(os.getcwd()) / \"Dataset/images\" / \"validation\",\n",
    "                                              target_size = (picture_size,picture_size),\n",
    "                                              color_mode = \"grayscale\",\n",
    "                                              batch_size=batch_size,\n",
    "                                              class_mode='categorical',\n",
    "                                              shuffle=False)"
   ]
  },
  {
   "cell_type": "code",
   "execution_count": 12,
   "metadata": {},
   "outputs": [],
   "source": [
    "from keras.optimizers import Adam,SGD,RMSprop\n"
   ]
  },
  {
   "cell_type": "code",
   "execution_count": 13,
   "metadata": {},
   "outputs": [
    {
     "name": "stderr",
     "output_type": "stream",
     "text": [
      "2024-04-10 10:45:36 - WARNING - From D:\\Desktop\\Deep Learning\\Lab 2\\MNSIT-MLPClassifer\\venv\\lib\\site-packages\\keras\\src\\backend.py:873: The name tf.get_default_graph is deprecated. Please use tf.compat.v1.get_default_graph instead.\n",
      "\n",
      "2024-04-10 10:45:36 - WARNING - From D:\\Desktop\\Deep Learning\\Lab 2\\MNSIT-MLPClassifer\\venv\\lib\\site-packages\\keras\\src\\layers\\normalization\\batch_normalization.py:979: The name tf.nn.fused_batch_norm is deprecated. Please use tf.compat.v1.nn.fused_batch_norm instead.\n",
      "\n"
     ]
    },
    {
     "name": "stdout",
     "output_type": "stream",
     "text": [
      "Model: \"sequential\"\n",
      "_________________________________________________________________\n",
      " Layer (type)                Output Shape              Param #   \n",
      "=================================================================\n",
      " conv2d (Conv2D)             (None, 48, 48, 64)        640       \n",
      "                                                                 \n",
      " batch_normalization (Batch  (None, 48, 48, 64)        256       \n",
      " Normalization)                                                  \n",
      "                                                                 \n",
      " activation (Activation)     (None, 48, 48, 64)        0         \n",
      "                                                                 \n",
      " max_pooling2d (MaxPooling2  (None, 24, 24, 64)        0         \n",
      " D)                                                              \n",
      "                                                                 \n",
      " dropout (Dropout)           (None, 24, 24, 64)        0         \n",
      "                                                                 \n",
      " conv2d_1 (Conv2D)           (None, 24, 24, 128)       204928    \n",
      "                                                                 \n",
      " batch_normalization_1 (Bat  (None, 24, 24, 128)       512       \n",
      " chNormalization)                                                \n",
      "                                                                 \n",
      " activation_1 (Activation)   (None, 24, 24, 128)       0         \n",
      "                                                                 \n",
      " max_pooling2d_1 (MaxPoolin  (None, 12, 12, 128)       0         \n",
      " g2D)                                                            \n",
      "                                                                 \n",
      " dropout_1 (Dropout)         (None, 12, 12, 128)       0         \n",
      "                                                                 \n",
      " conv2d_2 (Conv2D)           (None, 12, 12, 512)       590336    \n",
      "                                                                 \n",
      " batch_normalization_2 (Bat  (None, 12, 12, 512)       2048      \n",
      " chNormalization)                                                \n",
      "                                                                 \n",
      " activation_2 (Activation)   (None, 12, 12, 512)       0         \n",
      "                                                                 \n",
      " max_pooling2d_2 (MaxPoolin  (None, 6, 6, 512)         0         \n",
      " g2D)                                                            \n",
      "                                                                 \n",
      " dropout_2 (Dropout)         (None, 6, 6, 512)         0         \n",
      "                                                                 \n",
      " conv2d_3 (Conv2D)           (None, 6, 6, 512)         2359808   \n",
      "                                                                 \n",
      " batch_normalization_3 (Bat  (None, 6, 6, 512)         2048      \n",
      " chNormalization)                                                \n",
      "                                                                 \n",
      " activation_3 (Activation)   (None, 6, 6, 512)         0         \n",
      "                                                                 \n",
      " max_pooling2d_3 (MaxPoolin  (None, 3, 3, 512)         0         \n",
      " g2D)                                                            \n",
      "                                                                 \n",
      " dropout_3 (Dropout)         (None, 3, 3, 512)         0         \n",
      "                                                                 \n",
      " flatten (Flatten)           (None, 4608)              0         \n",
      "                                                                 \n",
      " dense (Dense)               (None, 256)               1179904   \n",
      "                                                                 \n",
      " batch_normalization_4 (Bat  (None, 256)               1024      \n",
      " chNormalization)                                                \n",
      "                                                                 \n",
      " activation_4 (Activation)   (None, 256)               0         \n",
      "                                                                 \n",
      " dropout_4 (Dropout)         (None, 256)               0         \n",
      "                                                                 \n",
      " dense_1 (Dense)             (None, 512)               131584    \n",
      "                                                                 \n",
      " batch_normalization_5 (Bat  (None, 512)               2048      \n",
      " chNormalization)                                                \n",
      "                                                                 \n",
      " activation_5 (Activation)   (None, 512)               0         \n",
      "                                                                 \n",
      " dropout_5 (Dropout)         (None, 512)               0         \n",
      "                                                                 \n",
      " dense_2 (Dense)             (None, 7)                 3591      \n",
      "                                                                 \n",
      "=================================================================\n",
      "Total params: 4478727 (17.08 MB)\n",
      "Trainable params: 4474759 (17.07 MB)\n",
      "Non-trainable params: 3968 (15.50 KB)\n",
      "_________________________________________________________________\n"
     ]
    }
   ],
   "source": [
    "\n",
    "\n",
    "no_of_classes = 7\n",
    "\n",
    "model = Sequential()\n",
    "\n",
    "#1st CNN layer\n",
    "model.add(Conv2D(64,(3,3),padding = 'same',input_shape = (48,48,1)))\n",
    "model.add(BatchNormalization())\n",
    "model.add(Activation('relu'))\n",
    "model.add(MaxPooling2D(pool_size = (2,2)))\n",
    "model.add(Dropout(0.25))\n",
    "\n",
    "#2nd CNN layer\n",
    "model.add(Conv2D(128,(5,5),padding = 'same'))\n",
    "model.add(BatchNormalization())\n",
    "model.add(Activation('relu'))\n",
    "model.add(MaxPooling2D(pool_size = (2,2)))\n",
    "model.add(Dropout (0.25))\n",
    "\n",
    "#3rd CNN layer\n",
    "model.add(Conv2D(512,(3,3),padding = 'same'))\n",
    "model.add(BatchNormalization())\n",
    "model.add(Activation('relu'))\n",
    "model.add(MaxPooling2D(pool_size = (2,2)))\n",
    "model.add(Dropout (0.25))\n",
    "\n",
    "#4th CNN layer\n",
    "model.add(Conv2D(512,(3,3), padding='same'))\n",
    "model.add(BatchNormalization())\n",
    "model.add(Activation('relu'))\n",
    "model.add(MaxPooling2D(pool_size=(2, 2)))\n",
    "model.add(Dropout(0.25))\n",
    "\n",
    "model.add(Flatten())\n",
    "\n",
    "#Fully connected 1st layer\n",
    "model.add(Dense(256))\n",
    "model.add(BatchNormalization())\n",
    "model.add(Activation('relu'))\n",
    "model.add(Dropout(0.25))\n",
    "\n",
    "\n",
    "# Fully connected layer 2nd layer\n",
    "model.add(Dense(512))\n",
    "model.add(BatchNormalization())\n",
    "model.add(Activation('relu'))\n",
    "model.add(Dropout(0.25))\n",
    "\n",
    "model.add(Dense(no_of_classes, activation='softmax'))\n",
    "\n",
    "\n",
    "\n",
    "opt = Adam(learning_rate=0.0001)\n",
    "model.compile(optimizer=opt,loss='categorical_crossentropy', metrics=['accuracy'])\n",
    "model.summary()\n"
   ]
  },
  {
   "cell_type": "code",
   "execution_count": 14,
   "metadata": {},
   "outputs": [],
   "source": [
    "from keras.optimizers import RMSprop,SGD,Adam\n",
    "from keras.callbacks import ModelCheckpoint, EarlyStopping, ReduceLROnPlateau\n",
    "\n",
    "\n",
    "checkpoint = ModelCheckpoint(str(Path(os.getcwd()) / \"Model/CNN\"/\"cnnmodel.keras\"), monitor='val_acc', verbose=1, save_best_only=True, mode='max')\n",
    "\n",
    "# early_stopping = EarlyStopping(monitor='val_loss',\n",
    "#                           min_delta=0,\n",
    "#                           patience=3,\n",
    "#                           verbose=1,\n",
    "#                           restore_best_weights=True\n",
    "#                           )\n",
    "\n",
    "reduce_learningrate = ReduceLROnPlateau(monitor='val_loss',\n",
    "                              factor=0.2,\n",
    "                              patience=3,\n",
    "                              verbose=1,\n",
    "                              min_delta=0.0001)\n",
    "\n",
    "# callbacks_list = [early_stopping,checkpoint,reduce_learningrate]\n",
    "callbacks_list = [checkpoint,reduce_learningrate]\n",
    "\n",
    "epochs = 100\n",
    "\n",
    "model.compile(loss='categorical_crossentropy',\n",
    "              optimizer=Adam(learning_rate=0.001),  # Pass learning rate as positional argument\n",
    "              metrics=['accuracy'])"
   ]
  },
  {
   "cell_type": "code",
   "execution_count": 15,
   "metadata": {},
   "outputs": [
    {
     "name": "stdout",
     "output_type": "stream",
     "text": [
      "Epoch 1/100\n"
     ]
    },
    {
     "name": "stderr",
     "output_type": "stream",
     "text": [
      "2024-04-10 10:45:36 - WARNING - From D:\\Desktop\\Deep Learning\\Lab 2\\MNSIT-MLPClassifer\\venv\\lib\\site-packages\\keras\\src\\utils\\tf_utils.py:492: The name tf.ragged.RaggedTensorValue is deprecated. Please use tf.compat.v1.ragged.RaggedTensorValue instead.\n",
      "\n",
      "2024-04-10 10:45:37 - WARNING - From D:\\Desktop\\Deep Learning\\Lab 2\\MNSIT-MLPClassifer\\venv\\lib\\site-packages\\keras\\src\\engine\\base_layer_utils.py:384: The name tf.executing_eagerly_outside_functions is deprecated. Please use tf.compat.v1.executing_eagerly_outside_functions instead.\n",
      "\n"
     ]
    },
    {
     "name": "stdout",
     "output_type": "stream",
     "text": [
      "225/225 [==============================] - ETA: 0s - loss: 1.7951 - accuracy: 0.3128"
     ]
    },
    {
     "name": "stderr",
     "output_type": "stream",
     "text": [
      "2024-04-10 10:49:03 - WARNING - Can save best model only with val_acc available, skipping.\n"
     ]
    },
    {
     "name": "stdout",
     "output_type": "stream",
     "text": [
      "225/225 [==============================] - 207s 907ms/step - loss: 1.7951 - accuracy: 0.3128 - val_loss: 1.8944 - val_accuracy: 0.3439 - lr: 0.0010\n",
      "Epoch 2/100\n",
      "225/225 [==============================] - ETA: 0s - loss: 1.4489 - accuracy: 0.4437"
     ]
    },
    {
     "name": "stderr",
     "output_type": "stream",
     "text": [
      "2024-04-10 10:52:29 - WARNING - Can save best model only with val_acc available, skipping.\n"
     ]
    },
    {
     "name": "stdout",
     "output_type": "stream",
     "text": [
      "225/225 [==============================] - 206s 917ms/step - loss: 1.4489 - accuracy: 0.4437 - val_loss: 1.6281 - val_accuracy: 0.4463 - lr: 0.0010\n",
      "Epoch 3/100\n",
      "225/225 [==============================] - ETA: 0s - loss: 1.2883 - accuracy: 0.5042"
     ]
    },
    {
     "name": "stderr",
     "output_type": "stream",
     "text": [
      "2024-04-10 10:55:55 - WARNING - Can save best model only with val_acc available, skipping.\n"
     ]
    },
    {
     "name": "stdout",
     "output_type": "stream",
     "text": [
      "225/225 [==============================] - 205s 913ms/step - loss: 1.2883 - accuracy: 0.5042 - val_loss: 1.2219 - val_accuracy: 0.5365 - lr: 0.0010\n",
      "Epoch 4/100\n",
      "225/225 [==============================] - ETA: 0s - loss: 1.1966 - accuracy: 0.5456"
     ]
    },
    {
     "name": "stderr",
     "output_type": "stream",
     "text": [
      "2024-04-10 10:59:20 - WARNING - Can save best model only with val_acc available, skipping.\n"
     ]
    },
    {
     "name": "stdout",
     "output_type": "stream",
     "text": [
      "225/225 [==============================] - 205s 911ms/step - loss: 1.1966 - accuracy: 0.5456 - val_loss: 1.3231 - val_accuracy: 0.5143 - lr: 0.0010\n",
      "Epoch 5/100\n",
      "225/225 [==============================] - ETA: 0s - loss: 1.1411 - accuracy: 0.5651"
     ]
    },
    {
     "name": "stderr",
     "output_type": "stream",
     "text": [
      "2024-04-10 11:02:45 - WARNING - Can save best model only with val_acc available, skipping.\n"
     ]
    },
    {
     "name": "stdout",
     "output_type": "stream",
     "text": [
      "225/225 [==============================] - 206s 914ms/step - loss: 1.1411 - accuracy: 0.5651 - val_loss: 1.3247 - val_accuracy: 0.4997 - lr: 0.0010\n",
      "Epoch 6/100\n",
      "225/225 [==============================] - ETA: 0s - loss: 1.0807 - accuracy: 0.5902"
     ]
    },
    {
     "name": "stderr",
     "output_type": "stream",
     "text": [
      "2024-04-10 11:06:10 - WARNING - Can save best model only with val_acc available, skipping.\n"
     ]
    },
    {
     "name": "stdout",
     "output_type": "stream",
     "text": [
      "225/225 [==============================] - 205s 910ms/step - loss: 1.0807 - accuracy: 0.5902 - val_loss: 1.1513 - val_accuracy: 0.5712 - lr: 0.0010\n",
      "Epoch 7/100\n",
      "225/225 [==============================] - ETA: 0s - loss: 1.0358 - accuracy: 0.6099"
     ]
    },
    {
     "name": "stderr",
     "output_type": "stream",
     "text": [
      "2024-04-10 11:09:36 - WARNING - Can save best model only with val_acc available, skipping.\n"
     ]
    },
    {
     "name": "stdout",
     "output_type": "stream",
     "text": [
      "225/225 [==============================] - 206s 915ms/step - loss: 1.0358 - accuracy: 0.6099 - val_loss: 1.1296 - val_accuracy: 0.5773 - lr: 0.0010\n",
      "Epoch 8/100\n",
      "225/225 [==============================] - ETA: 0s - loss: 0.9968 - accuracy: 0.6224"
     ]
    },
    {
     "name": "stderr",
     "output_type": "stream",
     "text": [
      "2024-04-10 11:13:02 - WARNING - Can save best model only with val_acc available, skipping.\n"
     ]
    },
    {
     "name": "stdout",
     "output_type": "stream",
     "text": [
      "225/225 [==============================] - 206s 915ms/step - loss: 0.9968 - accuracy: 0.6224 - val_loss: 1.1919 - val_accuracy: 0.5361 - lr: 0.0010\n",
      "Epoch 9/100\n",
      "225/225 [==============================] - ETA: 0s - loss: 0.9480 - accuracy: 0.6390"
     ]
    },
    {
     "name": "stderr",
     "output_type": "stream",
     "text": [
      "2024-04-10 11:16:27 - WARNING - Can save best model only with val_acc available, skipping.\n"
     ]
    },
    {
     "name": "stdout",
     "output_type": "stream",
     "text": [
      "225/225 [==============================] - 206s 914ms/step - loss: 0.9480 - accuracy: 0.6390 - val_loss: 1.0825 - val_accuracy: 0.5972 - lr: 0.0010\n",
      "Epoch 10/100\n",
      "225/225 [==============================] - ETA: 0s - loss: 0.9091 - accuracy: 0.6540"
     ]
    },
    {
     "name": "stderr",
     "output_type": "stream",
     "text": [
      "2024-04-10 11:19:52 - WARNING - Can save best model only with val_acc available, skipping.\n"
     ]
    },
    {
     "name": "stdout",
     "output_type": "stream",
     "text": [
      "225/225 [==============================] - 205s 912ms/step - loss: 0.9091 - accuracy: 0.6540 - val_loss: 1.1050 - val_accuracy: 0.6053 - lr: 0.0010\n",
      "Epoch 11/100\n",
      "225/225 [==============================] - ETA: 0s - loss: 0.8680 - accuracy: 0.6738"
     ]
    },
    {
     "name": "stderr",
     "output_type": "stream",
     "text": [
      "2024-04-10 11:23:17 - WARNING - Can save best model only with val_acc available, skipping.\n"
     ]
    },
    {
     "name": "stdout",
     "output_type": "stream",
     "text": [
      "225/225 [==============================] - 204s 907ms/step - loss: 0.8680 - accuracy: 0.6738 - val_loss: 1.1624 - val_accuracy: 0.5736 - lr: 0.0010\n",
      "Epoch 12/100\n",
      "225/225 [==============================] - ETA: 0s - loss: 0.8300 - accuracy: 0.6917"
     ]
    },
    {
     "name": "stderr",
     "output_type": "stream",
     "text": [
      "2024-04-10 11:26:41 - WARNING - Can save best model only with val_acc available, skipping.\n"
     ]
    },
    {
     "name": "stdout",
     "output_type": "stream",
     "text": [
      "225/225 [==============================] - 205s 911ms/step - loss: 0.8300 - accuracy: 0.6917 - val_loss: 1.0800 - val_accuracy: 0.6060 - lr: 0.0010\n",
      "Epoch 13/100\n",
      "225/225 [==============================] - ETA: 0s - loss: 0.7858 - accuracy: 0.7038"
     ]
    },
    {
     "name": "stderr",
     "output_type": "stream",
     "text": [
      "2024-04-10 11:30:07 - WARNING - Can save best model only with val_acc available, skipping.\n"
     ]
    },
    {
     "name": "stdout",
     "output_type": "stream",
     "text": [
      "225/225 [==============================] - 205s 913ms/step - loss: 0.7858 - accuracy: 0.7038 - val_loss: 1.0425 - val_accuracy: 0.6263 - lr: 0.0010\n",
      "Epoch 14/100\n",
      "225/225 [==============================] - ETA: 0s - loss: 0.7386 - accuracy: 0.7262"
     ]
    },
    {
     "name": "stderr",
     "output_type": "stream",
     "text": [
      "2024-04-10 11:33:34 - WARNING - Can save best model only with val_acc available, skipping.\n"
     ]
    },
    {
     "name": "stdout",
     "output_type": "stream",
     "text": [
      "225/225 [==============================] - 207s 919ms/step - loss: 0.7386 - accuracy: 0.7262 - val_loss: 1.1134 - val_accuracy: 0.6114 - lr: 0.0010\n",
      "Epoch 15/100\n",
      "225/225 [==============================] - ETA: 0s - loss: 0.6924 - accuracy: 0.7414"
     ]
    },
    {
     "name": "stderr",
     "output_type": "stream",
     "text": [
      "2024-04-10 11:37:01 - WARNING - Can save best model only with val_acc available, skipping.\n"
     ]
    },
    {
     "name": "stdout",
     "output_type": "stream",
     "text": [
      "225/225 [==============================] - 207s 920ms/step - loss: 0.6924 - accuracy: 0.7414 - val_loss: 1.1288 - val_accuracy: 0.5962 - lr: 0.0010\n",
      "Epoch 16/100\n",
      "225/225 [==============================] - ETA: 0s - loss: 0.6497 - accuracy: 0.7584"
     ]
    },
    {
     "name": "stderr",
     "output_type": "stream",
     "text": [
      "2024-04-10 11:40:29 - WARNING - Can save best model only with val_acc available, skipping.\n"
     ]
    },
    {
     "name": "stdout",
     "output_type": "stream",
     "text": [
      "\n",
      "Epoch 16: ReduceLROnPlateau reducing learning rate to 0.00020000000949949026.\n",
      "225/225 [==============================] - 208s 925ms/step - loss: 0.6497 - accuracy: 0.7584 - val_loss: 1.2007 - val_accuracy: 0.5768 - lr: 0.0010\n",
      "Epoch 17/100\n",
      "225/225 [==============================] - ETA: 0s - loss: 0.5189 - accuracy: 0.8075"
     ]
    },
    {
     "name": "stderr",
     "output_type": "stream",
     "text": [
      "2024-04-10 11:43:56 - WARNING - Can save best model only with val_acc available, skipping.\n"
     ]
    },
    {
     "name": "stdout",
     "output_type": "stream",
     "text": [
      "225/225 [==============================] - 207s 921ms/step - loss: 0.5189 - accuracy: 0.8075 - val_loss: 1.0474 - val_accuracy: 0.6578 - lr: 2.0000e-04\n",
      "Epoch 18/100\n",
      "225/225 [==============================] - ETA: 0s - loss: 0.4656 - accuracy: 0.8296"
     ]
    },
    {
     "name": "stderr",
     "output_type": "stream",
     "text": [
      "2024-04-10 11:47:22 - WARNING - Can save best model only with val_acc available, skipping.\n"
     ]
    },
    {
     "name": "stdout",
     "output_type": "stream",
     "text": [
      "225/225 [==============================] - 206s 916ms/step - loss: 0.4656 - accuracy: 0.8296 - val_loss: 1.0898 - val_accuracy: 0.6545 - lr: 2.0000e-04\n",
      "Epoch 19/100\n",
      "225/225 [==============================] - ETA: 0s - loss: 0.4458 - accuracy: 0.8355"
     ]
    },
    {
     "name": "stderr",
     "output_type": "stream",
     "text": [
      "2024-04-10 11:50:49 - WARNING - Can save best model only with val_acc available, skipping.\n"
     ]
    },
    {
     "name": "stdout",
     "output_type": "stream",
     "text": [
      "\n",
      "Epoch 19: ReduceLROnPlateau reducing learning rate to 4.0000001899898055e-05.\n",
      "225/225 [==============================] - 207s 919ms/step - loss: 0.4458 - accuracy: 0.8355 - val_loss: 1.0913 - val_accuracy: 0.6544 - lr: 2.0000e-04\n",
      "Epoch 20/100\n",
      "225/225 [==============================] - ETA: 0s - loss: 0.4045 - accuracy: 0.8528"
     ]
    },
    {
     "name": "stderr",
     "output_type": "stream",
     "text": [
      "2024-04-10 11:54:16 - WARNING - Can save best model only with val_acc available, skipping.\n"
     ]
    },
    {
     "name": "stdout",
     "output_type": "stream",
     "text": [
      "225/225 [==============================] - 207s 919ms/step - loss: 0.4045 - accuracy: 0.8528 - val_loss: 1.0862 - val_accuracy: 0.6585 - lr: 4.0000e-05\n",
      "Epoch 21/100\n",
      "225/225 [==============================] - ETA: 0s - loss: 0.3988 - accuracy: 0.8535"
     ]
    },
    {
     "name": "stderr",
     "output_type": "stream",
     "text": [
      "2024-04-10 11:57:53 - WARNING - Can save best model only with val_acc available, skipping.\n"
     ]
    },
    {
     "name": "stdout",
     "output_type": "stream",
     "text": [
      "225/225 [==============================] - 217s 966ms/step - loss: 0.3988 - accuracy: 0.8535 - val_loss: 1.0927 - val_accuracy: 0.6578 - lr: 4.0000e-05\n",
      "Epoch 22/100\n",
      "225/225 [==============================] - ETA: 0s - loss: 0.3814 - accuracy: 0.8617"
     ]
    },
    {
     "name": "stderr",
     "output_type": "stream",
     "text": [
      "2024-04-10 12:01:20 - WARNING - Can save best model only with val_acc available, skipping.\n"
     ]
    },
    {
     "name": "stdout",
     "output_type": "stream",
     "text": [
      "\n",
      "Epoch 22: ReduceLROnPlateau reducing learning rate to 8.000000525498762e-06.\n",
      "225/225 [==============================] - 207s 921ms/step - loss: 0.3814 - accuracy: 0.8617 - val_loss: 1.1020 - val_accuracy: 0.6629 - lr: 4.0000e-05\n",
      "Epoch 23/100\n",
      "225/225 [==============================] - ETA: 0s - loss: 0.3796 - accuracy: 0.8629"
     ]
    },
    {
     "name": "stderr",
     "output_type": "stream",
     "text": [
      "2024-04-10 12:04:40 - WARNING - Can save best model only with val_acc available, skipping.\n"
     ]
    },
    {
     "name": "stdout",
     "output_type": "stream",
     "text": [
      "225/225 [==============================] - 200s 888ms/step - loss: 0.3796 - accuracy: 0.8629 - val_loss: 1.1023 - val_accuracy: 0.6625 - lr: 8.0000e-06\n",
      "Epoch 24/100\n",
      "225/225 [==============================] - ETA: 0s - loss: 0.3793 - accuracy: 0.8632"
     ]
    },
    {
     "name": "stderr",
     "output_type": "stream",
     "text": [
      "2024-04-10 12:07:57 - WARNING - Can save best model only with val_acc available, skipping.\n"
     ]
    },
    {
     "name": "stdout",
     "output_type": "stream",
     "text": [
      "225/225 [==============================] - 197s 874ms/step - loss: 0.3793 - accuracy: 0.8632 - val_loss: 1.1035 - val_accuracy: 0.6618 - lr: 8.0000e-06\n",
      "Epoch 25/100\n",
      "225/225 [==============================] - ETA: 0s - loss: 0.3757 - accuracy: 0.8630"
     ]
    },
    {
     "name": "stderr",
     "output_type": "stream",
     "text": [
      "2024-04-10 12:11:13 - WARNING - Can save best model only with val_acc available, skipping.\n"
     ]
    },
    {
     "name": "stdout",
     "output_type": "stream",
     "text": [
      "\n",
      "Epoch 25: ReduceLROnPlateau reducing learning rate to 1.6000001778593287e-06.\n",
      "225/225 [==============================] - 197s 875ms/step - loss: 0.3757 - accuracy: 0.8630 - val_loss: 1.1089 - val_accuracy: 0.6629 - lr: 8.0000e-06\n",
      "Epoch 26/100\n",
      "225/225 [==============================] - ETA: 0s - loss: 0.3748 - accuracy: 0.8645"
     ]
    },
    {
     "name": "stderr",
     "output_type": "stream",
     "text": [
      "2024-04-10 12:14:31 - WARNING - Can save best model only with val_acc available, skipping.\n"
     ]
    },
    {
     "name": "stdout",
     "output_type": "stream",
     "text": [
      "225/225 [==============================] - 198s 880ms/step - loss: 0.3748 - accuracy: 0.8645 - val_loss: 1.1092 - val_accuracy: 0.6624 - lr: 1.6000e-06\n",
      "Epoch 27/100\n",
      "225/225 [==============================] - ETA: 0s - loss: 0.3666 - accuracy: 0.8681"
     ]
    },
    {
     "name": "stderr",
     "output_type": "stream",
     "text": [
      "2024-04-10 12:17:48 - WARNING - Can save best model only with val_acc available, skipping.\n"
     ]
    },
    {
     "name": "stdout",
     "output_type": "stream",
     "text": [
      "225/225 [==============================] - 197s 874ms/step - loss: 0.3666 - accuracy: 0.8681 - val_loss: 1.1073 - val_accuracy: 0.6622 - lr: 1.6000e-06\n",
      "Epoch 28/100\n",
      "225/225 [==============================] - ETA: 0s - loss: 0.3686 - accuracy: 0.8645"
     ]
    },
    {
     "name": "stderr",
     "output_type": "stream",
     "text": [
      "2024-04-10 12:21:04 - WARNING - Can save best model only with val_acc available, skipping.\n"
     ]
    },
    {
     "name": "stdout",
     "output_type": "stream",
     "text": [
      "\n",
      "Epoch 28: ReduceLROnPlateau reducing learning rate to 3.200000264769187e-07.\n",
      "225/225 [==============================] - 196s 871ms/step - loss: 0.3686 - accuracy: 0.8645 - val_loss: 1.1076 - val_accuracy: 0.6626 - lr: 1.6000e-06\n",
      "Epoch 29/100\n",
      "225/225 [==============================] - ETA: 0s - loss: 0.3723 - accuracy: 0.8651"
     ]
    },
    {
     "name": "stderr",
     "output_type": "stream",
     "text": [
      "2024-04-10 12:24:20 - WARNING - Can save best model only with val_acc available, skipping.\n"
     ]
    },
    {
     "name": "stdout",
     "output_type": "stream",
     "text": [
      "225/225 [==============================] - 196s 872ms/step - loss: 0.3723 - accuracy: 0.8651 - val_loss: 1.1088 - val_accuracy: 0.6616 - lr: 3.2000e-07\n",
      "Epoch 30/100\n",
      "225/225 [==============================] - ETA: 0s - loss: 0.3721 - accuracy: 0.8664"
     ]
    },
    {
     "name": "stderr",
     "output_type": "stream",
     "text": [
      "2024-04-10 12:27:36 - WARNING - Can save best model only with val_acc available, skipping.\n"
     ]
    },
    {
     "name": "stdout",
     "output_type": "stream",
     "text": [
      "225/225 [==============================] - 196s 872ms/step - loss: 0.3721 - accuracy: 0.8664 - val_loss: 1.1074 - val_accuracy: 0.6628 - lr: 3.2000e-07\n",
      "Epoch 31/100\n",
      "225/225 [==============================] - ETA: 0s - loss: 0.3740 - accuracy: 0.8647"
     ]
    },
    {
     "name": "stderr",
     "output_type": "stream",
     "text": [
      "2024-04-10 12:30:52 - WARNING - Can save best model only with val_acc available, skipping.\n"
     ]
    },
    {
     "name": "stdout",
     "output_type": "stream",
     "text": [
      "\n",
      "Epoch 31: ReduceLROnPlateau reducing learning rate to 6.400000529538374e-08.\n",
      "225/225 [==============================] - 196s 870ms/step - loss: 0.3740 - accuracy: 0.8647 - val_loss: 1.1082 - val_accuracy: 0.6632 - lr: 3.2000e-07\n",
      "Epoch 32/100\n",
      "225/225 [==============================] - ETA: 0s - loss: 0.3738 - accuracy: 0.8638"
     ]
    },
    {
     "name": "stderr",
     "output_type": "stream",
     "text": [
      "2024-04-10 12:34:08 - WARNING - Can save best model only with val_acc available, skipping.\n"
     ]
    },
    {
     "name": "stdout",
     "output_type": "stream",
     "text": [
      "225/225 [==============================] - 196s 871ms/step - loss: 0.3738 - accuracy: 0.8638 - val_loss: 1.1088 - val_accuracy: 0.6626 - lr: 6.4000e-08\n",
      "Epoch 33/100\n",
      "225/225 [==============================] - ETA: 0s - loss: 0.3750 - accuracy: 0.8648"
     ]
    },
    {
     "name": "stderr",
     "output_type": "stream",
     "text": [
      "2024-04-10 12:37:24 - WARNING - Can save best model only with val_acc available, skipping.\n"
     ]
    },
    {
     "name": "stdout",
     "output_type": "stream",
     "text": [
      "225/225 [==============================] - 196s 870ms/step - loss: 0.3750 - accuracy: 0.8648 - val_loss: 1.1087 - val_accuracy: 0.6626 - lr: 6.4000e-08\n",
      "Epoch 34/100\n",
      "225/225 [==============================] - ETA: 0s - loss: 0.3751 - accuracy: 0.8635"
     ]
    },
    {
     "name": "stderr",
     "output_type": "stream",
     "text": [
      "2024-04-10 12:40:40 - WARNING - Can save best model only with val_acc available, skipping.\n"
     ]
    },
    {
     "name": "stdout",
     "output_type": "stream",
     "text": [
      "\n",
      "Epoch 34: ReduceLROnPlateau reducing learning rate to 1.2800001059076749e-08.\n",
      "225/225 [==============================] - 196s 873ms/step - loss: 0.3751 - accuracy: 0.8635 - val_loss: 1.1084 - val_accuracy: 0.6622 - lr: 6.4000e-08\n",
      "Epoch 35/100\n",
      "225/225 [==============================] - ETA: 0s - loss: 0.3746 - accuracy: 0.8639"
     ]
    },
    {
     "name": "stderr",
     "output_type": "stream",
     "text": [
      "2024-04-10 12:43:56 - WARNING - Can save best model only with val_acc available, skipping.\n"
     ]
    },
    {
     "name": "stdout",
     "output_type": "stream",
     "text": [
      "225/225 [==============================] - 196s 870ms/step - loss: 0.3746 - accuracy: 0.8639 - val_loss: 1.1093 - val_accuracy: 0.6625 - lr: 1.2800e-08\n",
      "Epoch 36/100\n",
      "225/225 [==============================] - ETA: 0s - loss: 0.3775 - accuracy: 0.8632"
     ]
    },
    {
     "name": "stderr",
     "output_type": "stream",
     "text": [
      "2024-04-10 12:47:11 - WARNING - Can save best model only with val_acc available, skipping.\n"
     ]
    },
    {
     "name": "stdout",
     "output_type": "stream",
     "text": [
      "225/225 [==============================] - 196s 869ms/step - loss: 0.3775 - accuracy: 0.8632 - val_loss: 1.1079 - val_accuracy: 0.6626 - lr: 1.2800e-08\n",
      "Epoch 37/100\n",
      "225/225 [==============================] - ETA: 0s - loss: 0.3728 - accuracy: 0.8651"
     ]
    },
    {
     "name": "stderr",
     "output_type": "stream",
     "text": [
      "2024-04-10 12:50:28 - WARNING - Can save best model only with val_acc available, skipping.\n"
     ]
    },
    {
     "name": "stdout",
     "output_type": "stream",
     "text": [
      "\n",
      "Epoch 37: ReduceLROnPlateau reducing learning rate to 2.5600002118153498e-09.\n",
      "225/225 [==============================] - 196s 872ms/step - loss: 0.3728 - accuracy: 0.8651 - val_loss: 1.1073 - val_accuracy: 0.6628 - lr: 1.2800e-08\n",
      "Epoch 38/100\n",
      "225/225 [==============================] - ETA: 0s - loss: 0.3718 - accuracy: 0.8630"
     ]
    },
    {
     "name": "stderr",
     "output_type": "stream",
     "text": [
      "2024-04-10 12:53:44 - WARNING - Can save best model only with val_acc available, skipping.\n"
     ]
    },
    {
     "name": "stdout",
     "output_type": "stream",
     "text": [
      "225/225 [==============================] - 196s 871ms/step - loss: 0.3718 - accuracy: 0.8630 - val_loss: 1.1075 - val_accuracy: 0.6621 - lr: 2.5600e-09\n",
      "Epoch 39/100\n",
      "225/225 [==============================] - ETA: 0s - loss: 0.3739 - accuracy: 0.8611"
     ]
    },
    {
     "name": "stderr",
     "output_type": "stream",
     "text": [
      "2024-04-10 12:57:00 - WARNING - Can save best model only with val_acc available, skipping.\n"
     ]
    },
    {
     "name": "stdout",
     "output_type": "stream",
     "text": [
      "225/225 [==============================] - 196s 873ms/step - loss: 0.3739 - accuracy: 0.8611 - val_loss: 1.1081 - val_accuracy: 0.6618 - lr: 2.5600e-09\n",
      "Epoch 40/100\n",
      "225/225 [==============================] - ETA: 0s - loss: 0.3748 - accuracy: 0.8644"
     ]
    },
    {
     "name": "stderr",
     "output_type": "stream",
     "text": [
      "2024-04-10 13:00:16 - WARNING - Can save best model only with val_acc available, skipping.\n"
     ]
    },
    {
     "name": "stdout",
     "output_type": "stream",
     "text": [
      "\n",
      "Epoch 40: ReduceLROnPlateau reducing learning rate to 5.1200004236307e-10.\n",
      "225/225 [==============================] - 196s 872ms/step - loss: 0.3748 - accuracy: 0.8644 - val_loss: 1.1083 - val_accuracy: 0.6621 - lr: 2.5600e-09\n",
      "Epoch 41/100\n",
      "225/225 [==============================] - ETA: 0s - loss: 0.3733 - accuracy: 0.8640"
     ]
    },
    {
     "name": "stderr",
     "output_type": "stream",
     "text": [
      "2024-04-10 13:03:33 - WARNING - Can save best model only with val_acc available, skipping.\n"
     ]
    },
    {
     "name": "stdout",
     "output_type": "stream",
     "text": [
      "225/225 [==============================] - 196s 873ms/step - loss: 0.3733 - accuracy: 0.8640 - val_loss: 1.1100 - val_accuracy: 0.6621 - lr: 5.1200e-10\n",
      "Epoch 42/100\n",
      "225/225 [==============================] - ETA: 0s - loss: 0.3773 - accuracy: 0.8600"
     ]
    },
    {
     "name": "stderr",
     "output_type": "stream",
     "text": [
      "2024-04-10 13:06:49 - WARNING - Can save best model only with val_acc available, skipping.\n"
     ]
    },
    {
     "name": "stdout",
     "output_type": "stream",
     "text": [
      "225/225 [==============================] - 197s 874ms/step - loss: 0.3773 - accuracy: 0.8600 - val_loss: 1.1081 - val_accuracy: 0.6624 - lr: 5.1200e-10\n",
      "Epoch 43/100\n",
      "225/225 [==============================] - ETA: 0s - loss: 0.3727 - accuracy: 0.8662"
     ]
    },
    {
     "name": "stderr",
     "output_type": "stream",
     "text": [
      "2024-04-10 13:10:06 - WARNING - Can save best model only with val_acc available, skipping.\n"
     ]
    },
    {
     "name": "stdout",
     "output_type": "stream",
     "text": [
      "\n",
      "Epoch 43: ReduceLROnPlateau reducing learning rate to 1.0240001069306004e-10.\n",
      "225/225 [==============================] - 196s 873ms/step - loss: 0.3727 - accuracy: 0.8662 - val_loss: 1.1068 - val_accuracy: 0.6625 - lr: 5.1200e-10\n",
      "Epoch 44/100\n",
      "225/225 [==============================] - ETA: 0s - loss: 0.3747 - accuracy: 0.8648"
     ]
    },
    {
     "name": "stderr",
     "output_type": "stream",
     "text": [
      "2024-04-10 13:13:22 - WARNING - Can save best model only with val_acc available, skipping.\n"
     ]
    },
    {
     "name": "stdout",
     "output_type": "stream",
     "text": [
      "225/225 [==============================] - 196s 871ms/step - loss: 0.3747 - accuracy: 0.8648 - val_loss: 1.1088 - val_accuracy: 0.6624 - lr: 1.0240e-10\n",
      "Epoch 45/100\n",
      "225/225 [==============================] - ETA: 0s - loss: 0.3784 - accuracy: 0.8625"
     ]
    },
    {
     "name": "stderr",
     "output_type": "stream",
     "text": [
      "2024-04-10 13:16:38 - WARNING - Can save best model only with val_acc available, skipping.\n"
     ]
    },
    {
     "name": "stdout",
     "output_type": "stream",
     "text": [
      "225/225 [==============================] - 196s 872ms/step - loss: 0.3784 - accuracy: 0.8625 - val_loss: 1.1082 - val_accuracy: 0.6618 - lr: 1.0240e-10\n",
      "Epoch 46/100\n",
      "225/225 [==============================] - ETA: 0s - loss: 0.3684 - accuracy: 0.8652"
     ]
    },
    {
     "name": "stderr",
     "output_type": "stream",
     "text": [
      "2024-04-10 13:19:55 - WARNING - Can save best model only with val_acc available, skipping.\n"
     ]
    },
    {
     "name": "stdout",
     "output_type": "stream",
     "text": [
      "\n",
      "Epoch 46: ReduceLROnPlateau reducing learning rate to 2.0480002416167767e-11.\n",
      "225/225 [==============================] - 197s 873ms/step - loss: 0.3684 - accuracy: 0.8652 - val_loss: 1.1074 - val_accuracy: 0.6621 - lr: 1.0240e-10\n",
      "Epoch 47/100\n",
      "225/225 [==============================] - ETA: 0s - loss: 0.3716 - accuracy: 0.8638"
     ]
    },
    {
     "name": "stderr",
     "output_type": "stream",
     "text": [
      "2024-04-10 13:23:11 - WARNING - Can save best model only with val_acc available, skipping.\n"
     ]
    },
    {
     "name": "stdout",
     "output_type": "stream",
     "text": [
      "225/225 [==============================] - 197s 874ms/step - loss: 0.3716 - accuracy: 0.8638 - val_loss: 1.1071 - val_accuracy: 0.6621 - lr: 2.0480e-11\n",
      "Epoch 48/100\n",
      "225/225 [==============================] - ETA: 0s - loss: 0.3734 - accuracy: 0.8643"
     ]
    },
    {
     "name": "stderr",
     "output_type": "stream",
     "text": [
      "2024-04-10 13:26:27 - WARNING - Can save best model only with val_acc available, skipping.\n"
     ]
    },
    {
     "name": "stdout",
     "output_type": "stream",
     "text": [
      "225/225 [==============================] - 196s 872ms/step - loss: 0.3734 - accuracy: 0.8643 - val_loss: 1.1080 - val_accuracy: 0.6628 - lr: 2.0480e-11\n",
      "Epoch 49/100\n",
      "225/225 [==============================] - ETA: 0s - loss: 0.3784 - accuracy: 0.8632"
     ]
    },
    {
     "name": "stderr",
     "output_type": "stream",
     "text": [
      "2024-04-10 13:29:43 - WARNING - Can save best model only with val_acc available, skipping.\n"
     ]
    },
    {
     "name": "stdout",
     "output_type": "stream",
     "text": [
      "\n",
      "Epoch 49: ReduceLROnPlateau reducing learning rate to 4.096000622011431e-12.\n",
      "225/225 [==============================] - 196s 872ms/step - loss: 0.3784 - accuracy: 0.8632 - val_loss: 1.1061 - val_accuracy: 0.6626 - lr: 2.0480e-11\n",
      "Epoch 50/100\n",
      "225/225 [==============================] - ETA: 0s - loss: 0.3727 - accuracy: 0.8630"
     ]
    },
    {
     "name": "stderr",
     "output_type": "stream",
     "text": [
      "2024-04-10 13:33:00 - WARNING - Can save best model only with val_acc available, skipping.\n"
     ]
    },
    {
     "name": "stdout",
     "output_type": "stream",
     "text": [
      "225/225 [==============================] - 196s 872ms/step - loss: 0.3727 - accuracy: 0.8630 - val_loss: 1.1088 - val_accuracy: 0.6624 - lr: 4.0960e-12\n",
      "Epoch 51/100\n",
      "225/225 [==============================] - ETA: 0s - loss: 0.3743 - accuracy: 0.8645"
     ]
    },
    {
     "name": "stderr",
     "output_type": "stream",
     "text": [
      "2024-04-10 13:36:16 - WARNING - Can save best model only with val_acc available, skipping.\n"
     ]
    },
    {
     "name": "stdout",
     "output_type": "stream",
     "text": [
      "225/225 [==============================] - 196s 871ms/step - loss: 0.3743 - accuracy: 0.8645 - val_loss: 1.1079 - val_accuracy: 0.6614 - lr: 4.0960e-12\n",
      "Epoch 52/100\n",
      "225/225 [==============================] - ETA: 0s - loss: 0.3755 - accuracy: 0.8641"
     ]
    },
    {
     "name": "stderr",
     "output_type": "stream",
     "text": [
      "2024-04-10 13:39:32 - WARNING - Can save best model only with val_acc available, skipping.\n"
     ]
    },
    {
     "name": "stdout",
     "output_type": "stream",
     "text": [
      "\n",
      "Epoch 52: ReduceLROnPlateau reducing learning rate to 8.192000897078167e-13.\n",
      "225/225 [==============================] - 196s 872ms/step - loss: 0.3755 - accuracy: 0.8641 - val_loss: 1.1073 - val_accuracy: 0.6625 - lr: 4.0960e-12\n",
      "Epoch 53/100\n",
      "225/225 [==============================] - ETA: 0s - loss: 0.3718 - accuracy: 0.8648"
     ]
    },
    {
     "name": "stderr",
     "output_type": "stream",
     "text": [
      "2024-04-10 13:42:48 - WARNING - Can save best model only with val_acc available, skipping.\n"
     ]
    },
    {
     "name": "stdout",
     "output_type": "stream",
     "text": [
      "225/225 [==============================] - 196s 872ms/step - loss: 0.3718 - accuracy: 0.8648 - val_loss: 1.1104 - val_accuracy: 0.6624 - lr: 8.1920e-13\n",
      "Epoch 54/100\n",
      "225/225 [==============================] - ETA: 0s - loss: 0.3726 - accuracy: 0.8639"
     ]
    },
    {
     "name": "stderr",
     "output_type": "stream",
     "text": [
      "2024-04-10 13:46:05 - WARNING - Can save best model only with val_acc available, skipping.\n"
     ]
    },
    {
     "name": "stdout",
     "output_type": "stream",
     "text": [
      "225/225 [==============================] - 196s 872ms/step - loss: 0.3726 - accuracy: 0.8639 - val_loss: 1.1085 - val_accuracy: 0.6626 - lr: 8.1920e-13\n",
      "Epoch 55/100\n",
      "225/225 [==============================] - ETA: 0s - loss: 0.3718 - accuracy: 0.8642"
     ]
    },
    {
     "name": "stderr",
     "output_type": "stream",
     "text": [
      "2024-04-10 13:49:21 - WARNING - Can save best model only with val_acc available, skipping.\n"
     ]
    },
    {
     "name": "stdout",
     "output_type": "stream",
     "text": [
      "\n",
      "Epoch 55: ReduceLROnPlateau reducing learning rate to 1.6384001360475466e-13.\n",
      "225/225 [==============================] - 197s 874ms/step - loss: 0.3718 - accuracy: 0.8642 - val_loss: 1.1075 - val_accuracy: 0.6635 - lr: 8.1920e-13\n",
      "Epoch 56/100\n",
      "225/225 [==============================] - ETA: 0s - loss: 0.3744 - accuracy: 0.8647"
     ]
    },
    {
     "name": "stderr",
     "output_type": "stream",
     "text": [
      "2024-04-10 13:52:38 - WARNING - Can save best model only with val_acc available, skipping.\n"
     ]
    },
    {
     "name": "stdout",
     "output_type": "stream",
     "text": [
      "225/225 [==============================] - 196s 873ms/step - loss: 0.3744 - accuracy: 0.8647 - val_loss: 1.1076 - val_accuracy: 0.6614 - lr: 1.6384e-13\n",
      "Epoch 57/100\n",
      "225/225 [==============================] - ETA: 0s - loss: 0.3685 - accuracy: 0.8656"
     ]
    },
    {
     "name": "stderr",
     "output_type": "stream",
     "text": [
      "2024-04-10 13:55:54 - WARNING - Can save best model only with val_acc available, skipping.\n"
     ]
    },
    {
     "name": "stdout",
     "output_type": "stream",
     "text": [
      "225/225 [==============================] - 196s 873ms/step - loss: 0.3685 - accuracy: 0.8656 - val_loss: 1.1077 - val_accuracy: 0.6625 - lr: 1.6384e-13\n",
      "Epoch 58/100\n",
      "225/225 [==============================] - ETA: 0s - loss: 0.3742 - accuracy: 0.8658"
     ]
    },
    {
     "name": "stderr",
     "output_type": "stream",
     "text": [
      "2024-04-10 13:59:10 - WARNING - Can save best model only with val_acc available, skipping.\n"
     ]
    },
    {
     "name": "stdout",
     "output_type": "stream",
     "text": [
      "\n",
      "Epoch 58: ReduceLROnPlateau reducing learning rate to 3.2768002178849846e-14.\n",
      "225/225 [==============================] - 197s 873ms/step - loss: 0.3742 - accuracy: 0.8658 - val_loss: 1.1075 - val_accuracy: 0.6622 - lr: 1.6384e-13\n",
      "Epoch 59/100\n",
      "225/225 [==============================] - ETA: 0s - loss: 0.3753 - accuracy: 0.8647"
     ]
    },
    {
     "name": "stderr",
     "output_type": "stream",
     "text": [
      "2024-04-10 14:02:27 - WARNING - Can save best model only with val_acc available, skipping.\n"
     ]
    },
    {
     "name": "stdout",
     "output_type": "stream",
     "text": [
      "225/225 [==============================] - 197s 874ms/step - loss: 0.3753 - accuracy: 0.8647 - val_loss: 1.1080 - val_accuracy: 0.6612 - lr: 3.2768e-14\n",
      "Epoch 60/100\n",
      "225/225 [==============================] - ETA: 0s - loss: 0.3726 - accuracy: 0.8629"
     ]
    },
    {
     "name": "stderr",
     "output_type": "stream",
     "text": [
      "2024-04-10 14:05:43 - WARNING - Can save best model only with val_acc available, skipping.\n"
     ]
    },
    {
     "name": "stdout",
     "output_type": "stream",
     "text": [
      "225/225 [==============================] - 196s 873ms/step - loss: 0.3726 - accuracy: 0.8629 - val_loss: 1.1084 - val_accuracy: 0.6619 - lr: 3.2768e-14\n",
      "Epoch 61/100\n",
      "225/225 [==============================] - ETA: 0s - loss: 0.3728 - accuracy: 0.8638"
     ]
    },
    {
     "name": "stderr",
     "output_type": "stream",
     "text": [
      "2024-04-10 14:09:00 - WARNING - Can save best model only with val_acc available, skipping.\n"
     ]
    },
    {
     "name": "stdout",
     "output_type": "stream",
     "text": [
      "\n",
      "Epoch 61: ReduceLROnPlateau reducing learning rate to 6.553600300244697e-15.\n",
      "225/225 [==============================] - 197s 875ms/step - loss: 0.3728 - accuracy: 0.8638 - val_loss: 1.1095 - val_accuracy: 0.6626 - lr: 3.2768e-14\n",
      "Epoch 62/100\n",
      "225/225 [==============================] - ETA: 0s - loss: 0.3792 - accuracy: 0.8626"
     ]
    },
    {
     "name": "stderr",
     "output_type": "stream",
     "text": [
      "2024-04-10 14:12:17 - WARNING - Can save best model only with val_acc available, skipping.\n"
     ]
    },
    {
     "name": "stdout",
     "output_type": "stream",
     "text": [
      "225/225 [==============================] - 197s 874ms/step - loss: 0.3792 - accuracy: 0.8626 - val_loss: 1.1073 - val_accuracy: 0.6622 - lr: 6.5536e-15\n",
      "Epoch 63/100\n",
      "225/225 [==============================] - ETA: 0s - loss: 0.3769 - accuracy: 0.8615"
     ]
    },
    {
     "name": "stderr",
     "output_type": "stream",
     "text": [
      "2024-04-10 14:15:34 - WARNING - Can save best model only with val_acc available, skipping.\n"
     ]
    },
    {
     "name": "stdout",
     "output_type": "stream",
     "text": [
      "225/225 [==============================] - 197s 875ms/step - loss: 0.3769 - accuracy: 0.8615 - val_loss: 1.1073 - val_accuracy: 0.6628 - lr: 6.5536e-15\n",
      "Epoch 64/100\n",
      "225/225 [==============================] - ETA: 0s - loss: 0.3744 - accuracy: 0.8622"
     ]
    },
    {
     "name": "stderr",
     "output_type": "stream",
     "text": [
      "2024-04-10 14:18:51 - WARNING - Can save best model only with val_acc available, skipping.\n"
     ]
    },
    {
     "name": "stdout",
     "output_type": "stream",
     "text": [
      "\n",
      "Epoch 64: ReduceLROnPlateau reducing learning rate to 1.3107200431082805e-15.\n",
      "225/225 [==============================] - 197s 875ms/step - loss: 0.3744 - accuracy: 0.8622 - val_loss: 1.1072 - val_accuracy: 0.6619 - lr: 6.5536e-15\n",
      "Epoch 65/100\n",
      "225/225 [==============================] - ETA: 0s - loss: 0.3723 - accuracy: 0.8648"
     ]
    },
    {
     "name": "stderr",
     "output_type": "stream",
     "text": [
      "2024-04-10 14:22:08 - WARNING - Can save best model only with val_acc available, skipping.\n"
     ]
    },
    {
     "name": "stdout",
     "output_type": "stream",
     "text": [
      "225/225 [==============================] - 197s 875ms/step - loss: 0.3723 - accuracy: 0.8648 - val_loss: 1.1076 - val_accuracy: 0.6626 - lr: 1.3107e-15\n",
      "Epoch 66/100\n",
      "225/225 [==============================] - ETA: 0s - loss: 0.3714 - accuracy: 0.8634"
     ]
    },
    {
     "name": "stderr",
     "output_type": "stream",
     "text": [
      "2024-04-10 14:25:24 - WARNING - Can save best model only with val_acc available, skipping.\n"
     ]
    },
    {
     "name": "stdout",
     "output_type": "stream",
     "text": [
      "225/225 [==============================] - 197s 874ms/step - loss: 0.3714 - accuracy: 0.8634 - val_loss: 1.1066 - val_accuracy: 0.6626 - lr: 1.3107e-15\n",
      "Epoch 67/100\n",
      "225/225 [==============================] - ETA: 0s - loss: 0.3799 - accuracy: 0.8622"
     ]
    },
    {
     "name": "stderr",
     "output_type": "stream",
     "text": [
      "2024-04-10 14:28:41 - WARNING - Can save best model only with val_acc available, skipping.\n"
     ]
    },
    {
     "name": "stdout",
     "output_type": "stream",
     "text": [
      "\n",
      "Epoch 67: ReduceLROnPlateau reducing learning rate to 2.6214401285682084e-16.\n",
      "225/225 [==============================] - 197s 876ms/step - loss: 0.3799 - accuracy: 0.8622 - val_loss: 1.1081 - val_accuracy: 0.6619 - lr: 1.3107e-15\n",
      "Epoch 68/100\n",
      "225/225 [==============================] - ETA: 0s - loss: 0.3775 - accuracy: 0.8645"
     ]
    },
    {
     "name": "stderr",
     "output_type": "stream",
     "text": [
      "2024-04-10 14:31:58 - WARNING - Can save best model only with val_acc available, skipping.\n"
     ]
    },
    {
     "name": "stdout",
     "output_type": "stream",
     "text": [
      "225/225 [==============================] - 196s 873ms/step - loss: 0.3775 - accuracy: 0.8645 - val_loss: 1.1092 - val_accuracy: 0.6625 - lr: 2.6214e-16\n",
      "Epoch 69/100\n",
      "225/225 [==============================] - ETA: 0s - loss: 0.3741 - accuracy: 0.8640"
     ]
    },
    {
     "name": "stderr",
     "output_type": "stream",
     "text": [
      "2024-04-10 14:35:15 - WARNING - Can save best model only with val_acc available, skipping.\n"
     ]
    },
    {
     "name": "stdout",
     "output_type": "stream",
     "text": [
      "225/225 [==============================] - 197s 875ms/step - loss: 0.3741 - accuracy: 0.8640 - val_loss: 1.1089 - val_accuracy: 0.6631 - lr: 2.6214e-16\n",
      "Epoch 70/100\n",
      "225/225 [==============================] - ETA: 0s - loss: 0.3721 - accuracy: 0.8650"
     ]
    },
    {
     "name": "stderr",
     "output_type": "stream",
     "text": [
      "2024-04-10 14:38:31 - WARNING - Can save best model only with val_acc available, skipping.\n"
     ]
    },
    {
     "name": "stdout",
     "output_type": "stream",
     "text": [
      "\n",
      "Epoch 70: ReduceLROnPlateau reducing learning rate to 5.2428803630155353e-17.\n",
      "225/225 [==============================] - 197s 875ms/step - loss: 0.3721 - accuracy: 0.8650 - val_loss: 1.1087 - val_accuracy: 0.6625 - lr: 2.6214e-16\n",
      "Epoch 71/100\n",
      "225/225 [==============================] - ETA: 0s - loss: 0.3780 - accuracy: 0.8613"
     ]
    },
    {
     "name": "stderr",
     "output_type": "stream",
     "text": [
      "2024-04-10 14:41:48 - WARNING - Can save best model only with val_acc available, skipping.\n"
     ]
    },
    {
     "name": "stdout",
     "output_type": "stream",
     "text": [
      "225/225 [==============================] - 197s 875ms/step - loss: 0.3780 - accuracy: 0.8613 - val_loss: 1.1089 - val_accuracy: 0.6626 - lr: 5.2429e-17\n",
      "Epoch 72/100\n",
      "225/225 [==============================] - ETA: 0s - loss: 0.3716 - accuracy: 0.8626"
     ]
    },
    {
     "name": "stderr",
     "output_type": "stream",
     "text": [
      "2024-04-10 14:45:05 - WARNING - Can save best model only with val_acc available, skipping.\n"
     ]
    },
    {
     "name": "stdout",
     "output_type": "stream",
     "text": [
      "225/225 [==============================] - 197s 875ms/step - loss: 0.3716 - accuracy: 0.8626 - val_loss: 1.1079 - val_accuracy: 0.6621 - lr: 5.2429e-17\n",
      "Epoch 73/100\n",
      "225/225 [==============================] - ETA: 0s - loss: 0.3731 - accuracy: 0.8629"
     ]
    },
    {
     "name": "stderr",
     "output_type": "stream",
     "text": [
      "2024-04-10 14:48:23 - WARNING - Can save best model only with val_acc available, skipping.\n"
     ]
    },
    {
     "name": "stdout",
     "output_type": "stream",
     "text": [
      "\n",
      "Epoch 73: ReduceLROnPlateau reducing learning rate to 1.0485760990728867e-17.\n",
      "225/225 [==============================] - 198s 880ms/step - loss: 0.3731 - accuracy: 0.8629 - val_loss: 1.1078 - val_accuracy: 0.6624 - lr: 5.2429e-17\n",
      "Epoch 74/100\n",
      "225/225 [==============================] - ETA: 0s - loss: 0.3754 - accuracy: 0.8603"
     ]
    },
    {
     "name": "stderr",
     "output_type": "stream",
     "text": [
      "2024-04-10 14:51:40 - WARNING - Can save best model only with val_acc available, skipping.\n"
     ]
    },
    {
     "name": "stdout",
     "output_type": "stream",
     "text": [
      "225/225 [==============================] - 197s 877ms/step - loss: 0.3754 - accuracy: 0.8603 - val_loss: 1.1084 - val_accuracy: 0.6628 - lr: 1.0486e-17\n",
      "Epoch 75/100\n",
      "225/225 [==============================] - ETA: 0s - loss: 0.3746 - accuracy: 0.8660"
     ]
    },
    {
     "name": "stderr",
     "output_type": "stream",
     "text": [
      "2024-04-10 14:54:57 - WARNING - Can save best model only with val_acc available, skipping.\n"
     ]
    },
    {
     "name": "stdout",
     "output_type": "stream",
     "text": [
      "225/225 [==============================] - 197s 875ms/step - loss: 0.3746 - accuracy: 0.8660 - val_loss: 1.1092 - val_accuracy: 0.6626 - lr: 1.0486e-17\n",
      "Epoch 76/100\n",
      "225/225 [==============================] - ETA: 0s - loss: 0.3757 - accuracy: 0.8638"
     ]
    },
    {
     "name": "stderr",
     "output_type": "stream",
     "text": [
      "2024-04-10 14:58:15 - WARNING - Can save best model only with val_acc available, skipping.\n"
     ]
    },
    {
     "name": "stdout",
     "output_type": "stream",
     "text": [
      "\n",
      "Epoch 76: ReduceLROnPlateau reducing learning rate to 2.097152165058549e-18.\n",
      "225/225 [==============================] - 197s 877ms/step - loss: 0.3757 - accuracy: 0.8638 - val_loss: 1.1096 - val_accuracy: 0.6621 - lr: 1.0486e-17\n",
      "Epoch 77/100\n",
      "225/225 [==============================] - ETA: 0s - loss: 0.3709 - accuracy: 0.8674"
     ]
    },
    {
     "name": "stderr",
     "output_type": "stream",
     "text": [
      "2024-04-10 15:01:32 - WARNING - Can save best model only with val_acc available, skipping.\n"
     ]
    },
    {
     "name": "stdout",
     "output_type": "stream",
     "text": [
      "225/225 [==============================] - 197s 876ms/step - loss: 0.3709 - accuracy: 0.8674 - val_loss: 1.1084 - val_accuracy: 0.6624 - lr: 2.0972e-18\n",
      "Epoch 78/100\n",
      "225/225 [==============================] - ETA: 0s - loss: 0.3708 - accuracy: 0.8666"
     ]
    },
    {
     "name": "stderr",
     "output_type": "stream",
     "text": [
      "2024-04-10 15:04:49 - WARNING - Can save best model only with val_acc available, skipping.\n"
     ]
    },
    {
     "name": "stdout",
     "output_type": "stream",
     "text": [
      "225/225 [==============================] - 197s 876ms/step - loss: 0.3708 - accuracy: 0.8666 - val_loss: 1.1084 - val_accuracy: 0.6626 - lr: 2.0972e-18\n",
      "Epoch 79/100\n",
      "225/225 [==============================] - ETA: 0s - loss: 0.3738 - accuracy: 0.8635"
     ]
    },
    {
     "name": "stderr",
     "output_type": "stream",
     "text": [
      "2024-04-10 15:08:06 - WARNING - Can save best model only with val_acc available, skipping.\n"
     ]
    },
    {
     "name": "stdout",
     "output_type": "stream",
     "text": [
      "\n",
      "Epoch 79: ReduceLROnPlateau reducing learning rate to 4.19430449555322e-19.\n",
      "225/225 [==============================] - 197s 876ms/step - loss: 0.3738 - accuracy: 0.8635 - val_loss: 1.1082 - val_accuracy: 0.6625 - lr: 2.0972e-18\n",
      "Epoch 80/100\n",
      "225/225 [==============================] - ETA: 0s - loss: 0.3770 - accuracy: 0.8635"
     ]
    },
    {
     "name": "stderr",
     "output_type": "stream",
     "text": [
      "2024-04-10 15:11:24 - WARNING - Can save best model only with val_acc available, skipping.\n"
     ]
    },
    {
     "name": "stdout",
     "output_type": "stream",
     "text": [
      "225/225 [==============================] - 198s 879ms/step - loss: 0.3770 - accuracy: 0.8635 - val_loss: 1.1082 - val_accuracy: 0.6636 - lr: 4.1943e-19\n",
      "Epoch 81/100\n",
      "225/225 [==============================] - ETA: 0s - loss: 0.3749 - accuracy: 0.8661"
     ]
    },
    {
     "name": "stderr",
     "output_type": "stream",
     "text": [
      "2024-04-10 15:14:42 - WARNING - Can save best model only with val_acc available, skipping.\n"
     ]
    },
    {
     "name": "stdout",
     "output_type": "stream",
     "text": [
      "225/225 [==============================] - 198s 879ms/step - loss: 0.3749 - accuracy: 0.8661 - val_loss: 1.1076 - val_accuracy: 0.6626 - lr: 4.1943e-19\n",
      "Epoch 82/100\n",
      "225/225 [==============================] - ETA: 0s - loss: 0.3736 - accuracy: 0.8651"
     ]
    },
    {
     "name": "stderr",
     "output_type": "stream",
     "text": [
      "2024-04-10 15:18:00 - WARNING - Can save best model only with val_acc available, skipping.\n"
     ]
    },
    {
     "name": "stdout",
     "output_type": "stream",
     "text": [
      "\n",
      "Epoch 82: ReduceLROnPlateau reducing learning rate to 8.388609197901593e-20.\n",
      "225/225 [==============================] - 198s 880ms/step - loss: 0.3736 - accuracy: 0.8651 - val_loss: 1.1068 - val_accuracy: 0.6622 - lr: 4.1943e-19\n",
      "Epoch 83/100\n",
      "225/225 [==============================] - ETA: 0s - loss: 0.3771 - accuracy: 0.8635"
     ]
    },
    {
     "name": "stderr",
     "output_type": "stream",
     "text": [
      "2024-04-10 15:21:17 - WARNING - Can save best model only with val_acc available, skipping.\n"
     ]
    },
    {
     "name": "stdout",
     "output_type": "stream",
     "text": [
      "225/225 [==============================] - 197s 877ms/step - loss: 0.3771 - accuracy: 0.8635 - val_loss: 1.1090 - val_accuracy: 0.6626 - lr: 8.3886e-20\n",
      "Epoch 84/100\n",
      "225/225 [==============================] - ETA: 0s - loss: 0.3751 - accuracy: 0.8640"
     ]
    },
    {
     "name": "stderr",
     "output_type": "stream",
     "text": [
      "2024-04-10 15:24:34 - WARNING - Can save best model only with val_acc available, skipping.\n"
     ]
    },
    {
     "name": "stdout",
     "output_type": "stream",
     "text": [
      "225/225 [==============================] - 197s 877ms/step - loss: 0.3751 - accuracy: 0.8640 - val_loss: 1.1097 - val_accuracy: 0.6621 - lr: 8.3886e-20\n",
      "Epoch 85/100\n",
      "225/225 [==============================] - ETA: 0s - loss: 0.3736 - accuracy: 0.8613"
     ]
    },
    {
     "name": "stderr",
     "output_type": "stream",
     "text": [
      "2024-04-10 15:27:52 - WARNING - Can save best model only with val_acc available, skipping.\n"
     ]
    },
    {
     "name": "stdout",
     "output_type": "stream",
     "text": [
      "\n",
      "Epoch 85: ReduceLROnPlateau reducing learning rate to 1.6777218395803187e-20.\n",
      "225/225 [==============================] - 197s 878ms/step - loss: 0.3736 - accuracy: 0.8613 - val_loss: 1.1081 - val_accuracy: 0.6628 - lr: 8.3886e-20\n",
      "Epoch 86/100\n",
      "225/225 [==============================] - ETA: 0s - loss: 0.3750 - accuracy: 0.8630"
     ]
    },
    {
     "name": "stderr",
     "output_type": "stream",
     "text": [
      "2024-04-10 15:31:10 - WARNING - Can save best model only with val_acc available, skipping.\n"
     ]
    },
    {
     "name": "stdout",
     "output_type": "stream",
     "text": [
      "225/225 [==============================] - 198s 880ms/step - loss: 0.3750 - accuracy: 0.8630 - val_loss: 1.1083 - val_accuracy: 0.6621 - lr: 1.6777e-20\n",
      "Epoch 87/100\n",
      "225/225 [==============================] - ETA: 0s - loss: 0.3799 - accuracy: 0.8637"
     ]
    },
    {
     "name": "stderr",
     "output_type": "stream",
     "text": [
      "2024-04-10 15:34:28 - WARNING - Can save best model only with val_acc available, skipping.\n"
     ]
    },
    {
     "name": "stdout",
     "output_type": "stream",
     "text": [
      "225/225 [==============================] - 198s 879ms/step - loss: 0.3799 - accuracy: 0.8637 - val_loss: 1.1084 - val_accuracy: 0.6619 - lr: 1.6777e-20\n",
      "Epoch 88/100\n",
      "225/225 [==============================] - ETA: 0s - loss: 0.3731 - accuracy: 0.8633"
     ]
    },
    {
     "name": "stderr",
     "output_type": "stream",
     "text": [
      "2024-04-10 15:37:45 - WARNING - Can save best model only with val_acc available, skipping.\n"
     ]
    },
    {
     "name": "stdout",
     "output_type": "stream",
     "text": [
      "\n",
      "Epoch 88: ReduceLROnPlateau reducing learning rate to 3.3554436145371517e-21.\n",
      "225/225 [==============================] - 198s 879ms/step - loss: 0.3731 - accuracy: 0.8633 - val_loss: 1.1088 - val_accuracy: 0.6625 - lr: 1.6777e-20\n",
      "Epoch 89/100\n",
      "225/225 [==============================] - ETA: 0s - loss: 0.3717 - accuracy: 0.8639"
     ]
    },
    {
     "name": "stderr",
     "output_type": "stream",
     "text": [
      "2024-04-10 15:41:03 - WARNING - Can save best model only with val_acc available, skipping.\n"
     ]
    },
    {
     "name": "stdout",
     "output_type": "stream",
     "text": [
      "225/225 [==============================] - 197s 877ms/step - loss: 0.3717 - accuracy: 0.8639 - val_loss: 1.1090 - val_accuracy: 0.6619 - lr: 3.3554e-21\n",
      "Epoch 90/100\n",
      "225/225 [==============================] - ETA: 0s - loss: 0.3740 - accuracy: 0.8615"
     ]
    },
    {
     "name": "stderr",
     "output_type": "stream",
     "text": [
      "2024-04-10 15:44:20 - WARNING - Can save best model only with val_acc available, skipping.\n"
     ]
    },
    {
     "name": "stdout",
     "output_type": "stream",
     "text": [
      "225/225 [==============================] - 198s 879ms/step - loss: 0.3740 - accuracy: 0.8615 - val_loss: 1.1083 - val_accuracy: 0.6618 - lr: 3.3554e-21\n",
      "Epoch 91/100\n",
      "225/225 [==============================] - ETA: 0s - loss: 0.3726 - accuracy: 0.8632"
     ]
    },
    {
     "name": "stderr",
     "output_type": "stream",
     "text": [
      "2024-04-10 15:47:38 - WARNING - Can save best model only with val_acc available, skipping.\n"
     ]
    },
    {
     "name": "stdout",
     "output_type": "stream",
     "text": [
      "\n",
      "Epoch 91: ReduceLROnPlateau reducing learning rate to 6.710887229074304e-22.\n",
      "225/225 [==============================] - 198s 880ms/step - loss: 0.3726 - accuracy: 0.8632 - val_loss: 1.1075 - val_accuracy: 0.6622 - lr: 3.3554e-21\n",
      "Epoch 92/100\n",
      "225/225 [==============================] - ETA: 0s - loss: 0.3771 - accuracy: 0.8623"
     ]
    },
    {
     "name": "stderr",
     "output_type": "stream",
     "text": [
      "2024-04-10 15:50:56 - WARNING - Can save best model only with val_acc available, skipping.\n"
     ]
    },
    {
     "name": "stdout",
     "output_type": "stream",
     "text": [
      "225/225 [==============================] - 198s 879ms/step - loss: 0.3771 - accuracy: 0.8623 - val_loss: 1.1097 - val_accuracy: 0.6621 - lr: 6.7109e-22\n",
      "Epoch 93/100\n",
      "225/225 [==============================] - ETA: 0s - loss: 0.3756 - accuracy: 0.8631"
     ]
    },
    {
     "name": "stderr",
     "output_type": "stream",
     "text": [
      "2024-04-10 15:54:14 - WARNING - Can save best model only with val_acc available, skipping.\n"
     ]
    },
    {
     "name": "stdout",
     "output_type": "stream",
     "text": [
      "225/225 [==============================] - 197s 878ms/step - loss: 0.3756 - accuracy: 0.8631 - val_loss: 1.1081 - val_accuracy: 0.6622 - lr: 6.7109e-22\n",
      "Epoch 94/100\n",
      "225/225 [==============================] - ETA: 0s - loss: 0.3735 - accuracy: 0.8648"
     ]
    },
    {
     "name": "stderr",
     "output_type": "stream",
     "text": [
      "2024-04-10 15:57:31 - WARNING - Can save best model only with val_acc available, skipping.\n"
     ]
    },
    {
     "name": "stdout",
     "output_type": "stream",
     "text": [
      "\n",
      "Epoch 94: ReduceLROnPlateau reducing learning rate to 1.3421774862045392e-22.\n",
      "225/225 [==============================] - 198s 879ms/step - loss: 0.3735 - accuracy: 0.8648 - val_loss: 1.1071 - val_accuracy: 0.6628 - lr: 6.7109e-22\n",
      "Epoch 95/100\n",
      "225/225 [==============================] - ETA: 0s - loss: 0.3705 - accuracy: 0.8653"
     ]
    },
    {
     "name": "stderr",
     "output_type": "stream",
     "text": [
      "2024-04-10 16:00:48 - WARNING - Can save best model only with val_acc available, skipping.\n"
     ]
    },
    {
     "name": "stdout",
     "output_type": "stream",
     "text": [
      "225/225 [==============================] - 197s 874ms/step - loss: 0.3705 - accuracy: 0.8653 - val_loss: 1.1079 - val_accuracy: 0.6622 - lr: 1.3422e-22\n",
      "Epoch 96/100\n",
      "225/225 [==============================] - ETA: 0s - loss: 0.3756 - accuracy: 0.8622"
     ]
    },
    {
     "name": "stderr",
     "output_type": "stream",
     "text": [
      "2024-04-10 16:04:06 - WARNING - Can save best model only with val_acc available, skipping.\n"
     ]
    },
    {
     "name": "stdout",
     "output_type": "stream",
     "text": [
      "225/225 [==============================] - 198s 879ms/step - loss: 0.3756 - accuracy: 0.8622 - val_loss: 1.1089 - val_accuracy: 0.6624 - lr: 1.3422e-22\n",
      "Epoch 97/100\n",
      "225/225 [==============================] - ETA: 0s - loss: 0.3715 - accuracy: 0.8662"
     ]
    },
    {
     "name": "stderr",
     "output_type": "stream",
     "text": [
      "2024-04-10 16:07:23 - WARNING - Can save best model only with val_acc available, skipping.\n"
     ]
    },
    {
     "name": "stdout",
     "output_type": "stream",
     "text": [
      "\n",
      "Epoch 97: ReduceLROnPlateau reducing learning rate to 2.684355073383274e-23.\n",
      "225/225 [==============================] - 197s 874ms/step - loss: 0.3715 - accuracy: 0.8662 - val_loss: 1.1071 - val_accuracy: 0.6622 - lr: 1.3422e-22\n",
      "Epoch 98/100\n",
      "225/225 [==============================] - ETA: 0s - loss: 0.3729 - accuracy: 0.8660"
     ]
    },
    {
     "name": "stderr",
     "output_type": "stream",
     "text": [
      "2024-04-10 16:10:38 - WARNING - Can save best model only with val_acc available, skipping.\n"
     ]
    },
    {
     "name": "stdout",
     "output_type": "stream",
     "text": [
      "225/225 [==============================] - 196s 870ms/step - loss: 0.3729 - accuracy: 0.8660 - val_loss: 1.1073 - val_accuracy: 0.6626 - lr: 2.6844e-23\n",
      "Epoch 99/100\n",
      "225/225 [==============================] - ETA: 0s - loss: 0.3843 - accuracy: 0.8587"
     ]
    },
    {
     "name": "stderr",
     "output_type": "stream",
     "text": [
      "2024-04-10 16:13:58 - WARNING - Can save best model only with val_acc available, skipping.\n"
     ]
    },
    {
     "name": "stdout",
     "output_type": "stream",
     "text": [
      "225/225 [==============================] - 200s 887ms/step - loss: 0.3843 - accuracy: 0.8587 - val_loss: 1.1069 - val_accuracy: 0.6625 - lr: 2.6844e-23\n",
      "Epoch 100/100\n",
      "225/225 [==============================] - ETA: 0s - loss: 0.3782 - accuracy: 0.8636"
     ]
    },
    {
     "name": "stderr",
     "output_type": "stream",
     "text": [
      "2024-04-10 16:17:21 - WARNING - Can save best model only with val_acc available, skipping.\n"
     ]
    },
    {
     "name": "stdout",
     "output_type": "stream",
     "text": [
      "\n",
      "Epoch 100: ReduceLROnPlateau reducing learning rate to 5.368710272984293e-24.\n",
      "225/225 [==============================] - 203s 901ms/step - loss: 0.3782 - accuracy: 0.8636 - val_loss: 1.1078 - val_accuracy: 0.6631 - lr: 2.6844e-23\n"
     ]
    },
    {
     "name": "stderr",
     "output_type": "stream",
     "text": [
      "D:\\Desktop\\Deep Learning\\Lab 2\\MNSIT-MLPClassifer\\venv\\lib\\site-packages\\keras\\src\\engine\\training.py:3103: UserWarning: You are saving your model as an HDF5 file via `model.save()`. This file format is considered legacy. We recommend using instead the native Keras format, e.g. `model.save('my_model.keras')`.\n",
      "  saving_api.save_model(\n"
     ]
    }
   ],
   "source": [
    "history = model.fit(train_set,\n",
    "                                steps_per_epoch=train_set.n//train_set.batch_size,\n",
    "                                epochs=epochs,\n",
    "                                validation_data = test_set,\n",
    "                                validation_steps = test_set.n//test_set.batch_size,\n",
    "                                callbacks=callbacks_list\n",
    "                                )\n",
    "\n",
    "model.save(Path(os.getcwd()) / \"Model/CNN\"/ \"cnn_model_final.h5\")"
   ]
  },
  {
   "cell_type": "code",
   "execution_count": 16,
   "metadata": {},
   "outputs": [
    {
     "data": {
      "image/png": "[encoded data removed]",
      "text/plain": [
       "<Figure size 1000x600 with 1 Axes>"
      ]
     },
     "metadata": {},
     "output_type": "display_data"
    },
    {
     "data": {
      "image/png": "[encoded data removed]",
      "text/plain": [
       "<Figure size 1000x600 with 1 Axes>"
      ]
     },
     "metadata": {},
     "output_type": "display_data"
    }
   ],
   "source": [
    "# Save plots\n",
    "plots_path = Path(os.getcwd()) / \"Model\" / \"CNN\"\n",
    "plt.style.use('dark_background')\n",
    "\n",
    "# Loss plot\n",
    "plt.figure(figsize=(10, 6))\n",
    "plt.ylabel('Loss', fontsize=16)\n",
    "plt.plot(history.history['loss'], label='Training Loss')\n",
    "plt.plot(history.history['val_loss'], label='Validation Loss')\n",
    "plt.legend(loc='upper right')\n",
    "plt.title('CNN Loss')\n",
    "plt.savefig(plots_path / \"CNN_Loss.png\")\n",
    "plt.show()\n",
    "\n",
    "# Accuracy plot\n",
    "plt.figure(figsize=(10, 6))\n",
    "plt.ylabel('Accuracy', fontsize=16)\n",
    "plt.plot(history.history['accuracy'], label='Training Accuracy')\n",
    "plt.plot(history.history['val_accuracy'], label='Validation Accuracy')\n",
    "plt.legend(loc='lower right')\n",
    "plt.title('CNN Accuracy')\n",
    "plt.savefig(plots_path / \"CNN_Accuracy.png\")\n",
    "plt.show()\n"
   ]
  },
  {
   "cell_type": "markdown",
   "metadata": {},
   "source": [
    "# Retraining from Checkpoints"
   ]
  },
  {
   "cell_type": "code",
   "execution_count": 17,
   "metadata": {},
   "outputs": [],
   "source": [
    "# # Define callbacks\n",
    "# checkpoint = ModelCheckpoint(str(Path(os.getcwd()) / \"Model/CNN\"/\"cnnmodel.keras\"), monitor='val_accuracy', verbose=1, save_best_only=True, mode='max')\n",
    "# early_stopping = EarlyStopping(monitor='val_loss', min_delta=0, patience=3, verbose=1, restore_best_weights=True)\n",
    "# reduce_learningrate = ReduceLROnPlateau(monitor='val_loss', factor=0.2, patience=3, verbose=1, min_delta=0.0001)\n",
    "# callbacks_list = [early_stopping, checkpoint, reduce_learningrate]"
   ]
  },
  {
   "cell_type": "code",
   "execution_count": 18,
   "metadata": {},
   "outputs": [],
   "source": [
    "# callbacks_list = [checkpoint, reduce_learningrate]\n",
    "# epochs = 8\n",
    "# history = model.fit(train_set,\n",
    "#                     steps_per_epoch=train_set.n // train_set.batch_size,\n",
    "#                     epochs=epochs,\n",
    "#                     validation_data=test_set,\n",
    "#                     validation_steps=test_set.n // test_set.batch_size,\n",
    "#                     callbacks=callbacks_list)\n",
    "\n",
    "# model.save(Path(os.getcwd()) / \"Model/CNN\"/ \"cnn_model_final.h5\")"
   ]
  },
  {
   "cell_type": "code",
   "execution_count": 19,
   "metadata": {},
   "outputs": [],
   "source": [
    "# # Save plots\n",
    "# plots_path = Path(os.getcwd()) / \"Model\" / \"CNN\"\n",
    "# plt.style.use('dark_background')\n",
    "\n",
    "# # Loss plot\n",
    "# plt.figure(figsize=(10, 6))\n",
    "# plt.ylabel('Loss', fontsize=16)\n",
    "# plt.plot(history.history['loss'], label='Training Loss')\n",
    "# plt.plot(history.history['val_loss'], label='Validation Loss')\n",
    "# plt.legend(loc='upper right')\n",
    "# plt.title('CNN Loss')\n",
    "# plt.savefig(plots_path / \"CNN_Loss.png\")\n",
    "# plt.show()\n",
    "\n",
    "# # Accuracy plot\n",
    "# plt.figure(figsize=(10, 6))\n",
    "# plt.ylabel('Accuracy', fontsize=16)\n",
    "# plt.plot(history.history['accuracy'], label='Training Accuracy')\n",
    "# plt.plot(history.history['val_accuracy'], label='Validation Accuracy')\n",
    "# plt.legend(loc='lower right')\n",
    "# plt.title('CNN Accuracy')\n",
    "# plt.savefig(plots_path / \"CNN_Accuracy.png\")\n",
    "# plt.show()\n"
   ]
  },
  {
   "cell_type": "markdown",
   "metadata": {},
   "source": [
    "# Iter3"
   ]
  },
  {
   "cell_type": "code",
   "execution_count": 20,
   "metadata": {},
   "outputs": [],
   "source": [
    "# # Define callbacks\n",
    "# checkpoint = ModelCheckpoint(str(Path(os.getcwd()) / \"Model/CNN\"/\"cnnmodel.keras\"), monitor='val_accuracy', verbose=1, save_best_only=True, mode='max')\n",
    "# early_stopping = EarlyStopping(monitor='val_loss', min_delta=0, patience=3, verbose=1, restore_best_weights=True)\n",
    "# reduce_learningrate = ReduceLROnPlateau(monitor='val_loss', factor=0.2, patience=3, verbose=1, min_delta=0.0001)\n",
    "# callbacks_list = [early_stopping, checkpoint, reduce_learningrate]"
   ]
  },
  {
   "cell_type": "code",
   "execution_count": 21,
   "metadata": {},
   "outputs": [],
   "source": [
    "# callbacks_list = [checkpoint, reduce_learningrate]\n",
    "# epochs = 5\n",
    "# history = model.fit(train_set,\n",
    "#                     steps_per_epoch=train_set.n // train_set.batch_size,\n",
    "#                     epochs=epochs,\n",
    "#                     validation_data=test_set,\n",
    "#                     validation_steps=test_set.n // test_set.batch_size,\n",
    "#                     callbacks=callbacks_list)\n",
    "\n",
    "# model.save(Path(os.getcwd()) / \"Model/CNN\"/ \"cnn_model_final.h5\")"
   ]
  },
  {
   "cell_type": "code",
   "execution_count": 22,
   "metadata": {},
   "outputs": [],
   "source": [
    "# # Save plots\n",
    "# plots_path = Path(os.getcwd()) / \"Model\" / \"CNN\"\n",
    "# plt.style.use('dark_background')\n",
    "\n",
    "# # Loss plot\n",
    "# plt.figure(figsize=(10, 6))\n",
    "# plt.ylabel('Loss', fontsize=16)\n",
    "# plt.plot(history.history['loss'], label='Training Loss')\n",
    "# plt.plot(history.history['val_loss'], label='Validation Loss')\n",
    "# plt.legend(loc='upper right')\n",
    "# plt.title('CNN Loss')\n",
    "# plt.savefig(plots_path / \"CNN_Loss.png\")\n",
    "# plt.show()\n",
    "\n",
    "# # Accuracy plot\n",
    "# plt.figure(figsize=(10, 6))\n",
    "# plt.ylabel('Accuracy', fontsize=16)\n",
    "# plt.plot(history.history['accuracy'], label='Training Accuracy')\n",
    "# plt.plot(history.history['val_accuracy'], label='Validation Accuracy')\n",
    "# plt.legend(loc='lower right')\n",
    "# plt.title('CNN Accuracy')\n",
    "# plt.savefig(plots_path / \"CNN_Accuracy.png\")\n",
    "# plt.show()\n"
   ]
  }
 ],
 "metadata": {
  "kernelspec": {
   "display_name": "Python 3 (ipykernel)",
   "language": "python",
   "name": "python3"
  },
  "language_info": {
   "codemirror_mode": {
    "name": "ipython",
    "version": 3
   },
   "file_extension": ".py",
   "mimetype": "text/x-python",
   "name": "python",
   "nbconvert_exporter": "python",
   "pygments_lexer": "ipython3",
   "version": "3.12.1"
  }
 },
 "nbformat": 4,
 "nbformat_minor": 4
}
