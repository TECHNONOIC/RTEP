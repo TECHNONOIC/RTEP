{
 "cells": [
  {
   "cell_type": "code",
   "execution_count": 1,
   "id": "665944c3-fd5b-4161-a8ab-9bb59fffb1af",
   "metadata": {},
   "outputs": [],
   "source": [
    "import os"
   ]
  },
  {
   "cell_type": "code",
   "execution_count": 2,
   "id": "8727991f-fde4-447b-bfc8-30818fb2a625",
   "metadata": {},
   "outputs": [
    {
     "data": {
      "text/plain": [
       "'E:\\\\GAN for Face expression Classification\\\\iteration 2\\\\research'"
      ]
     },
     "execution_count": 2,
     "metadata": {},
     "output_type": "execute_result"
    }
   ],
   "source": [
    "%pwd"
   ]
  },
  {
   "cell_type": "code",
   "execution_count": 3,
   "id": "ba8b5851-ff02-4dd4-83c6-8105c3342565",
   "metadata": {},
   "outputs": [],
   "source": [
    "os.chdir(\"../\")"
   ]
  },
  {
   "cell_type": "code",
   "execution_count": 4,
   "id": "5258376a-62f0-4424-acb3-9842525eb7d0",
   "metadata": {},
   "outputs": [
    {
     "data": {
      "text/plain": [
       "'E:\\\\GAN for Face expression Classification\\\\iteration 2'"
      ]
     },
     "execution_count": 4,
     "metadata": {},
     "output_type": "execute_result"
    }
   ],
   "source": [
    "%pwd"
   ]
  },
  {
   "cell_type": "code",
   "execution_count": 5,
   "id": "1164c1d1-6057-41f1-90b6-7637fbc79523",
   "metadata": {},
   "outputs": [],
   "source": [
    "import logging\n",
    "from pathlib import Path\n",
    "logging.basicConfig(\n",
    "    # filename='extract_data.log',\n",
    "    level=logging.INFO,\n",
    "    format='%(asctime)s - %(levelname)s - %(message)s',\n",
    "    datefmt='%Y-%m-%d %H:%M:%S'\n",
    ")"
   ]
  },
  {
   "cell_type": "code",
   "execution_count": 6,
   "id": "eb7cd12b-8eb2-4b94-9033-6e9af7ff30e0",
   "metadata": {},
   "outputs": [],
   "source": [
    "import matplotlib.pyplot as plt\n",
    "import numpy as np\n",
    "import pandas as pd\n",
    "import seaborn as sns\n",
    "import os"
   ]
  },
  {
   "cell_type": "code",
   "execution_count": 7,
   "id": "8889a37b-a515-448f-beb5-36977fe1ba01",
   "metadata": {},
   "outputs": [],
   "source": [
    "from keras.preprocessing.image import load_img, img_to_array\n",
    "from tensorflow.keras.preprocessing.image import ImageDataGenerator\n",
    "from keras. layers import Dense, Input, Dropout, GlobalAveragePooling2D, Flatten, Conv2D, BatchNormalization, Activation, MaxPooling2D\n",
    "from keras.models import Model, Sequential\n",
    "from keras.optimizers import Adam, SGD, RMSprop"
   ]
  },
  {
   "cell_type": "code",
   "execution_count": 8,
   "id": "22adaa6b-cec4-4ead-89fc-44b20ba1ead8",
   "metadata": {},
   "outputs": [],
   "source": [
    "from sklearn.model_selection import train_test_split\n",
    "import os\n",
    "from pathlib import Path"
   ]
  },
  {
   "cell_type": "code",
   "execution_count": 9,
   "id": "3db3e718-b6a5-4629-8660-48448ff5bb97",
   "metadata": {},
   "outputs": [],
   "source": [
    "dataset_dir = Path(os.getcwd()) / \"dataset/Balanced_train\""
   ]
  },
  {
   "cell_type": "code",
   "execution_count": 10,
   "id": "fc1d6384-1333-4ba8-8bc4-041573c7a130",
   "metadata": {},
   "outputs": [],
   "source": [
    "picture_size = 64"
   ]
  },
  {
   "cell_type": "code",
   "execution_count": 11,
   "id": "501e6fca-ae5d-4185-9581-e5305e85825e",
   "metadata": {},
   "outputs": [],
   "source": [
    "batch_size  = 128\n",
    "datagen_train  = ImageDataGenerator()\n"
   ]
  },
  {
   "cell_type": "code",
   "execution_count": 12,
   "id": "c3077542-1466-4578-bb0a-acb13e0253df",
   "metadata": {},
   "outputs": [],
   "source": [
    "file_paths = []\n",
    "labels = []\n",
    "\n",
    "for class_name in os.listdir(dataset_dir):\n",
    "    class_dir = dataset_dir / class_name\n",
    "    if os.path.isdir(class_dir):\n",
    "        for file_name in os.listdir(class_dir):\n",
    "            file_paths.append(str(class_dir / file_name))\n",
    "            labels.append(class_name)\n"
   ]
  },
  {
   "cell_type": "code",
   "execution_count": 13,
   "id": "66ebea4c-e3d9-49c0-8a39-dcbbe9515120",
   "metadata": {},
   "outputs": [],
   "source": [
    "data = pd.DataFrame({'file_path': file_paths, 'label': labels})\n"
   ]
  },
  {
   "cell_type": "code",
   "execution_count": 14,
   "id": "c8710612-2ef8-4653-b4e6-f79e9b9952dc",
   "metadata": {},
   "outputs": [],
   "source": [
    "train_data, test_data = train_test_split(data, test_size=0.2, random_state=42)\n"
   ]
  },
  {
   "cell_type": "code",
   "execution_count": 15,
   "id": "61b69851-8e29-40e0-80c4-fcb7e17ed238",
   "metadata": {},
   "outputs": [
    {
     "name": "stdout",
     "output_type": "stream",
     "text": [
      "Found 2441 validated image filenames belonging to 7 classes.\n"
     ]
    }
   ],
   "source": [
    "train_set = datagen_train.flow_from_dataframe(\n",
    "    dataframe=train_data,\n",
    "    x_col='file_path',\n",
    "    y_col='label',\n",
    "    target_size=(picture_size, picture_size),\n",
    "    color_mode=\"grayscale\",\n",
    "    batch_size=batch_size,\n",
    "    class_mode='categorical',\n",
    "    shuffle=True\n",
    ")\n"
   ]
  },
  {
   "cell_type": "code",
   "execution_count": 16,
   "id": "db5095c4-75b5-4ce3-b2d7-1be3598b6a87",
   "metadata": {},
   "outputs": [],
   "source": [
    "\n",
    "\n",
    "def log_dataset_info(dataset):\n",
    "   \n",
    "    # Check if the input is train_set or test_set\n",
    "    if 'train' in str(dataset).lower():\n",
    "        dataset_type = \"Train Set\"\n",
    "    elif 'test' in str(dataset).lower():\n",
    "        dataset_type = \"Test Set\"\n",
    "    else:\n",
    "        dataset_type = \"Dataset\"\n",
    "\n",
    "    # Log dataset information\n",
    "    logging.info(f\"{dataset_type} Information:\")\n",
    "    class_labels = sorted(dataset.class_indices.items(), key=lambda x: x[1])\n",
    "    for label, index in class_labels:\n",
    "        num_images = len([x for x in dataset.labels if x == index])\n",
    "        logging.info(f\"Class '{label}' (index {index}): {num_images} images\")"
   ]
  },
  {
   "cell_type": "code",
   "execution_count": 17,
   "id": "c5470ddd-26b1-4cde-b169-6e4b2e1e0590",
   "metadata": {},
   "outputs": [
    {
     "name": "stderr",
     "output_type": "stream",
     "text": [
      "2024-05-04 01:13:19 - INFO - Dataset Information:\n",
      "2024-05-04 01:13:19 - INFO - Class 'angry' (index 0): 337 images\n",
      "2024-05-04 01:13:19 - INFO - Class 'disgust' (index 1): 345 images\n",
      "2024-05-04 01:13:19 - INFO - Class 'fear' (index 2): 360 images\n",
      "2024-05-04 01:13:19 - INFO - Class 'happy' (index 3): 347 images\n",
      "2024-05-04 01:13:19 - INFO - Class 'neutral' (index 4): 350 images\n",
      "2024-05-04 01:13:19 - INFO - Class 'sad' (index 5): 350 images\n",
      "2024-05-04 01:13:19 - INFO - Class 'surprise' (index 6): 352 images\n"
     ]
    }
   ],
   "source": [
    "log_dataset_info(train_set)"
   ]
  },
  {
   "cell_type": "code",
   "execution_count": 18,
   "id": "10e9064a-f77c-49d6-8743-b995ebd54b77",
   "metadata": {},
   "outputs": [
    {
     "name": "stdout",
     "output_type": "stream",
     "text": [
      "Found 611 validated image filenames belonging to 7 classes.\n"
     ]
    }
   ],
   "source": [
    "test_set = datagen_train.flow_from_dataframe(\n",
    "    dataframe=test_data,\n",
    "    x_col='file_path',\n",
    "    y_col='label',\n",
    "    target_size=(picture_size, picture_size),\n",
    "    color_mode=\"grayscale\",\n",
    "    batch_size=batch_size,\n",
    "    class_mode='categorical',\n",
    "    shuffle=False\n",
    ")"
   ]
  },
  {
   "cell_type": "code",
   "execution_count": 19,
   "id": "65bab230-fcd7-412a-9eee-a90563697241",
   "metadata": {},
   "outputs": [
    {
     "name": "stderr",
     "output_type": "stream",
     "text": [
      "2024-05-04 01:13:19 - INFO - Dataset Information:\n",
      "2024-05-04 01:13:19 - INFO - Class 'angry' (index 0): 99 images\n",
      "2024-05-04 01:13:19 - INFO - Class 'disgust' (index 1): 91 images\n",
      "2024-05-04 01:13:19 - INFO - Class 'fear' (index 2): 76 images\n",
      "2024-05-04 01:13:19 - INFO - Class 'happy' (index 3): 89 images\n",
      "2024-05-04 01:13:19 - INFO - Class 'neutral' (index 4): 86 images\n",
      "2024-05-04 01:13:19 - INFO - Class 'sad' (index 5): 86 images\n",
      "2024-05-04 01:13:19 - INFO - Class 'surprise' (index 6): 84 images\n"
     ]
    }
   ],
   "source": [
    "log_dataset_info(test_set)"
   ]
  },
  {
   "cell_type": "code",
   "execution_count": 20,
   "id": "6c4e108c-f1a1-44c1-91f2-edbcfdc1e210",
   "metadata": {},
   "outputs": [],
   "source": [
    "from keras.optimizers import Adam,SGD,RMSprop"
   ]
  },
  {
   "cell_type": "markdown",
   "id": "f9e740c1-1f4d-4e2a-9d05-0d56c208a3ab",
   "metadata": {},
   "source": [
    "# Alex Net"
   ]
  },
  {
   "cell_type": "code",
   "execution_count": 21,
   "id": "f26e0fdd-7f2e-4d70-9b81-9fbe72df8bbf",
   "metadata": {},
   "outputs": [],
   "source": [
    "import keras\n",
    "from keras.models import Model\n",
    "from keras.layers import Input, Dense, Add, Conv2D, DepthwiseConv2D, SeparableConv2D\n",
    "from keras.layers import Flatten, MaxPool2D, AvgPool2D, GlobalAvgPool2D, ZeroPadding2D, UpSampling2D, BatchNormalization\n",
    "from keras.layers import Concatenate, Add, Dropout, ReLU, Activation, LeakyReLU\n",
    "import keras.backend as K\n",
    "from time import time\n",
    "import numpy as np"
   ]
  },
  {
   "cell_type": "code",
   "execution_count": 22,
   "id": "b48fe166-64db-4c50-afb7-a9c58aa4c04c",
   "metadata": {},
   "outputs": [],
   "source": [
    "input_shape = 64, 64, 1\n",
    "n_classes = 7"
   ]
  },
  {
   "cell_type": "code",
   "execution_count": 23,
   "id": "584d615b-c4a5-4f52-8d9f-d690c88714d5",
   "metadata": {},
   "outputs": [
    {
     "data": {
      "text/html": [
       "<pre style=\"white-space:pre;overflow-x:auto;line-height:normal;font-family:Menlo,'DejaVu Sans Mono',consolas,'Courier New',monospace\"><span style=\"font-weight: bold\">Model: \"functional_1\"</span>\n",
       "</pre>\n"
      ],
      "text/plain": [
       "\u001b[1mModel: \"functional_1\"\u001b[0m\n"
      ]
     },
     "metadata": {},
     "output_type": "display_data"
    },
    {
     "data": {
      "text/html": [
       "<pre style=\"white-space:pre;overflow-x:auto;line-height:normal;font-family:Menlo,'DejaVu Sans Mono',consolas,'Courier New',monospace\">┏━━━━━━━━━━━━━━━━━━━━━━━━━━━━━━━━━━━━━━┳━━━━━━━━━━━━━━━━━━━━━━━━━━━━━┳━━━━━━━━━━━━━━━━━┓\n",
       "┃<span style=\"font-weight: bold\"> Layer (type)                         </span>┃<span style=\"font-weight: bold\"> Output Shape                </span>┃<span style=\"font-weight: bold\">         Param # </span>┃\n",
       "┡━━━━━━━━━━━━━━━━━━━━━━━━━━━━━━━━━━━━━━╇━━━━━━━━━━━━━━━━━━━━━━━━━━━━━╇━━━━━━━━━━━━━━━━━┩\n",
       "│ input_layer (<span style=\"color: #0087ff; text-decoration-color: #0087ff\">InputLayer</span>)             │ (<span style=\"color: #00d7ff; text-decoration-color: #00d7ff\">None</span>, <span style=\"color: #00af00; text-decoration-color: #00af00\">64</span>, <span style=\"color: #00af00; text-decoration-color: #00af00\">64</span>, <span style=\"color: #00af00; text-decoration-color: #00af00\">1</span>)           │               <span style=\"color: #00af00; text-decoration-color: #00af00\">0</span> │\n",
       "├──────────────────────────────────────┼─────────────────────────────┼─────────────────┤\n",
       "│ conv2d (<span style=\"color: #0087ff; text-decoration-color: #0087ff\">Conv2D</span>)                      │ (<span style=\"color: #00d7ff; text-decoration-color: #00d7ff\">None</span>, <span style=\"color: #00af00; text-decoration-color: #00af00\">16</span>, <span style=\"color: #00af00; text-decoration-color: #00af00\">16</span>, <span style=\"color: #00af00; text-decoration-color: #00af00\">96</span>)          │          <span style=\"color: #00af00; text-decoration-color: #00af00\">11,712</span> │\n",
       "├──────────────────────────────────────┼─────────────────────────────┼─────────────────┤\n",
       "│ batch_normalization                  │ (<span style=\"color: #00d7ff; text-decoration-color: #00d7ff\">None</span>, <span style=\"color: #00af00; text-decoration-color: #00af00\">16</span>, <span style=\"color: #00af00; text-decoration-color: #00af00\">16</span>, <span style=\"color: #00af00; text-decoration-color: #00af00\">96</span>)          │             <span style=\"color: #00af00; text-decoration-color: #00af00\">384</span> │\n",
       "│ (<span style=\"color: #0087ff; text-decoration-color: #0087ff\">BatchNormalization</span>)                 │                             │                 │\n",
       "├──────────────────────────────────────┼─────────────────────────────┼─────────────────┤\n",
       "│ max_pooling2d (<span style=\"color: #0087ff; text-decoration-color: #0087ff\">MaxPooling2D</span>)         │ (<span style=\"color: #00d7ff; text-decoration-color: #00d7ff\">None</span>, <span style=\"color: #00af00; text-decoration-color: #00af00\">7</span>, <span style=\"color: #00af00; text-decoration-color: #00af00\">7</span>, <span style=\"color: #00af00; text-decoration-color: #00af00\">96</span>)            │               <span style=\"color: #00af00; text-decoration-color: #00af00\">0</span> │\n",
       "├──────────────────────────────────────┼─────────────────────────────┼─────────────────┤\n",
       "│ conv2d_1 (<span style=\"color: #0087ff; text-decoration-color: #0087ff\">Conv2D</span>)                    │ (<span style=\"color: #00d7ff; text-decoration-color: #00d7ff\">None</span>, <span style=\"color: #00af00; text-decoration-color: #00af00\">7</span>, <span style=\"color: #00af00; text-decoration-color: #00af00\">7</span>, <span style=\"color: #00af00; text-decoration-color: #00af00\">256</span>)           │         <span style=\"color: #00af00; text-decoration-color: #00af00\">614,656</span> │\n",
       "├──────────────────────────────────────┼─────────────────────────────┼─────────────────┤\n",
       "│ batch_normalization_1                │ (<span style=\"color: #00d7ff; text-decoration-color: #00d7ff\">None</span>, <span style=\"color: #00af00; text-decoration-color: #00af00\">7</span>, <span style=\"color: #00af00; text-decoration-color: #00af00\">7</span>, <span style=\"color: #00af00; text-decoration-color: #00af00\">256</span>)           │           <span style=\"color: #00af00; text-decoration-color: #00af00\">1,024</span> │\n",
       "│ (<span style=\"color: #0087ff; text-decoration-color: #0087ff\">BatchNormalization</span>)                 │                             │                 │\n",
       "├──────────────────────────────────────┼─────────────────────────────┼─────────────────┤\n",
       "│ max_pooling2d_1 (<span style=\"color: #0087ff; text-decoration-color: #0087ff\">MaxPooling2D</span>)       │ (<span style=\"color: #00d7ff; text-decoration-color: #00d7ff\">None</span>, <span style=\"color: #00af00; text-decoration-color: #00af00\">3</span>, <span style=\"color: #00af00; text-decoration-color: #00af00\">3</span>, <span style=\"color: #00af00; text-decoration-color: #00af00\">256</span>)           │               <span style=\"color: #00af00; text-decoration-color: #00af00\">0</span> │\n",
       "├──────────────────────────────────────┼─────────────────────────────┼─────────────────┤\n",
       "│ conv2d_2 (<span style=\"color: #0087ff; text-decoration-color: #0087ff\">Conv2D</span>)                    │ (<span style=\"color: #00d7ff; text-decoration-color: #00d7ff\">None</span>, <span style=\"color: #00af00; text-decoration-color: #00af00\">3</span>, <span style=\"color: #00af00; text-decoration-color: #00af00\">3</span>, <span style=\"color: #00af00; text-decoration-color: #00af00\">384</span>)           │         <span style=\"color: #00af00; text-decoration-color: #00af00\">885,120</span> │\n",
       "├──────────────────────────────────────┼─────────────────────────────┼─────────────────┤\n",
       "│ conv2d_3 (<span style=\"color: #0087ff; text-decoration-color: #0087ff\">Conv2D</span>)                    │ (<span style=\"color: #00d7ff; text-decoration-color: #00d7ff\">None</span>, <span style=\"color: #00af00; text-decoration-color: #00af00\">3</span>, <span style=\"color: #00af00; text-decoration-color: #00af00\">3</span>, <span style=\"color: #00af00; text-decoration-color: #00af00\">384</span>)           │       <span style=\"color: #00af00; text-decoration-color: #00af00\">1,327,488</span> │\n",
       "├──────────────────────────────────────┼─────────────────────────────┼─────────────────┤\n",
       "│ conv2d_4 (<span style=\"color: #0087ff; text-decoration-color: #0087ff\">Conv2D</span>)                    │ (<span style=\"color: #00d7ff; text-decoration-color: #00d7ff\">None</span>, <span style=\"color: #00af00; text-decoration-color: #00af00\">3</span>, <span style=\"color: #00af00; text-decoration-color: #00af00\">3</span>, <span style=\"color: #00af00; text-decoration-color: #00af00\">256</span>)           │         <span style=\"color: #00af00; text-decoration-color: #00af00\">884,992</span> │\n",
       "├──────────────────────────────────────┼─────────────────────────────┼─────────────────┤\n",
       "│ batch_normalization_2                │ (<span style=\"color: #00d7ff; text-decoration-color: #00d7ff\">None</span>, <span style=\"color: #00af00; text-decoration-color: #00af00\">3</span>, <span style=\"color: #00af00; text-decoration-color: #00af00\">3</span>, <span style=\"color: #00af00; text-decoration-color: #00af00\">256</span>)           │           <span style=\"color: #00af00; text-decoration-color: #00af00\">1,024</span> │\n",
       "│ (<span style=\"color: #0087ff; text-decoration-color: #0087ff\">BatchNormalization</span>)                 │                             │                 │\n",
       "├──────────────────────────────────────┼─────────────────────────────┼─────────────────┤\n",
       "│ max_pooling2d_2 (<span style=\"color: #0087ff; text-decoration-color: #0087ff\">MaxPooling2D</span>)       │ (<span style=\"color: #00d7ff; text-decoration-color: #00d7ff\">None</span>, <span style=\"color: #00af00; text-decoration-color: #00af00\">1</span>, <span style=\"color: #00af00; text-decoration-color: #00af00\">1</span>, <span style=\"color: #00af00; text-decoration-color: #00af00\">256</span>)           │               <span style=\"color: #00af00; text-decoration-color: #00af00\">0</span> │\n",
       "├──────────────────────────────────────┼─────────────────────────────┼─────────────────┤\n",
       "│ flatten (<span style=\"color: #0087ff; text-decoration-color: #0087ff\">Flatten</span>)                    │ (<span style=\"color: #00d7ff; text-decoration-color: #00d7ff\">None</span>, <span style=\"color: #00af00; text-decoration-color: #00af00\">256</span>)                 │               <span style=\"color: #00af00; text-decoration-color: #00af00\">0</span> │\n",
       "├──────────────────────────────────────┼─────────────────────────────┼─────────────────┤\n",
       "│ dense (<span style=\"color: #0087ff; text-decoration-color: #0087ff\">Dense</span>)                        │ (<span style=\"color: #00d7ff; text-decoration-color: #00d7ff\">None</span>, <span style=\"color: #00af00; text-decoration-color: #00af00\">4096</span>)                │       <span style=\"color: #00af00; text-decoration-color: #00af00\">1,052,672</span> │\n",
       "├──────────────────────────────────────┼─────────────────────────────┼─────────────────┤\n",
       "│ dense_1 (<span style=\"color: #0087ff; text-decoration-color: #0087ff\">Dense</span>)                      │ (<span style=\"color: #00d7ff; text-decoration-color: #00d7ff\">None</span>, <span style=\"color: #00af00; text-decoration-color: #00af00\">4096</span>)                │      <span style=\"color: #00af00; text-decoration-color: #00af00\">16,781,312</span> │\n",
       "├──────────────────────────────────────┼─────────────────────────────┼─────────────────┤\n",
       "│ dense_2 (<span style=\"color: #0087ff; text-decoration-color: #0087ff\">Dense</span>)                      │ (<span style=\"color: #00d7ff; text-decoration-color: #00d7ff\">None</span>, <span style=\"color: #00af00; text-decoration-color: #00af00\">7</span>)                   │          <span style=\"color: #00af00; text-decoration-color: #00af00\">28,679</span> │\n",
       "└──────────────────────────────────────┴─────────────────────────────┴─────────────────┘\n",
       "</pre>\n"
      ],
      "text/plain": [
       "┏━━━━━━━━━━━━━━━━━━━━━━━━━━━━━━━━━━━━━━┳━━━━━━━━━━━━━━━━━━━━━━━━━━━━━┳━━━━━━━━━━━━━━━━━┓\n",
       "┃\u001b[1m \u001b[0m\u001b[1mLayer (type)                        \u001b[0m\u001b[1m \u001b[0m┃\u001b[1m \u001b[0m\u001b[1mOutput Shape               \u001b[0m\u001b[1m \u001b[0m┃\u001b[1m \u001b[0m\u001b[1m        Param #\u001b[0m\u001b[1m \u001b[0m┃\n",
       "┡━━━━━━━━━━━━━━━━━━━━━━━━━━━━━━━━━━━━━━╇━━━━━━━━━━━━━━━━━━━━━━━━━━━━━╇━━━━━━━━━━━━━━━━━┩\n",
       "│ input_layer (\u001b[38;5;33mInputLayer\u001b[0m)             │ (\u001b[38;5;45mNone\u001b[0m, \u001b[38;5;34m64\u001b[0m, \u001b[38;5;34m64\u001b[0m, \u001b[38;5;34m1\u001b[0m)           │               \u001b[38;5;34m0\u001b[0m │\n",
       "├──────────────────────────────────────┼─────────────────────────────┼─────────────────┤\n",
       "│ conv2d (\u001b[38;5;33mConv2D\u001b[0m)                      │ (\u001b[38;5;45mNone\u001b[0m, \u001b[38;5;34m16\u001b[0m, \u001b[38;5;34m16\u001b[0m, \u001b[38;5;34m96\u001b[0m)          │          \u001b[38;5;34m11,712\u001b[0m │\n",
       "├──────────────────────────────────────┼─────────────────────────────┼─────────────────┤\n",
       "│ batch_normalization                  │ (\u001b[38;5;45mNone\u001b[0m, \u001b[38;5;34m16\u001b[0m, \u001b[38;5;34m16\u001b[0m, \u001b[38;5;34m96\u001b[0m)          │             \u001b[38;5;34m384\u001b[0m │\n",
       "│ (\u001b[38;5;33mBatchNormalization\u001b[0m)                 │                             │                 │\n",
       "├──────────────────────────────────────┼─────────────────────────────┼─────────────────┤\n",
       "│ max_pooling2d (\u001b[38;5;33mMaxPooling2D\u001b[0m)         │ (\u001b[38;5;45mNone\u001b[0m, \u001b[38;5;34m7\u001b[0m, \u001b[38;5;34m7\u001b[0m, \u001b[38;5;34m96\u001b[0m)            │               \u001b[38;5;34m0\u001b[0m │\n",
       "├──────────────────────────────────────┼─────────────────────────────┼─────────────────┤\n",
       "│ conv2d_1 (\u001b[38;5;33mConv2D\u001b[0m)                    │ (\u001b[38;5;45mNone\u001b[0m, \u001b[38;5;34m7\u001b[0m, \u001b[38;5;34m7\u001b[0m, \u001b[38;5;34m256\u001b[0m)           │         \u001b[38;5;34m614,656\u001b[0m │\n",
       "├──────────────────────────────────────┼─────────────────────────────┼─────────────────┤\n",
       "│ batch_normalization_1                │ (\u001b[38;5;45mNone\u001b[0m, \u001b[38;5;34m7\u001b[0m, \u001b[38;5;34m7\u001b[0m, \u001b[38;5;34m256\u001b[0m)           │           \u001b[38;5;34m1,024\u001b[0m │\n",
       "│ (\u001b[38;5;33mBatchNormalization\u001b[0m)                 │                             │                 │\n",
       "├──────────────────────────────────────┼─────────────────────────────┼─────────────────┤\n",
       "│ max_pooling2d_1 (\u001b[38;5;33mMaxPooling2D\u001b[0m)       │ (\u001b[38;5;45mNone\u001b[0m, \u001b[38;5;34m3\u001b[0m, \u001b[38;5;34m3\u001b[0m, \u001b[38;5;34m256\u001b[0m)           │               \u001b[38;5;34m0\u001b[0m │\n",
       "├──────────────────────────────────────┼─────────────────────────────┼─────────────────┤\n",
       "│ conv2d_2 (\u001b[38;5;33mConv2D\u001b[0m)                    │ (\u001b[38;5;45mNone\u001b[0m, \u001b[38;5;34m3\u001b[0m, \u001b[38;5;34m3\u001b[0m, \u001b[38;5;34m384\u001b[0m)           │         \u001b[38;5;34m885,120\u001b[0m │\n",
       "├──────────────────────────────────────┼─────────────────────────────┼─────────────────┤\n",
       "│ conv2d_3 (\u001b[38;5;33mConv2D\u001b[0m)                    │ (\u001b[38;5;45mNone\u001b[0m, \u001b[38;5;34m3\u001b[0m, \u001b[38;5;34m3\u001b[0m, \u001b[38;5;34m384\u001b[0m)           │       \u001b[38;5;34m1,327,488\u001b[0m │\n",
       "├──────────────────────────────────────┼─────────────────────────────┼─────────────────┤\n",
       "│ conv2d_4 (\u001b[38;5;33mConv2D\u001b[0m)                    │ (\u001b[38;5;45mNone\u001b[0m, \u001b[38;5;34m3\u001b[0m, \u001b[38;5;34m3\u001b[0m, \u001b[38;5;34m256\u001b[0m)           │         \u001b[38;5;34m884,992\u001b[0m │\n",
       "├──────────────────────────────────────┼─────────────────────────────┼─────────────────┤\n",
       "│ batch_normalization_2                │ (\u001b[38;5;45mNone\u001b[0m, \u001b[38;5;34m3\u001b[0m, \u001b[38;5;34m3\u001b[0m, \u001b[38;5;34m256\u001b[0m)           │           \u001b[38;5;34m1,024\u001b[0m │\n",
       "│ (\u001b[38;5;33mBatchNormalization\u001b[0m)                 │                             │                 │\n",
       "├──────────────────────────────────────┼─────────────────────────────┼─────────────────┤\n",
       "│ max_pooling2d_2 (\u001b[38;5;33mMaxPooling2D\u001b[0m)       │ (\u001b[38;5;45mNone\u001b[0m, \u001b[38;5;34m1\u001b[0m, \u001b[38;5;34m1\u001b[0m, \u001b[38;5;34m256\u001b[0m)           │               \u001b[38;5;34m0\u001b[0m │\n",
       "├──────────────────────────────────────┼─────────────────────────────┼─────────────────┤\n",
       "│ flatten (\u001b[38;5;33mFlatten\u001b[0m)                    │ (\u001b[38;5;45mNone\u001b[0m, \u001b[38;5;34m256\u001b[0m)                 │               \u001b[38;5;34m0\u001b[0m │\n",
       "├──────────────────────────────────────┼─────────────────────────────┼─────────────────┤\n",
       "│ dense (\u001b[38;5;33mDense\u001b[0m)                        │ (\u001b[38;5;45mNone\u001b[0m, \u001b[38;5;34m4096\u001b[0m)                │       \u001b[38;5;34m1,052,672\u001b[0m │\n",
       "├──────────────────────────────────────┼─────────────────────────────┼─────────────────┤\n",
       "│ dense_1 (\u001b[38;5;33mDense\u001b[0m)                      │ (\u001b[38;5;45mNone\u001b[0m, \u001b[38;5;34m4096\u001b[0m)                │      \u001b[38;5;34m16,781,312\u001b[0m │\n",
       "├──────────────────────────────────────┼─────────────────────────────┼─────────────────┤\n",
       "│ dense_2 (\u001b[38;5;33mDense\u001b[0m)                      │ (\u001b[38;5;45mNone\u001b[0m, \u001b[38;5;34m7\u001b[0m)                   │          \u001b[38;5;34m28,679\u001b[0m │\n",
       "└──────────────────────────────────────┴─────────────────────────────┴─────────────────┘\n"
      ]
     },
     "metadata": {},
     "output_type": "display_data"
    },
    {
     "data": {
      "text/html": [
       "<pre style=\"white-space:pre;overflow-x:auto;line-height:normal;font-family:Menlo,'DejaVu Sans Mono',consolas,'Courier New',monospace\"><span style=\"font-weight: bold\"> Total params: </span><span style=\"color: #00af00; text-decoration-color: #00af00\">21,589,063</span> (82.36 MB)\n",
       "</pre>\n"
      ],
      "text/plain": [
       "\u001b[1m Total params: \u001b[0m\u001b[38;5;34m21,589,063\u001b[0m (82.36 MB)\n"
      ]
     },
     "metadata": {},
     "output_type": "display_data"
    },
    {
     "data": {
      "text/html": [
       "<pre style=\"white-space:pre;overflow-x:auto;line-height:normal;font-family:Menlo,'DejaVu Sans Mono',consolas,'Courier New',monospace\"><span style=\"font-weight: bold\"> Trainable params: </span><span style=\"color: #00af00; text-decoration-color: #00af00\">21,587,847</span> (82.35 MB)\n",
       "</pre>\n"
      ],
      "text/plain": [
       "\u001b[1m Trainable params: \u001b[0m\u001b[38;5;34m21,587,847\u001b[0m (82.35 MB)\n"
      ]
     },
     "metadata": {},
     "output_type": "display_data"
    },
    {
     "data": {
      "text/html": [
       "<pre style=\"white-space:pre;overflow-x:auto;line-height:normal;font-family:Menlo,'DejaVu Sans Mono',consolas,'Courier New',monospace\"><span style=\"font-weight: bold\"> Non-trainable params: </span><span style=\"color: #00af00; text-decoration-color: #00af00\">1,216</span> (4.75 KB)\n",
       "</pre>\n"
      ],
      "text/plain": [
       "\u001b[1m Non-trainable params: \u001b[0m\u001b[38;5;34m1,216\u001b[0m (4.75 KB)\n"
      ]
     },
     "metadata": {},
     "output_type": "display_data"
    }
   ],
   "source": [
    "def alexnet(input_shape, n_classes):\n",
    "    input = Input(input_shape)\n",
    "    x = Conv2D(96, 11, strides=4, padding=\"same\", activation=\"relu\")(input)\n",
    "    x = BatchNormalization()(x)\n",
    "    x = MaxPool2D(3, strides=2)(x)\n",
    "\n",
    "    x = Conv2D(256, 5, padding=\"same\", activation=\"relu\")(x)\n",
    "    x = BatchNormalization()(x)\n",
    "    x = MaxPool2D(3, strides=2)(x)\n",
    "\n",
    "    x = Conv2D(384, 3, strides=1, padding=\"same\", activation=\"relu\")(x)\n",
    "\n",
    "    x = Conv2D(384, 3, strides=1, padding=\"same\", activation=\"relu\")(x)\n",
    "\n",
    "    x = Conv2D(256, 3, strides=1, padding=\"same\", activation=\"relu\")(x)\n",
    "    x = BatchNormalization()(x)\n",
    "    x = MaxPool2D(3, strides=2)(x)\n",
    "\n",
    "    x = Flatten()(x)\n",
    "    x = Dense(4096, activation=\"relu\")(x)\n",
    "    x = Dense(4096, activation=\"relu\")(x)\n",
    "\n",
    "    output = Dense(n_classes, activation=\"softmax\")(x)\n",
    "\n",
    "    model = Model(input, output)\n",
    "    return model\n",
    "\n",
    "\n",
    "model = alexnet(input_shape, n_classes)\n",
    "model.summary()"
   ]
  },
  {
   "cell_type": "code",
   "execution_count": 24,
   "id": "2bd7606c-a878-4e4f-8f3b-463ee30181e6",
   "metadata": {},
   "outputs": [],
   "source": [
    "from keras.optimizers import RMSprop,SGD,Adam\n",
    "from keras.callbacks import ModelCheckpoint, EarlyStopping, ReduceLROnPlateau\n",
    "\n",
    "\n",
    "# checkpoint = ModelCheckpoint(str(Path(os.getcwd()) / \"Model/CNN\"/\"cnnmodel.keras\"), monitor='val_acc', verbose=1, save_best_only=True, mode='max')\n",
    "\n",
    "early_stopping = EarlyStopping(monitor='accuracy',\n",
    "                          min_delta=0,\n",
    "                          patience=3,\n",
    "                          verbose=1,\n",
    "                          restore_best_weights=True\n",
    "                          )\n",
    "\n",
    "reduce_learningrate = ReduceLROnPlateau(monitor='accuracy',\n",
    "                              factor=0.2,\n",
    "                              patience=3,\n",
    "                              verbose=1,\n",
    "                              min_delta=0.0001)\n",
    "\n",
    "# callbacks_list = [early_stopping,checkpoint,reduce_learningrate]\n",
    "# callbacks_list = [checkpoint,reduce_learningrate]\n",
    "callbacks_list = [early_stopping,reduce_learningrate]\n",
    "epochs = 50\n",
    "\n",
    "model.compile(loss='categorical_crossentropy',\n",
    "              optimizer=Adam(learning_rate=0.001),  # Pass learning rate as positional argument\n",
    "              metrics=['accuracy'])"
   ]
  },
  {
   "cell_type": "code",
   "execution_count": 25,
   "id": "365cda4b-3348-4598-9968-12bc45ccdc39",
   "metadata": {},
   "outputs": [
    {
     "name": "stdout",
     "output_type": "stream",
     "text": [
      "Epoch 1/50\n"
     ]
    },
    {
     "name": "stderr",
     "output_type": "stream",
     "text": [
      "C:\\Users\\ayush\\AppData\\Local\\Programs\\Python\\Python312\\Lib\\site-packages\\keras\\src\\trainers\\data_adapters\\py_dataset_adapter.py:120: UserWarning: Your `PyDataset` class should call `super().__init__(**kwargs)` in its constructor. `**kwargs` can include `workers`, `use_multiprocessing`, `max_queue_size`. Do not pass these arguments to `fit()`, as they will be ignored.\n",
      "  self._warn_if_super_not_called()\n"
     ]
    },
    {
     "name": "stdout",
     "output_type": "stream",
     "text": [
      "\u001b[1m19/19\u001b[0m \u001b[32m━━━━━━━━━━━━━━━━━━━━\u001b[0m\u001b[37m\u001b[0m \u001b[1m50s\u001b[0m 2s/step - accuracy: 0.1416 - loss: 5.0480 - val_accuracy: 0.1660 - val_loss: 3.8659 - learning_rate: 0.0010\n",
      "Epoch 2/50\n",
      "\u001b[1m 1/19\u001b[0m \u001b[32m━\u001b[0m\u001b[37m━━━━━━━━━━━━━━━━━━━\u001b[0m \u001b[1m7s\u001b[0m 411ms/step - accuracy: 0.1641 - loss: 1.9561"
     ]
    },
    {
     "name": "stderr",
     "output_type": "stream",
     "text": [
      "C:\\Users\\ayush\\AppData\\Local\\Programs\\Python\\Python312\\Lib\\contextlib.py:158: UserWarning: Your input ran out of data; interrupting training. Make sure that your dataset or generator can generate at least `steps_per_epoch * epochs` batches. You may need to use the `.repeat()` function when building your dataset.\n",
      "  self.gen.throw(value)\n"
     ]
    },
    {
     "name": "stdout",
     "output_type": "stream",
     "text": [
      "\u001b[1m19/19\u001b[0m \u001b[32m━━━━━━━━━━━━━━━━━━━━\u001b[0m\u001b[37m\u001b[0m \u001b[1m4s\u001b[0m 174ms/step - accuracy: 0.1641 - loss: 1.9561 - val_accuracy: 0.1414 - val_loss: 3.9556 - learning_rate: 0.0010\n",
      "Epoch 3/50\n",
      "\u001b[1m19/19\u001b[0m \u001b[32m━━━━━━━━━━━━━━━━━━━━\u001b[0m\u001b[37m\u001b[0m \u001b[1m8s\u001b[0m 352ms/step - accuracy: 0.1448 - loss: 1.9665 - val_accuracy: 0.1289 - val_loss: 2.1915 - learning_rate: 0.0010\n",
      "Epoch 4/50\n",
      "\u001b[1m19/19\u001b[0m \u001b[32m━━━━━━━━━━━━━━━━━━━━\u001b[0m\u001b[37m\u001b[0m \u001b[1m1s\u001b[0m 7ms/step - accuracy: 0.1328 - loss: 1.9467 - val_accuracy: 0.1010 - val_loss: 2.1603 - learning_rate: 0.0010\n",
      "Epoch 5/50\n",
      "\u001b[1m19/19\u001b[0m \u001b[32m━━━━━━━━━━━━━━━━━━━━\u001b[0m\u001b[37m\u001b[0m \u001b[1m0s\u001b[0m 311ms/step - accuracy: 0.1430 - loss: 1.9442\n",
      "Epoch 5: ReduceLROnPlateau reducing learning rate to 0.00020000000949949026.\n",
      "\u001b[1m19/19\u001b[0m \u001b[32m━━━━━━━━━━━━━━━━━━━━\u001b[0m\u001b[37m\u001b[0m \u001b[1m7s\u001b[0m 350ms/step - accuracy: 0.1435 - loss: 1.9443 - val_accuracy: 0.1367 - val_loss: 2.0649 - learning_rate: 0.0010\n",
      "Epoch 5: early stopping\n",
      "Restoring model weights from the end of the best epoch: 2.\n"
     ]
    },
    {
     "name": "stderr",
     "output_type": "stream",
     "text": [
      "2024-05-04 01:14:33 - WARNING - You are saving your model as an HDF5 file via `model.save()` or `keras.saving.save_model(model)`. This file format is considered legacy. We recommend using instead the native Keras format, e.g. `model.save('my_model.keras')` or `keras.saving.save_model(model, 'my_model.keras')`. \n"
     ]
    }
   ],
   "source": [
    "history = model.fit(train_set,\n",
    "                                steps_per_epoch=train_set.n//train_set.batch_size,\n",
    "                                epochs=epochs,\n",
    "                                validation_data = test_set,\n",
    "                                validation_steps = test_set.n//test_set.batch_size,\n",
    "                                callbacks=callbacks_list\n",
    "                                )\n",
    "\n",
    "model.save(Path(os.getcwd()) / \"model/Alexnet\"/ \"Alexnet_model.h5\")"
   ]
  },
  {
   "cell_type": "code",
   "execution_count": 26,
   "id": "e63bdc6e-ab15-4fec-83d0-87f8d2cb2557",
   "metadata": {},
   "outputs": [
    {
     "data": {
      "image/png": "[encoded data removed]",
      "text/plain": [
       "<Figure size 1000x600 with 1 Axes>"
      ]
     },
     "metadata": {},
     "output_type": "display_data"
    },
    {
     "data": {
      "image/png": "[encoded data removed]",
      "text/plain": [
       "<Figure size 1000x600 with 1 Axes>"
      ]
     },
     "metadata": {},
     "output_type": "display_data"
    }
   ],
   "source": [
    "# Save plots\n",
    "plots_path = Path(os.getcwd()) / \"model\" / \"Alexnet\"\n",
    "plt.style.use('dark_background')\n",
    "\n",
    "# Loss plot\n",
    "plt.figure(figsize=(10, 6))\n",
    "plt.ylabel('Loss', fontsize=16)\n",
    "plt.plot(history.history['loss'], label='Training Loss')\n",
    "plt.plot(history.history['val_loss'], label='Validation Loss')\n",
    "plt.legend(loc='upper right')\n",
    "plt.title('CNN Loss')\n",
    "plt.savefig(plots_path / \"Alexnet_Loss.png\")\n",
    "plt.show()\n",
    "\n",
    "# Accuracy plot\n",
    "plt.figure(figsize=(10, 6))\n",
    "plt.ylabel('Accuracy', fontsize=16)\n",
    "plt.plot(history.history['accuracy'], label='Training Accuracy')\n",
    "plt.plot(history.history['val_accuracy'], label='Validation Accuracy')\n",
    "plt.legend(loc='lower right')\n",
    "plt.title('CNN Accuracy')\n",
    "plt.savefig(plots_path / \"Alexnet_Accuracy.png\")\n",
    "plt.show()\n"
   ]
  },
  {
   "cell_type": "markdown",
   "id": "7281f69f-190c-4a49-9dba-e1f536306e62",
   "metadata": {},
   "source": [
    "# VGG16"
   ]
  },
  {
   "cell_type": "code",
   "execution_count": 27,
   "id": "fef50506-6aed-4bc9-8e6a-24115b463b27",
   "metadata": {},
   "outputs": [
    {
     "data": {
      "text/html": [
       "<pre style=\"white-space:pre;overflow-x:auto;line-height:normal;font-family:Menlo,'DejaVu Sans Mono',consolas,'Courier New',monospace\"><span style=\"font-weight: bold\">Model: \"functional_3\"</span>\n",
       "</pre>\n"
      ],
      "text/plain": [
       "\u001b[1mModel: \"functional_3\"\u001b[0m\n"
      ]
     },
     "metadata": {},
     "output_type": "display_data"
    },
    {
     "data": {
      "text/html": [
       "<pre style=\"white-space:pre;overflow-x:auto;line-height:normal;font-family:Menlo,'DejaVu Sans Mono',consolas,'Courier New',monospace\">┏━━━━━━━━━━━━━━━━━━━━━━━━━━━━━━━━━━━━━━┳━━━━━━━━━━━━━━━━━━━━━━━━━━━━━┳━━━━━━━━━━━━━━━━━┓\n",
       "┃<span style=\"font-weight: bold\"> Layer (type)                         </span>┃<span style=\"font-weight: bold\"> Output Shape                </span>┃<span style=\"font-weight: bold\">         Param # </span>┃\n",
       "┡━━━━━━━━━━━━━━━━━━━━━━━━━━━━━━━━━━━━━━╇━━━━━━━━━━━━━━━━━━━━━━━━━━━━━╇━━━━━━━━━━━━━━━━━┩\n",
       "│ input_layer_1 (<span style=\"color: #0087ff; text-decoration-color: #0087ff\">InputLayer</span>)           │ (<span style=\"color: #00d7ff; text-decoration-color: #00d7ff\">None</span>, <span style=\"color: #00af00; text-decoration-color: #00af00\">64</span>, <span style=\"color: #00af00; text-decoration-color: #00af00\">64</span>, <span style=\"color: #00af00; text-decoration-color: #00af00\">1</span>)           │               <span style=\"color: #00af00; text-decoration-color: #00af00\">0</span> │\n",
       "├──────────────────────────────────────┼─────────────────────────────┼─────────────────┤\n",
       "│ conv2d_5 (<span style=\"color: #0087ff; text-decoration-color: #0087ff\">Conv2D</span>)                    │ (<span style=\"color: #00d7ff; text-decoration-color: #00d7ff\">None</span>, <span style=\"color: #00af00; text-decoration-color: #00af00\">64</span>, <span style=\"color: #00af00; text-decoration-color: #00af00\">64</span>, <span style=\"color: #00af00; text-decoration-color: #00af00\">64</span>)          │             <span style=\"color: #00af00; text-decoration-color: #00af00\">640</span> │\n",
       "├──────────────────────────────────────┼─────────────────────────────┼─────────────────┤\n",
       "│ conv2d_6 (<span style=\"color: #0087ff; text-decoration-color: #0087ff\">Conv2D</span>)                    │ (<span style=\"color: #00d7ff; text-decoration-color: #00d7ff\">None</span>, <span style=\"color: #00af00; text-decoration-color: #00af00\">64</span>, <span style=\"color: #00af00; text-decoration-color: #00af00\">64</span>, <span style=\"color: #00af00; text-decoration-color: #00af00\">64</span>)          │          <span style=\"color: #00af00; text-decoration-color: #00af00\">36,928</span> │\n",
       "├──────────────────────────────────────┼─────────────────────────────┼─────────────────┤\n",
       "│ max_pooling2d_3 (<span style=\"color: #0087ff; text-decoration-color: #0087ff\">MaxPooling2D</span>)       │ (<span style=\"color: #00d7ff; text-decoration-color: #00d7ff\">None</span>, <span style=\"color: #00af00; text-decoration-color: #00af00\">32</span>, <span style=\"color: #00af00; text-decoration-color: #00af00\">32</span>, <span style=\"color: #00af00; text-decoration-color: #00af00\">64</span>)          │               <span style=\"color: #00af00; text-decoration-color: #00af00\">0</span> │\n",
       "├──────────────────────────────────────┼─────────────────────────────┼─────────────────┤\n",
       "│ conv2d_7 (<span style=\"color: #0087ff; text-decoration-color: #0087ff\">Conv2D</span>)                    │ (<span style=\"color: #00d7ff; text-decoration-color: #00d7ff\">None</span>, <span style=\"color: #00af00; text-decoration-color: #00af00\">32</span>, <span style=\"color: #00af00; text-decoration-color: #00af00\">32</span>, <span style=\"color: #00af00; text-decoration-color: #00af00\">128</span>)         │          <span style=\"color: #00af00; text-decoration-color: #00af00\">73,856</span> │\n",
       "├──────────────────────────────────────┼─────────────────────────────┼─────────────────┤\n",
       "│ conv2d_8 (<span style=\"color: #0087ff; text-decoration-color: #0087ff\">Conv2D</span>)                    │ (<span style=\"color: #00d7ff; text-decoration-color: #00d7ff\">None</span>, <span style=\"color: #00af00; text-decoration-color: #00af00\">32</span>, <span style=\"color: #00af00; text-decoration-color: #00af00\">32</span>, <span style=\"color: #00af00; text-decoration-color: #00af00\">128</span>)         │         <span style=\"color: #00af00; text-decoration-color: #00af00\">147,584</span> │\n",
       "├──────────────────────────────────────┼─────────────────────────────┼─────────────────┤\n",
       "│ max_pooling2d_4 (<span style=\"color: #0087ff; text-decoration-color: #0087ff\">MaxPooling2D</span>)       │ (<span style=\"color: #00d7ff; text-decoration-color: #00d7ff\">None</span>, <span style=\"color: #00af00; text-decoration-color: #00af00\">16</span>, <span style=\"color: #00af00; text-decoration-color: #00af00\">16</span>, <span style=\"color: #00af00; text-decoration-color: #00af00\">128</span>)         │               <span style=\"color: #00af00; text-decoration-color: #00af00\">0</span> │\n",
       "├──────────────────────────────────────┼─────────────────────────────┼─────────────────┤\n",
       "│ conv2d_9 (<span style=\"color: #0087ff; text-decoration-color: #0087ff\">Conv2D</span>)                    │ (<span style=\"color: #00d7ff; text-decoration-color: #00d7ff\">None</span>, <span style=\"color: #00af00; text-decoration-color: #00af00\">16</span>, <span style=\"color: #00af00; text-decoration-color: #00af00\">16</span>, <span style=\"color: #00af00; text-decoration-color: #00af00\">256</span>)         │         <span style=\"color: #00af00; text-decoration-color: #00af00\">295,168</span> │\n",
       "├──────────────────────────────────────┼─────────────────────────────┼─────────────────┤\n",
       "│ conv2d_10 (<span style=\"color: #0087ff; text-decoration-color: #0087ff\">Conv2D</span>)                   │ (<span style=\"color: #00d7ff; text-decoration-color: #00d7ff\">None</span>, <span style=\"color: #00af00; text-decoration-color: #00af00\">16</span>, <span style=\"color: #00af00; text-decoration-color: #00af00\">16</span>, <span style=\"color: #00af00; text-decoration-color: #00af00\">256</span>)         │         <span style=\"color: #00af00; text-decoration-color: #00af00\">590,080</span> │\n",
       "├──────────────────────────────────────┼─────────────────────────────┼─────────────────┤\n",
       "│ conv2d_11 (<span style=\"color: #0087ff; text-decoration-color: #0087ff\">Conv2D</span>)                   │ (<span style=\"color: #00d7ff; text-decoration-color: #00d7ff\">None</span>, <span style=\"color: #00af00; text-decoration-color: #00af00\">16</span>, <span style=\"color: #00af00; text-decoration-color: #00af00\">16</span>, <span style=\"color: #00af00; text-decoration-color: #00af00\">256</span>)         │         <span style=\"color: #00af00; text-decoration-color: #00af00\">590,080</span> │\n",
       "├──────────────────────────────────────┼─────────────────────────────┼─────────────────┤\n",
       "│ max_pooling2d_5 (<span style=\"color: #0087ff; text-decoration-color: #0087ff\">MaxPooling2D</span>)       │ (<span style=\"color: #00d7ff; text-decoration-color: #00d7ff\">None</span>, <span style=\"color: #00af00; text-decoration-color: #00af00\">8</span>, <span style=\"color: #00af00; text-decoration-color: #00af00\">8</span>, <span style=\"color: #00af00; text-decoration-color: #00af00\">256</span>)           │               <span style=\"color: #00af00; text-decoration-color: #00af00\">0</span> │\n",
       "├──────────────────────────────────────┼─────────────────────────────┼─────────────────┤\n",
       "│ conv2d_12 (<span style=\"color: #0087ff; text-decoration-color: #0087ff\">Conv2D</span>)                   │ (<span style=\"color: #00d7ff; text-decoration-color: #00d7ff\">None</span>, <span style=\"color: #00af00; text-decoration-color: #00af00\">8</span>, <span style=\"color: #00af00; text-decoration-color: #00af00\">8</span>, <span style=\"color: #00af00; text-decoration-color: #00af00\">512</span>)           │       <span style=\"color: #00af00; text-decoration-color: #00af00\">1,180,160</span> │\n",
       "├──────────────────────────────────────┼─────────────────────────────┼─────────────────┤\n",
       "│ conv2d_13 (<span style=\"color: #0087ff; text-decoration-color: #0087ff\">Conv2D</span>)                   │ (<span style=\"color: #00d7ff; text-decoration-color: #00d7ff\">None</span>, <span style=\"color: #00af00; text-decoration-color: #00af00\">8</span>, <span style=\"color: #00af00; text-decoration-color: #00af00\">8</span>, <span style=\"color: #00af00; text-decoration-color: #00af00\">512</span>)           │       <span style=\"color: #00af00; text-decoration-color: #00af00\">2,359,808</span> │\n",
       "├──────────────────────────────────────┼─────────────────────────────┼─────────────────┤\n",
       "│ conv2d_14 (<span style=\"color: #0087ff; text-decoration-color: #0087ff\">Conv2D</span>)                   │ (<span style=\"color: #00d7ff; text-decoration-color: #00d7ff\">None</span>, <span style=\"color: #00af00; text-decoration-color: #00af00\">8</span>, <span style=\"color: #00af00; text-decoration-color: #00af00\">8</span>, <span style=\"color: #00af00; text-decoration-color: #00af00\">512</span>)           │       <span style=\"color: #00af00; text-decoration-color: #00af00\">2,359,808</span> │\n",
       "├──────────────────────────────────────┼─────────────────────────────┼─────────────────┤\n",
       "│ max_pooling2d_6 (<span style=\"color: #0087ff; text-decoration-color: #0087ff\">MaxPooling2D</span>)       │ (<span style=\"color: #00d7ff; text-decoration-color: #00d7ff\">None</span>, <span style=\"color: #00af00; text-decoration-color: #00af00\">4</span>, <span style=\"color: #00af00; text-decoration-color: #00af00\">4</span>, <span style=\"color: #00af00; text-decoration-color: #00af00\">512</span>)           │               <span style=\"color: #00af00; text-decoration-color: #00af00\">0</span> │\n",
       "├──────────────────────────────────────┼─────────────────────────────┼─────────────────┤\n",
       "│ conv2d_15 (<span style=\"color: #0087ff; text-decoration-color: #0087ff\">Conv2D</span>)                   │ (<span style=\"color: #00d7ff; text-decoration-color: #00d7ff\">None</span>, <span style=\"color: #00af00; text-decoration-color: #00af00\">4</span>, <span style=\"color: #00af00; text-decoration-color: #00af00\">4</span>, <span style=\"color: #00af00; text-decoration-color: #00af00\">512</span>)           │       <span style=\"color: #00af00; text-decoration-color: #00af00\">2,359,808</span> │\n",
       "├──────────────────────────────────────┼─────────────────────────────┼─────────────────┤\n",
       "│ conv2d_16 (<span style=\"color: #0087ff; text-decoration-color: #0087ff\">Conv2D</span>)                   │ (<span style=\"color: #00d7ff; text-decoration-color: #00d7ff\">None</span>, <span style=\"color: #00af00; text-decoration-color: #00af00\">4</span>, <span style=\"color: #00af00; text-decoration-color: #00af00\">4</span>, <span style=\"color: #00af00; text-decoration-color: #00af00\">512</span>)           │       <span style=\"color: #00af00; text-decoration-color: #00af00\">2,359,808</span> │\n",
       "├──────────────────────────────────────┼─────────────────────────────┼─────────────────┤\n",
       "│ conv2d_17 (<span style=\"color: #0087ff; text-decoration-color: #0087ff\">Conv2D</span>)                   │ (<span style=\"color: #00d7ff; text-decoration-color: #00d7ff\">None</span>, <span style=\"color: #00af00; text-decoration-color: #00af00\">4</span>, <span style=\"color: #00af00; text-decoration-color: #00af00\">4</span>, <span style=\"color: #00af00; text-decoration-color: #00af00\">512</span>)           │       <span style=\"color: #00af00; text-decoration-color: #00af00\">2,359,808</span> │\n",
       "├──────────────────────────────────────┼─────────────────────────────┼─────────────────┤\n",
       "│ max_pooling2d_7 (<span style=\"color: #0087ff; text-decoration-color: #0087ff\">MaxPooling2D</span>)       │ (<span style=\"color: #00d7ff; text-decoration-color: #00d7ff\">None</span>, <span style=\"color: #00af00; text-decoration-color: #00af00\">2</span>, <span style=\"color: #00af00; text-decoration-color: #00af00\">2</span>, <span style=\"color: #00af00; text-decoration-color: #00af00\">512</span>)           │               <span style=\"color: #00af00; text-decoration-color: #00af00\">0</span> │\n",
       "├──────────────────────────────────────┼─────────────────────────────┼─────────────────┤\n",
       "│ flatten_1 (<span style=\"color: #0087ff; text-decoration-color: #0087ff\">Flatten</span>)                  │ (<span style=\"color: #00d7ff; text-decoration-color: #00d7ff\">None</span>, <span style=\"color: #00af00; text-decoration-color: #00af00\">2048</span>)                │               <span style=\"color: #00af00; text-decoration-color: #00af00\">0</span> │\n",
       "├──────────────────────────────────────┼─────────────────────────────┼─────────────────┤\n",
       "│ dense_3 (<span style=\"color: #0087ff; text-decoration-color: #0087ff\">Dense</span>)                      │ (<span style=\"color: #00d7ff; text-decoration-color: #00d7ff\">None</span>, <span style=\"color: #00af00; text-decoration-color: #00af00\">4096</span>)                │       <span style=\"color: #00af00; text-decoration-color: #00af00\">8,392,704</span> │\n",
       "├──────────────────────────────────────┼─────────────────────────────┼─────────────────┤\n",
       "│ dense_4 (<span style=\"color: #0087ff; text-decoration-color: #0087ff\">Dense</span>)                      │ (<span style=\"color: #00d7ff; text-decoration-color: #00d7ff\">None</span>, <span style=\"color: #00af00; text-decoration-color: #00af00\">4096</span>)                │      <span style=\"color: #00af00; text-decoration-color: #00af00\">16,781,312</span> │\n",
       "├──────────────────────────────────────┼─────────────────────────────┼─────────────────┤\n",
       "│ dense_5 (<span style=\"color: #0087ff; text-decoration-color: #0087ff\">Dense</span>)                      │ (<span style=\"color: #00d7ff; text-decoration-color: #00d7ff\">None</span>, <span style=\"color: #00af00; text-decoration-color: #00af00\">7</span>)                   │          <span style=\"color: #00af00; text-decoration-color: #00af00\">28,679</span> │\n",
       "└──────────────────────────────────────┴─────────────────────────────┴─────────────────┘\n",
       "</pre>\n"
      ],
      "text/plain": [
       "┏━━━━━━━━━━━━━━━━━━━━━━━━━━━━━━━━━━━━━━┳━━━━━━━━━━━━━━━━━━━━━━━━━━━━━┳━━━━━━━━━━━━━━━━━┓\n",
       "┃\u001b[1m \u001b[0m\u001b[1mLayer (type)                        \u001b[0m\u001b[1m \u001b[0m┃\u001b[1m \u001b[0m\u001b[1mOutput Shape               \u001b[0m\u001b[1m \u001b[0m┃\u001b[1m \u001b[0m\u001b[1m        Param #\u001b[0m\u001b[1m \u001b[0m┃\n",
       "┡━━━━━━━━━━━━━━━━━━━━━━━━━━━━━━━━━━━━━━╇━━━━━━━━━━━━━━━━━━━━━━━━━━━━━╇━━━━━━━━━━━━━━━━━┩\n",
       "│ input_layer_1 (\u001b[38;5;33mInputLayer\u001b[0m)           │ (\u001b[38;5;45mNone\u001b[0m, \u001b[38;5;34m64\u001b[0m, \u001b[38;5;34m64\u001b[0m, \u001b[38;5;34m1\u001b[0m)           │               \u001b[38;5;34m0\u001b[0m │\n",
       "├──────────────────────────────────────┼─────────────────────────────┼─────────────────┤\n",
       "│ conv2d_5 (\u001b[38;5;33mConv2D\u001b[0m)                    │ (\u001b[38;5;45mNone\u001b[0m, \u001b[38;5;34m64\u001b[0m, \u001b[38;5;34m64\u001b[0m, \u001b[38;5;34m64\u001b[0m)          │             \u001b[38;5;34m640\u001b[0m │\n",
       "├──────────────────────────────────────┼─────────────────────────────┼─────────────────┤\n",
       "│ conv2d_6 (\u001b[38;5;33mConv2D\u001b[0m)                    │ (\u001b[38;5;45mNone\u001b[0m, \u001b[38;5;34m64\u001b[0m, \u001b[38;5;34m64\u001b[0m, \u001b[38;5;34m64\u001b[0m)          │          \u001b[38;5;34m36,928\u001b[0m │\n",
       "├──────────────────────────────────────┼─────────────────────────────┼─────────────────┤\n",
       "│ max_pooling2d_3 (\u001b[38;5;33mMaxPooling2D\u001b[0m)       │ (\u001b[38;5;45mNone\u001b[0m, \u001b[38;5;34m32\u001b[0m, \u001b[38;5;34m32\u001b[0m, \u001b[38;5;34m64\u001b[0m)          │               \u001b[38;5;34m0\u001b[0m │\n",
       "├──────────────────────────────────────┼─────────────────────────────┼─────────────────┤\n",
       "│ conv2d_7 (\u001b[38;5;33mConv2D\u001b[0m)                    │ (\u001b[38;5;45mNone\u001b[0m, \u001b[38;5;34m32\u001b[0m, \u001b[38;5;34m32\u001b[0m, \u001b[38;5;34m128\u001b[0m)         │          \u001b[38;5;34m73,856\u001b[0m │\n",
       "├──────────────────────────────────────┼─────────────────────────────┼─────────────────┤\n",
       "│ conv2d_8 (\u001b[38;5;33mConv2D\u001b[0m)                    │ (\u001b[38;5;45mNone\u001b[0m, \u001b[38;5;34m32\u001b[0m, \u001b[38;5;34m32\u001b[0m, \u001b[38;5;34m128\u001b[0m)         │         \u001b[38;5;34m147,584\u001b[0m │\n",
       "├──────────────────────────────────────┼─────────────────────────────┼─────────────────┤\n",
       "│ max_pooling2d_4 (\u001b[38;5;33mMaxPooling2D\u001b[0m)       │ (\u001b[38;5;45mNone\u001b[0m, \u001b[38;5;34m16\u001b[0m, \u001b[38;5;34m16\u001b[0m, \u001b[38;5;34m128\u001b[0m)         │               \u001b[38;5;34m0\u001b[0m │\n",
       "├──────────────────────────────────────┼─────────────────────────────┼─────────────────┤\n",
       "│ conv2d_9 (\u001b[38;5;33mConv2D\u001b[0m)                    │ (\u001b[38;5;45mNone\u001b[0m, \u001b[38;5;34m16\u001b[0m, \u001b[38;5;34m16\u001b[0m, \u001b[38;5;34m256\u001b[0m)         │         \u001b[38;5;34m295,168\u001b[0m │\n",
       "├──────────────────────────────────────┼─────────────────────────────┼─────────────────┤\n",
       "│ conv2d_10 (\u001b[38;5;33mConv2D\u001b[0m)                   │ (\u001b[38;5;45mNone\u001b[0m, \u001b[38;5;34m16\u001b[0m, \u001b[38;5;34m16\u001b[0m, \u001b[38;5;34m256\u001b[0m)         │         \u001b[38;5;34m590,080\u001b[0m │\n",
       "├──────────────────────────────────────┼─────────────────────────────┼─────────────────┤\n",
       "│ conv2d_11 (\u001b[38;5;33mConv2D\u001b[0m)                   │ (\u001b[38;5;45mNone\u001b[0m, \u001b[38;5;34m16\u001b[0m, \u001b[38;5;34m16\u001b[0m, \u001b[38;5;34m256\u001b[0m)         │         \u001b[38;5;34m590,080\u001b[0m │\n",
       "├──────────────────────────────────────┼─────────────────────────────┼─────────────────┤\n",
       "│ max_pooling2d_5 (\u001b[38;5;33mMaxPooling2D\u001b[0m)       │ (\u001b[38;5;45mNone\u001b[0m, \u001b[38;5;34m8\u001b[0m, \u001b[38;5;34m8\u001b[0m, \u001b[38;5;34m256\u001b[0m)           │               \u001b[38;5;34m0\u001b[0m │\n",
       "├──────────────────────────────────────┼─────────────────────────────┼─────────────────┤\n",
       "│ conv2d_12 (\u001b[38;5;33mConv2D\u001b[0m)                   │ (\u001b[38;5;45mNone\u001b[0m, \u001b[38;5;34m8\u001b[0m, \u001b[38;5;34m8\u001b[0m, \u001b[38;5;34m512\u001b[0m)           │       \u001b[38;5;34m1,180,160\u001b[0m │\n",
       "├──────────────────────────────────────┼─────────────────────────────┼─────────────────┤\n",
       "│ conv2d_13 (\u001b[38;5;33mConv2D\u001b[0m)                   │ (\u001b[38;5;45mNone\u001b[0m, \u001b[38;5;34m8\u001b[0m, \u001b[38;5;34m8\u001b[0m, \u001b[38;5;34m512\u001b[0m)           │       \u001b[38;5;34m2,359,808\u001b[0m │\n",
       "├──────────────────────────────────────┼─────────────────────────────┼─────────────────┤\n",
       "│ conv2d_14 (\u001b[38;5;33mConv2D\u001b[0m)                   │ (\u001b[38;5;45mNone\u001b[0m, \u001b[38;5;34m8\u001b[0m, \u001b[38;5;34m8\u001b[0m, \u001b[38;5;34m512\u001b[0m)           │       \u001b[38;5;34m2,359,808\u001b[0m │\n",
       "├──────────────────────────────────────┼─────────────────────────────┼─────────────────┤\n",
       "│ max_pooling2d_6 (\u001b[38;5;33mMaxPooling2D\u001b[0m)       │ (\u001b[38;5;45mNone\u001b[0m, \u001b[38;5;34m4\u001b[0m, \u001b[38;5;34m4\u001b[0m, \u001b[38;5;34m512\u001b[0m)           │               \u001b[38;5;34m0\u001b[0m │\n",
       "├──────────────────────────────────────┼─────────────────────────────┼─────────────────┤\n",
       "│ conv2d_15 (\u001b[38;5;33mConv2D\u001b[0m)                   │ (\u001b[38;5;45mNone\u001b[0m, \u001b[38;5;34m4\u001b[0m, \u001b[38;5;34m4\u001b[0m, \u001b[38;5;34m512\u001b[0m)           │       \u001b[38;5;34m2,359,808\u001b[0m │\n",
       "├──────────────────────────────────────┼─────────────────────────────┼─────────────────┤\n",
       "│ conv2d_16 (\u001b[38;5;33mConv2D\u001b[0m)                   │ (\u001b[38;5;45mNone\u001b[0m, \u001b[38;5;34m4\u001b[0m, \u001b[38;5;34m4\u001b[0m, \u001b[38;5;34m512\u001b[0m)           │       \u001b[38;5;34m2,359,808\u001b[0m │\n",
       "├──────────────────────────────────────┼─────────────────────────────┼─────────────────┤\n",
       "│ conv2d_17 (\u001b[38;5;33mConv2D\u001b[0m)                   │ (\u001b[38;5;45mNone\u001b[0m, \u001b[38;5;34m4\u001b[0m, \u001b[38;5;34m4\u001b[0m, \u001b[38;5;34m512\u001b[0m)           │       \u001b[38;5;34m2,359,808\u001b[0m │\n",
       "├──────────────────────────────────────┼─────────────────────────────┼─────────────────┤\n",
       "│ max_pooling2d_7 (\u001b[38;5;33mMaxPooling2D\u001b[0m)       │ (\u001b[38;5;45mNone\u001b[0m, \u001b[38;5;34m2\u001b[0m, \u001b[38;5;34m2\u001b[0m, \u001b[38;5;34m512\u001b[0m)           │               \u001b[38;5;34m0\u001b[0m │\n",
       "├──────────────────────────────────────┼─────────────────────────────┼─────────────────┤\n",
       "│ flatten_1 (\u001b[38;5;33mFlatten\u001b[0m)                  │ (\u001b[38;5;45mNone\u001b[0m, \u001b[38;5;34m2048\u001b[0m)                │               \u001b[38;5;34m0\u001b[0m │\n",
       "├──────────────────────────────────────┼─────────────────────────────┼─────────────────┤\n",
       "│ dense_3 (\u001b[38;5;33mDense\u001b[0m)                      │ (\u001b[38;5;45mNone\u001b[0m, \u001b[38;5;34m4096\u001b[0m)                │       \u001b[38;5;34m8,392,704\u001b[0m │\n",
       "├──────────────────────────────────────┼─────────────────────────────┼─────────────────┤\n",
       "│ dense_4 (\u001b[38;5;33mDense\u001b[0m)                      │ (\u001b[38;5;45mNone\u001b[0m, \u001b[38;5;34m4096\u001b[0m)                │      \u001b[38;5;34m16,781,312\u001b[0m │\n",
       "├──────────────────────────────────────┼─────────────────────────────┼─────────────────┤\n",
       "│ dense_5 (\u001b[38;5;33mDense\u001b[0m)                      │ (\u001b[38;5;45mNone\u001b[0m, \u001b[38;5;34m7\u001b[0m)                   │          \u001b[38;5;34m28,679\u001b[0m │\n",
       "└──────────────────────────────────────┴─────────────────────────────┴─────────────────┘\n"
      ]
     },
     "metadata": {},
     "output_type": "display_data"
    },
    {
     "data": {
      "text/html": [
       "<pre style=\"white-space:pre;overflow-x:auto;line-height:normal;font-family:Menlo,'DejaVu Sans Mono',consolas,'Courier New',monospace\"><span style=\"font-weight: bold\"> Total params: </span><span style=\"color: #00af00; text-decoration-color: #00af00\">39,916,231</span> (152.27 MB)\n",
       "</pre>\n"
      ],
      "text/plain": [
       "\u001b[1m Total params: \u001b[0m\u001b[38;5;34m39,916,231\u001b[0m (152.27 MB)\n"
      ]
     },
     "metadata": {},
     "output_type": "display_data"
    },
    {
     "data": {
      "text/html": [
       "<pre style=\"white-space:pre;overflow-x:auto;line-height:normal;font-family:Menlo,'DejaVu Sans Mono',consolas,'Courier New',monospace\"><span style=\"font-weight: bold\"> Trainable params: </span><span style=\"color: #00af00; text-decoration-color: #00af00\">39,916,231</span> (152.27 MB)\n",
       "</pre>\n"
      ],
      "text/plain": [
       "\u001b[1m Trainable params: \u001b[0m\u001b[38;5;34m39,916,231\u001b[0m (152.27 MB)\n"
      ]
     },
     "metadata": {},
     "output_type": "display_data"
    },
    {
     "data": {
      "text/html": [
       "<pre style=\"white-space:pre;overflow-x:auto;line-height:normal;font-family:Menlo,'DejaVu Sans Mono',consolas,'Courier New',monospace\"><span style=\"font-weight: bold\"> Non-trainable params: </span><span style=\"color: #00af00; text-decoration-color: #00af00\">0</span> (0.00 B)\n",
       "</pre>\n"
      ],
      "text/plain": [
       "\u001b[1m Non-trainable params: \u001b[0m\u001b[38;5;34m0\u001b[0m (0.00 B)\n"
      ]
     },
     "metadata": {},
     "output_type": "display_data"
    }
   ],
   "source": [
    "# VGG16\n",
    "\n",
    "def vgg16(input_shape, n_classes):\n",
    "\n",
    "    input = Input(input_shape)\n",
    "\n",
    "    x = Conv2D(64, 3, padding=\"same\", activation=\"relu\")(input)\n",
    "    x = Conv2D(64, 3, padding=\"same\", activation=\"relu\")(x)\n",
    "    x = MaxPool2D(2, strides=2, padding=\"same\")(x)\n",
    "\n",
    "    x = Conv2D(128, 3, padding=\"same\", activation=\"relu\")(x)\n",
    "    x = Conv2D(128, 3, padding=\"same\", activation=\"relu\")(x)\n",
    "    x = MaxPool2D(2, strides=2, padding=\"same\")(x)\n",
    "\n",
    "    x = Conv2D(256, 3, padding=\"same\", activation=\"relu\")(x)\n",
    "    x = Conv2D(256, 3, padding=\"same\", activation=\"relu\")(x)\n",
    "    x = Conv2D(256, 3, padding=\"same\", activation=\"relu\")(x)\n",
    "    x = MaxPool2D(2, strides=2, padding=\"same\")(x)\n",
    "\n",
    "    x = Conv2D(512, 3, padding=\"same\", activation=\"relu\")(x)\n",
    "    x = Conv2D(512, 3, padding=\"same\", activation=\"relu\")(x)\n",
    "    x = Conv2D(512, 3, padding=\"same\", activation=\"relu\")(x)\n",
    "    x = MaxPool2D(2, strides=2, padding=\"same\")(x)\n",
    "\n",
    "    x = Conv2D(512, 3, padding=\"same\", activation=\"relu\")(x)\n",
    "    x = Conv2D(512, 3, padding=\"same\", activation=\"relu\")(x)\n",
    "    x = Conv2D(512, 3, padding=\"same\", activation=\"relu\")(x)\n",
    "    x = MaxPool2D(2, strides=2, padding=\"same\")(x)\n",
    "\n",
    "    x = Flatten()(x)\n",
    "    x = Dense(4096, activation=\"relu\")(x)\n",
    "    x = Dense(4096, activation=\"relu\")(x)\n",
    "\n",
    "    output = Dense(n_classes, activation=\"softmax\")(x)\n",
    "\n",
    "    model = Model(input, output)\n",
    "    return model\n",
    "\n",
    "\n",
    "model = vgg16(input_shape, n_classes)\n",
    "model.summary()"
   ]
  },
  {
   "cell_type": "code",
   "execution_count": 28,
   "id": "c1739c05-f5d5-4a92-a157-4d61abe2331d",
   "metadata": {},
   "outputs": [],
   "source": [
    "from keras.optimizers import RMSprop,SGD,Adam\n",
    "from keras.callbacks import ModelCheckpoint, EarlyStopping, ReduceLROnPlateau\n",
    "\n",
    "\n",
    "# checkpoint = ModelCheckpoint(str(Path(os.getcwd()) / \"Model/CNN\"/\"cnnmodel.keras\"), monitor='val_acc', verbose=1, save_best_only=True, mode='max')\n",
    "\n",
    "early_stopping = EarlyStopping(monitor='accuracy',\n",
    "                          min_delta=0,\n",
    "                          patience=3,\n",
    "                          verbose=1,\n",
    "                          restore_best_weights=True\n",
    "                          )\n",
    "\n",
    "reduce_learningrate = ReduceLROnPlateau(monitor='accuracy',\n",
    "                              factor=0.2,\n",
    "                              patience=3,\n",
    "                              verbose=1,\n",
    "                              min_delta=0.0001)\n",
    "\n",
    "# callbacks_list = [early_stopping,checkpoint,reduce_learningrate]\n",
    "# callbacks_list = [checkpoint,reduce_learningrate]\n",
    "callbacks_list = [early_stopping,reduce_learningrate]\n",
    "epochs = 50\n",
    "\n",
    "model.compile(loss='categorical_crossentropy',\n",
    "              optimizer=Adam(learning_rate=0.001),  # Pass learning rate as positional argument\n",
    "              metrics=['accuracy'])"
   ]
  },
  {
   "cell_type": "code",
   "execution_count": null,
   "id": "08a64424-5110-44f1-81be-9be9ee269ef0",
   "metadata": {},
   "outputs": [
    {
     "name": "stdout",
     "output_type": "stream",
     "text": [
      "Epoch 1/50\n",
      "\u001b[1m19/19\u001b[0m \u001b[32m━━━━━━━━━━━━━━━━━━━━\u001b[0m\u001b[37m\u001b[0m \u001b[1m89s\u001b[0m 4s/step - accuracy: 0.1504 - loss: 63.5429 - val_accuracy: 0.1367 - val_loss: 1.9516 - learning_rate: 0.0010\n",
      "Epoch 2/50\n",
      "\u001b[1m 1/19\u001b[0m \u001b[32m━\u001b[0m\u001b[37m━━━━━━━━━━━━━━━━━━━\u001b[0m \u001b[1m7s\u001b[0m 406ms/step - accuracy: 0.1111 - loss: 1.9556"
     ]
    },
    {
     "name": "stderr",
     "output_type": "stream",
     "text": [
      "C:\\Users\\ayush\\AppData\\Local\\Programs\\Python\\Python312\\Lib\\contextlib.py:158: UserWarning: Your input ran out of data; interrupting training. Make sure that your dataset or generator can generate at least `steps_per_epoch * epochs` batches. You may need to use the `.repeat()` function when building your dataset.\n",
      "  self.gen.throw(value)\n"
     ]
    },
    {
     "name": "stdout",
     "output_type": "stream",
     "text": [
      "\u001b[1m19/19\u001b[0m \u001b[32m━━━━━━━━━━━━━━━━━━━━\u001b[0m\u001b[37m\u001b[0m \u001b[1m1s\u001b[0m 55ms/step - accuracy: 0.1111 - loss: 1.9556 - val_accuracy: 0.1414 - val_loss: 1.9467 - learning_rate: 0.0010\n",
      "Epoch 3/50\n",
      "\u001b[1m 9/19\u001b[0m \u001b[32m━━━━━━━━━\u001b[0m\u001b[37m━━━━━━━━━━━\u001b[0m \u001b[1m34s\u001b[0m 3s/step - accuracy: 0.1612 - loss: 1.9473"
     ]
    }
   ],
   "source": [
    "history = model.fit(train_set,\n",
    "                                steps_per_epoch=train_set.n//train_set.batch_size,\n",
    "                                epochs=epochs,\n",
    "                                validation_data = test_set,\n",
    "                                validation_steps = test_set.n//test_set.batch_size,\n",
    "                                callbacks=callbacks_list\n",
    "                                )\n",
    "\n",
    "model.save(Path(os.getcwd()) / \"model/vgg16\"/ \"vgg16_model.h5\")"
   ]
  },
  {
   "cell_type": "code",
   "execution_count": null,
   "id": "e2096151-43df-4b4c-8363-543bbb700f4c",
   "metadata": {},
   "outputs": [],
   "source": [
    "# Save plots\n",
    "plots_path = Path(os.getcwd()) / \"model\" / \"Alexnet\"\n",
    "plt.style.use('dark_background')\n",
    "\n",
    "# Loss plot\n",
    "plt.figure(figsize=(10, 6))\n",
    "plt.ylabel('Loss', fontsize=16)\n",
    "plt.plot(history.history['loss'], label='Training Loss')\n",
    "plt.plot(history.history['val_loss'], label='Validation Loss')\n",
    "plt.legend(loc='upper right')\n",
    "plt.title('CNN Loss')\n",
    "plt.savefig(plots_path / \"Alexnet_Loss.png\")\n",
    "plt.show()\n",
    "\n",
    "# Accuracy plot\n",
    "plt.figure(figsize=(10, 6))\n",
    "plt.ylabel('Accuracy', fontsize=16)\n",
    "plt.plot(history.history['accuracy'], label='Training Accuracy')\n",
    "plt.plot(history.history['val_accuracy'], label='Validation Accuracy')\n",
    "plt.legend(loc='lower right')\n",
    "plt.title('CNN Accuracy')\n",
    "plt.savefig(plots_path / \"Alexnet_Accuracy.png\")\n",
    "plt.show()\n"
   ]
  },
  {
   "cell_type": "markdown",
   "id": "ac415fd5-34aa-4f78-9573-8a7d69ef743f",
   "metadata": {},
   "source": [
    "# vgg19\n"
   ]
  },
  {
   "cell_type": "code",
   "execution_count": null,
   "id": "7312309b-25d1-4477-9721-f0d1129f735e",
   "metadata": {},
   "outputs": [],
   "source": [
    "# vgg19\n",
    "\n",
    "\n",
    "def vgg19(input_shape, n_classes):\n",
    "    input = Input(input_shape)\n",
    "\n",
    "    x = Conv2D(64, 3, padding=\"same\", activation=\"relu\")(input)\n",
    "    x = Conv2D(64, 3, padding=\"same\", activation=\"relu\")(x)\n",
    "    x = MaxPool2D(2, strides=2, padding=\"same\")(x)\n",
    "\n",
    "    x = Conv2D(128, 3, padding=\"same\", activation=\"relu\")(x)\n",
    "    x = Conv2D(128, 3, padding=\"same\", activation=\"relu\")(x)\n",
    "    x = MaxPool2D(2, strides=2, padding=\"same\")(x)\n",
    "\n",
    "    x = Conv2D(256, 3, padding=\"same\", activation=\"relu\")(x)\n",
    "    x = Conv2D(256, 3, padding=\"same\", activation=\"relu\")(x)\n",
    "    x = Conv2D(256, 3, padding=\"same\", activation=\"relu\")(x)\n",
    "    x = Conv2D(256, 3, padding=\"same\", activation=\"relu\")(x)\n",
    "    x = MaxPool2D(2, strides=2, padding=\"same\")(x)\n",
    "\n",
    "    x = Conv2D(512, 3, padding=\"same\", activation=\"relu\")(x)\n",
    "    x = Conv2D(512, 3, padding=\"same\", activation=\"relu\")(x)\n",
    "    x = Conv2D(512, 3, padding=\"same\", activation=\"relu\")(x)\n",
    "    x = Conv2D(512, 3, padding=\"same\", activation=\"relu\")(x)\n",
    "    x = MaxPool2D(2, strides=2, padding=\"same\")(x)\n",
    "\n",
    "    x = Conv2D(512, 3, padding=\"same\", activation=\"relu\")(x)\n",
    "    x = Conv2D(512, 3, padding=\"same\", activation=\"relu\")(x)\n",
    "    x = Conv2D(512, 3, padding=\"same\", activation=\"relu\")(x)\n",
    "    x = Conv2D(512, 3, padding=\"same\", activation=\"relu\")(x)\n",
    "    x = MaxPool2D(2, strides=2, padding=\"same\")(x)\n",
    "\n",
    "    x = Flatten()(x)\n",
    "    x = Dense(4096, activation=\"relu\")(x)\n",
    "    x = Dense(4096, activation=\"relu\")(x)\n",
    "\n",
    "    output = Dense(n_classes, activation=\"softmax\")(x)\n",
    "\n",
    "    model = Model(input, output)\n",
    "    return model\n",
    "\n",
    "model = vgg19(input_shape, n_classes)\n",
    "model.summary()"
   ]
  },
  {
   "cell_type": "code",
   "execution_count": null,
   "id": "35d469f7-efe7-4b3d-a413-1cdb896a51d2",
   "metadata": {},
   "outputs": [],
   "source": [
    "from keras.optimizers import RMSprop,SGD,Adam\n",
    "from keras.callbacks import ModelCheckpoint, EarlyStopping, ReduceLROnPlateau\n",
    "\n",
    "\n",
    "# checkpoint = ModelCheckpoint(str(Path(os.getcwd()) / \"Model/CNN\"/\"cnnmodel.keras\"), monitor='val_acc', verbose=1, save_best_only=True, mode='max')\n",
    "\n",
    "early_stopping = EarlyStopping(monitor='accuracy',\n",
    "                          min_delta=0,\n",
    "                          patience=3,\n",
    "                          verbose=1,\n",
    "                          restore_best_weights=True\n",
    "                          )\n",
    "\n",
    "reduce_learningrate = ReduceLROnPlateau(monitor='accuracy',\n",
    "                              factor=0.2,\n",
    "                              patience=3,\n",
    "                              verbose=1,\n",
    "                              min_delta=0.0001)\n",
    "\n",
    "# callbacks_list = [early_stopping,checkpoint,reduce_learningrate]\n",
    "# callbacks_list = [checkpoint,reduce_learningrate]\n",
    "callbacks_list = [early_stopping,reduce_learningrate]\n",
    "epochs = 50\n",
    "\n",
    "model.compile(loss='categorical_crossentropy',\n",
    "              optimizer=Adam(learning_rate=0.001),  # Pass learning rate as positional argument\n",
    "              metrics=['accuracy'])"
   ]
  },
  {
   "cell_type": "code",
   "execution_count": null,
   "id": "abcd0bf7-9bad-4b1b-89b1-4cf98767014a",
   "metadata": {},
   "outputs": [],
   "source": [
    "history = model.fit(train_set,\n",
    "                                steps_per_epoch=train_set.n//train_set.batch_size,\n",
    "                                epochs=epochs,\n",
    "                                validation_data = test_set,\n",
    "                                validation_steps = test_set.n//test_set.batch_size,\n",
    "                                callbacks=callbacks_list\n",
    "                                )\n",
    "\n",
    "model.save(Path(os.getcwd()) / \"model/vgg19\"/ \"vgg19_model.h5\")"
   ]
  },
  {
   "cell_type": "code",
   "execution_count": null,
   "id": "e16d1713-5665-41dc-956b-855247b54418",
   "metadata": {},
   "outputs": [],
   "source": [
    "# Save plots\n",
    "plots_path = Path(os.getcwd()) / \"model\" / \"Alexnet\"\n",
    "plt.style.use('dark_background')\n",
    "\n",
    "# Loss plot\n",
    "plt.figure(figsize=(10, 6))\n",
    "plt.ylabel('Loss', fontsize=16)\n",
    "plt.plot(history.history['loss'], label='Training Loss')\n",
    "plt.plot(history.history['val_loss'], label='Validation Loss')\n",
    "plt.legend(loc='upper right')\n",
    "plt.title('CNN Loss')\n",
    "plt.savefig(plots_path / \"Alexnet_Loss.png\")\n",
    "plt.show()\n",
    "\n",
    "# Accuracy plot\n",
    "plt.figure(figsize=(10, 6))\n",
    "plt.ylabel('Accuracy', fontsize=16)\n",
    "plt.plot(history.history['accuracy'], label='Training Accuracy')\n",
    "plt.plot(history.history['val_accuracy'], label='Validation Accuracy')\n",
    "plt.legend(loc='lower right')\n",
    "plt.title('CNN Accuracy')\n",
    "plt.savefig(plots_path / \"Alexnet_Accuracy.png\")\n",
    "plt.show()\n"
   ]
  },
  {
   "cell_type": "markdown",
   "id": "b5d8d5ea-92c9-4404-bbfb-cad406e4d83d",
   "metadata": {},
   "source": [
    "# Densenet121"
   ]
  },
  {
   "cell_type": "code",
   "execution_count": null,
   "id": "acee6042-6d26-405c-90a9-0de3f804c047",
   "metadata": {},
   "outputs": [],
   "source": [
    "# DenseNet121\n",
    "\n",
    "\n",
    "def densenet121(img_shape, n_classes, f=32):\n",
    "    repetitions = 6, 12, 24, 16\n",
    "\n",
    "    def bn_rl_conv(x, f, k=1, s=1, p=\"same\"):\n",
    "        x = BatchNormalization()(x)\n",
    "        x = ReLU()(x)\n",
    "        x = Conv2D(f, k, strides=s, padding=p)(x)\n",
    "        return x\n",
    "\n",
    "    def dense_block(tensor, r):\n",
    "        for _ in range(r):\n",
    "            x = bn_rl_conv(tensor, 4 * f)\n",
    "            x = bn_rl_conv(x, f, 3)\n",
    "            tensor = Concatenate()([tensor, x])\n",
    "        return tensor\n",
    "\n",
    "    def transition_block(x):\n",
    "        x = bn_rl_conv(x, int(x.shape[-1]) // 2)\n",
    "        x = AvgPool2D(2, strides=2, padding=\"same\")(x)\n",
    "        return x\n",
    "\n",
    "    input = Input(img_shape)\n",
    "\n",
    "    x = Conv2D(64, 7, strides=2, padding=\"same\")(input)\n",
    "    x = AvgPool2D(3, strides=2, padding=\"same\")(x)\n",
    "\n",
    "    for r in repetitions:\n",
    "        d = dense_block(x, r)\n",
    "        x = transition_block(d)\n",
    "\n",
    "    x = GlobalAvgPool2D()(d)\n",
    "\n",
    "    output = Dense(n_classes, activation=\"softmax\")(x)\n",
    "\n",
    "    model = Model(input, output)\n",
    "    return model\n",
    "\n",
    "model = densenet121(input_shape, n_classes)\n",
    "model.summary()"
   ]
  },
  {
   "cell_type": "code",
   "execution_count": null,
   "id": "8373e792-7694-42e1-b0d9-23969164fda4",
   "metadata": {},
   "outputs": [],
   "source": [
    "from keras.optimizers import RMSprop,SGD,Adam\n",
    "from keras.callbacks import ModelCheckpoint, EarlyStopping, ReduceLROnPlateau\n",
    "\n",
    "\n",
    "# checkpoint = ModelCheckpoint(str(Path(os.getcwd()) / \"Model/CNN\"/\"cnnmodel.keras\"), monitor='val_acc', verbose=1, save_best_only=True, mode='max')\n",
    "\n",
    "early_stopping = EarlyStopping(monitor='accuracy',\n",
    "                          min_delta=0,\n",
    "                          patience=3,\n",
    "                          verbose=1,\n",
    "                          restore_best_weights=True\n",
    "                          )\n",
    "\n",
    "reduce_learningrate = ReduceLROnPlateau(monitor='accuracy',\n",
    "                              factor=0.2,\n",
    "                              patience=3,\n",
    "                              verbose=1,\n",
    "                              min_delta=0.0001)\n",
    "\n",
    "# callbacks_list = [early_stopping,checkpoint,reduce_learningrate]\n",
    "# callbacks_list = [checkpoint,reduce_learningrate]\n",
    "callbacks_list = [early_stopping,reduce_learningrate]\n",
    "epochs = 50\n",
    "\n",
    "model.compile(loss='categorical_crossentropy',\n",
    "              optimizer=Adam(learning_rate=0.001),  # Pass learning rate as positional argument\n",
    "              metrics=['accuracy'])"
   ]
  },
  {
   "cell_type": "code",
   "execution_count": null,
   "id": "e2584512-24eb-44df-97ef-0abf5def2c8d",
   "metadata": {},
   "outputs": [],
   "source": [
    "history = model.fit(train_set,\n",
    "                                steps_per_epoch=train_set.n//train_set.batch_size,\n",
    "                                epochs=epochs,\n",
    "                                validation_data = test_set,\n",
    "                                validation_steps = test_set.n//test_set.batch_size,\n",
    "                                callbacks=callbacks_list\n",
    "                                )\n",
    "\n",
    "model.save(Path(os.getcwd()) / \"model/densenet121\"/ \"densenet121_model.h5\")"
   ]
  },
  {
   "cell_type": "code",
   "execution_count": null,
   "id": "8b91a33d-f6d5-4331-b46d-1e928fa7a0f0",
   "metadata": {},
   "outputs": [],
   "source": [
    "# Save plots\n",
    "plots_path = Path(os.getcwd()) / \"model\" / \"Alexnet\"\n",
    "plt.style.use('dark_background')\n",
    "\n",
    "# Loss plot\n",
    "plt.figure(figsize=(10, 6))\n",
    "plt.ylabel('Loss', fontsize=16)\n",
    "plt.plot(history.history['loss'], label='Training Loss')\n",
    "plt.plot(history.history['val_loss'], label='Validation Loss')\n",
    "plt.legend(loc='upper right')\n",
    "plt.title('CNN Loss')\n",
    "plt.savefig(plots_path / \"Alexnet_Loss.png\")\n",
    "plt.show()\n",
    "\n",
    "# Accuracy plot\n",
    "plt.figure(figsize=(10, 6))\n",
    "plt.ylabel('Accuracy', fontsize=16)\n",
    "plt.plot(history.history['accuracy'], label='Training Accuracy')\n",
    "plt.plot(history.history['val_accuracy'], label='Validation Accuracy')\n",
    "plt.legend(loc='lower right')\n",
    "plt.title('CNN Accuracy')\n",
    "plt.savefig(plots_path / \"Alexnet_Accuracy.png\")\n",
    "plt.show()\n"
   ]
  },
  {
   "cell_type": "markdown",
   "id": "9438a694-933e-41bc-81a6-cd53ddbcf993",
   "metadata": {},
   "source": [
    "# densenet 201\n"
   ]
  },
  {
   "cell_type": "code",
   "execution_count": null,
   "id": "0fc1911e-628b-4a87-b57f-9e6e6300ad5e",
   "metadata": {},
   "outputs": [],
   "source": [
    "from tensorflow.keras.layers import Input, Dense, Conv2D, MaxPool2D, AvgPool2D, GlobalAvgPool2D, Concatenate, BatchNormalization, ReLU\n",
    "from tensorflow.keras.models import Model\n",
    "from tensorflow.keras import backend as K\n",
    "\n",
    "\n",
    "def densenet201(img_shape, n_classes, f=32):\n",
    "    repetitions = (6, 12, 48, 32)\n",
    "\n",
    "    def bn_rl_conv(x, f, k=1, s=1, p=\"same\"):\n",
    "        x = BatchNormalization()(x)\n",
    "        x = ReLU()(x)\n",
    "        x = Conv2D(f, k, strides=s, padding=p)(x)\n",
    "        return x\n",
    "\n",
    "    def dense_block(tensor, r):\n",
    "        for _ in range(r):\n",
    "            x = bn_rl_conv(tensor, 4 * f)\n",
    "            x = bn_rl_conv(x, f, 3)\n",
    "            tensor = Concatenate()([tensor, x])\n",
    "        return tensor\n",
    "\n",
    "    def transition_block(x):\n",
    "        if K.image_data_format() == 'channels_last':\n",
    "            bn_axis = -1\n",
    "        else:\n",
    "            bn_axis = 1\n",
    "        x = bn_rl_conv(x, K.int_shape(x)[bn_axis] // 2)\n",
    "        x = AvgPool2D(2, strides=2, padding=\"same\")(x)\n",
    "        return x\n",
    "\n",
    "    input = Input(img_shape)\n",
    "\n",
    "    x = Conv2D(64, 7, strides=2, padding=\"same\")(input)\n",
    "    x = MaxPool2D(3, strides=2, padding=\"same\")(x)\n",
    "\n",
    "    for r in repetitions:\n",
    "        d = dense_block(x, r)\n",
    "        x = transition_block(d)\n",
    "\n",
    "    x = GlobalAvgPool2D()(d)\n",
    "\n",
    "    output = Dense(n_classes, activation=\"softmax\")(x)\n",
    "\n",
    "    model = Model(input, output)\n",
    "    return model\n",
    "\n",
    "model = densenet201(input_shape, n_classes)\n",
    "model.summary()\n"
   ]
  },
  {
   "cell_type": "code",
   "execution_count": null,
   "id": "a001101f-e6d5-4674-914c-7f2474ff6b33",
   "metadata": {},
   "outputs": [],
   "source": [
    "from keras.optimizers import RMSprop,SGD,Adam\n",
    "from keras.callbacks import ModelCheckpoint, EarlyStopping, ReduceLROnPlateau\n",
    "\n",
    "\n",
    "# checkpoint = ModelCheckpoint(str(Path(os.getcwd()) / \"Model/CNN\"/\"cnnmodel.keras\"), monitor='val_acc', verbose=1, save_best_only=True, mode='max')\n",
    "\n",
    "early_stopping = EarlyStopping(monitor='accuracy',\n",
    "                          min_delta=0,\n",
    "                          patience=3,\n",
    "                          verbose=1,\n",
    "                          restore_best_weights=True\n",
    "                          )\n",
    "\n",
    "reduce_learningrate = ReduceLROnPlateau(monitor='accuracy',\n",
    "                              factor=0.2,\n",
    "                              patience=3,\n",
    "                              verbose=1,\n",
    "                              min_delta=0.0001)\n",
    "\n",
    "# callbacks_list = [early_stopping,checkpoint,reduce_learningrate]\n",
    "# callbacks_list = [checkpoint,reduce_learningrate]\n",
    "callbacks_list = [early_stopping,reduce_learningrate]\n",
    "epochs = 50\n",
    "\n",
    "model.compile(loss='categorical_crossentropy',\n",
    "              optimizer=Adam(learning_rate=0.001),  # Pass learning rate as positional argument\n",
    "              metrics=['accuracy'])"
   ]
  },
  {
   "cell_type": "code",
   "execution_count": null,
   "id": "91b26324-7238-4dae-b121-dd67e96bee35",
   "metadata": {},
   "outputs": [],
   "source": [
    "history = model.fit(train_set,\n",
    "                                steps_per_epoch=train_set.n//train_set.batch_size,\n",
    "                                epochs=epochs,\n",
    "                                validation_data = test_set,\n",
    "                                validation_steps = test_set.n//test_set.batch_size,\n",
    "                                callbacks=callbacks_list\n",
    "                                )\n",
    "\n",
    "model.save(Path(os.getcwd()) / \"model/densenet201\"/ \"densenet201_model.h5\")"
   ]
  },
  {
   "cell_type": "code",
   "execution_count": null,
   "id": "c2f184b2-cc5e-4cd3-9212-1f6e45c9ac51",
   "metadata": {},
   "outputs": [],
   "source": [
    "# Save plots\n",
    "plots_path = Path(os.getcwd()) / \"model\" / \"Alexnet\"\n",
    "plt.style.use('dark_background')\n",
    "\n",
    "# Loss plot\n",
    "plt.figure(figsize=(10, 6))\n",
    "plt.ylabel('Loss', fontsize=16)\n",
    "plt.plot(history.history['loss'], label='Training Loss')\n",
    "plt.plot(history.history['val_loss'], label='Validation Loss')\n",
    "plt.legend(loc='upper right')\n",
    "plt.title('CNN Loss')\n",
    "plt.savefig(plots_path / \"Alexnet_Loss.png\")\n",
    "plt.show()\n",
    "\n",
    "# Accuracy plot\n",
    "plt.figure(figsize=(10, 6))\n",
    "plt.ylabel('Accuracy', fontsize=16)\n",
    "plt.plot(history.history['accuracy'], label='Training Accuracy')\n",
    "plt.plot(history.history['val_accuracy'], label='Validation Accuracy')\n",
    "plt.legend(loc='lower right')\n",
    "plt.title('CNN Accuracy')\n",
    "plt.savefig(plots_path / \"Alexnet_Accuracy.png\")\n",
    "plt.show()\n"
   ]
  },
  {
   "cell_type": "markdown",
   "id": "1aeb0f79-5580-4bed-a33d-82fb3d2ee5cb",
   "metadata": {},
   "source": [
    "# Resnet 50"
   ]
  },
  {
   "cell_type": "code",
   "execution_count": null,
   "id": "fd38097d-f3e1-446f-9553-1cb792f8dc6e",
   "metadata": {},
   "outputs": [],
   "source": [
    "def resnet50(input_shape, n_classes):\n",
    "    def identity_block(input_tensor, filters):\n",
    "        \"\"\"Identity block\"\"\"\n",
    "        filters1, filters2, filters3 = filters\n",
    "\n",
    "        x = Conv2D(filters1, (1, 1))(input_tensor)\n",
    "        x = BatchNormalization()(x)\n",
    "        x = Activation('relu')(x)\n",
    "\n",
    "        x = Conv2D(filters2, (3, 3), padding='same')(x)\n",
    "        x = BatchNormalization()(x)\n",
    "        x = Activation('relu')(x)\n",
    "\n",
    "        x = Conv2D(filters3, (1, 1))(x)\n",
    "        x = BatchNormalization()(x)\n",
    "\n",
    "        x = Add()([x, input_tensor])\n",
    "        x = Activation('relu')(x)\n",
    "\n",
    "        return x\n",
    "\n",
    "    def convolutional_block(input_tensor, filters, strides=(2, 2)):\n",
    "        \"\"\"Convolutional block\"\"\"\n",
    "        filters1, filters2, filters3 = filters\n",
    "\n",
    "        x = Conv2D(filters1, (1, 1), strides=strides)(input_tensor)\n",
    "        x = BatchNormalization()(x)\n",
    "        x = Activation('relu')(x)\n",
    "\n",
    "        x = Conv2D(filters2, (3, 3), padding='same')(x)\n",
    "        x = BatchNormalization()(x)\n",
    "        x = Activation('relu')(x)\n",
    "\n",
    "        x = Conv2D(filters3, (1, 1))(x)\n",
    "        x = BatchNormalization()(x)\n",
    "\n",
    "        shortcut = Conv2D(filters3, (1, 1), strides=strides)(input_tensor)\n",
    "        shortcut = BatchNormalization()(shortcut)\n",
    "\n",
    "        x = Add()([x, shortcut])\n",
    "        x = Activation('relu')(x)\n",
    "\n",
    "        return x\n",
    "\n",
    "    input = Input(input_shape)\n",
    "\n",
    "    x = Conv2D(64, (7, 7), strides=(2, 2), padding='same')(input)\n",
    "    x = BatchNormalization()(x)\n",
    "    x = Activation('relu')(x)\n",
    "    x = MaxPool2D((3, 3), strides=(2, 2), padding='same')(x)\n",
    "\n",
    "    x = convolutional_block(x, [64, 64, 256], strides=(1, 1))\n",
    "    x = identity_block(x, [64, 64, 256])\n",
    "    x = identity_block(x, [64, 64, 256])\n",
    "\n",
    "    x = convolutional_block(x, [128, 128, 512])\n",
    "    x = identity_block(x, [128, 128, 512])\n",
    "    x = identity_block(x, [128, 128, 512])\n",
    "    x = identity_block(x, [128, 128, 512])\n",
    "\n",
    "    x = convolutional_block(x, [256, 256, 1024])\n",
    "    x = identity_block(x, [256, 256, 1024])\n",
    "    x = identity_block(x, [256, 256, 1024])\n",
    "    x = identity_block(x, [256, 256, 1024])\n",
    "    x = identity_block(x, [256, 256, 1024])\n",
    "    x = identity_block(x, [256, 256, 1024])\n",
    "\n",
    "    x = convolutional_block(x, [512, 512, 2048])\n",
    "    x = identity_block(x, [512, 512, 2048])\n",
    "    x = identity_block(x, [512, 512, 2048])\n",
    "\n",
    "    x = GlobalAveragePooling2D()(x)\n",
    "    x = Flatten()(x)\n",
    "    \n",
    "    output = Dense(n_classes, activation='softmax')(x)\n",
    "\n",
    "    model = Model(input, output)\n",
    "\n",
    "    return model\n",
    "\n",
    "model = resnet50(input_shape, n_classes)\n",
    "model.summary()"
   ]
  },
  {
   "cell_type": "code",
   "execution_count": null,
   "id": "c8277430-deaa-4816-afd6-0cb7a4a5a689",
   "metadata": {},
   "outputs": [],
   "source": [
    "from keras.optimizers import RMSprop,SGD,Adam\n",
    "from keras.callbacks import ModelCheckpoint, EarlyStopping, ReduceLROnPlateau\n",
    "\n",
    "\n",
    "# checkpoint = ModelCheckpoint(str(Path(os.getcwd()) / \"Model/CNN\"/\"cnnmodel.keras\"), monitor='val_acc', verbose=1, save_best_only=True, mode='max')\n",
    "\n",
    "early_stopping = EarlyStopping(monitor='accuracy',\n",
    "                          min_delta=0,\n",
    "                          patience=3,\n",
    "                          verbose=1,\n",
    "                          restore_best_weights=True\n",
    "                          )\n",
    "\n",
    "reduce_learningrate = ReduceLROnPlateau(monitor='accuracy',\n",
    "                              factor=0.2,\n",
    "                              patience=3,\n",
    "                              verbose=1,\n",
    "                              min_delta=0.0001)\n",
    "\n",
    "# callbacks_list = [early_stopping,checkpoint,reduce_learningrate]\n",
    "# callbacks_list = [checkpoint,reduce_learningrate]\n",
    "callbacks_list = [early_stopping,reduce_learningrate]\n",
    "epochs = 50\n",
    "\n",
    "model.compile(loss='categorical_crossentropy',\n",
    "              optimizer=Adam(learning_rate=0.001),  # Pass learning rate as positional argument\n",
    "              metrics=['accuracy'])"
   ]
  },
  {
   "cell_type": "code",
   "execution_count": null,
   "id": "84fb79d3-0358-4a7a-8e09-c78967e53d13",
   "metadata": {},
   "outputs": [],
   "source": [
    "history = model.fit(train_set,\n",
    "                                steps_per_epoch=train_set.n//train_set.batch_size,\n",
    "                                epochs=epochs,\n",
    "                                validation_data = test_set,\n",
    "                                validation_steps = test_set.n//test_set.batch_size,\n",
    "                                callbacks=callbacks_list\n",
    "                                )\n",
    "\n",
    "model.save(Path(os.getcwd()) / \"model/resnet50\"/ \"resnet50_model.h5\")"
   ]
  },
  {
   "cell_type": "code",
   "execution_count": null,
   "id": "957cd2f2-0da0-4964-ba63-3ddf59451092",
   "metadata": {},
   "outputs": [],
   "source": [
    "# Save plots\n",
    "plots_path = Path(os.getcwd()) / \"model\" / \"Alexnet\"\n",
    "plt.style.use('dark_background')\n",
    "\n",
    "# Loss plot\n",
    "plt.figure(figsize=(10, 6))\n",
    "plt.ylabel('Loss', fontsize=16)\n",
    "plt.plot(history.history['loss'], label='Training Loss')\n",
    "plt.plot(history.history['val_loss'], label='Validation Loss')\n",
    "plt.legend(loc='upper right')\n",
    "plt.title('CNN Loss')\n",
    "plt.savefig(plots_path / \"Alexnet_Loss.png\")\n",
    "plt.show()\n",
    "\n",
    "# Accuracy plot\n",
    "plt.figure(figsize=(10, 6))\n",
    "plt.ylabel('Accuracy', fontsize=16)\n",
    "plt.plot(history.history['accuracy'], label='Training Accuracy')\n",
    "plt.plot(history.history['val_accuracy'], label='Validation Accuracy')\n",
    "plt.legend(loc='lower right')\n",
    "plt.title('CNN Accuracy')\n",
    "plt.savefig(plots_path / \"Alexnet_Accuracy.png\")\n",
    "plt.show()\n"
   ]
  },
  {
   "cell_type": "code",
   "execution_count": null,
   "id": "a0001f85-fe2c-407d-8bc4-ab2411237d3b",
   "metadata": {},
   "outputs": [],
   "source": [
    "#inception\n",
    "\n",
    "\n",
    "def googlenet(input_shape, n_classes):\n",
    "    def inception_block(x, f):\n",
    "        t1 = Conv2D(f[0], 1, activation=\"relu\")(x)\n",
    "\n",
    "        t2 = Conv2D(f[1], 1, activation=\"relu\")(x)\n",
    "        t2 = Conv2D(f[2], 3, padding=\"same\", activation=\"relu\")(t2)\n",
    "\n",
    "        t3 = Conv2D(f[3], 1, activation=\"relu\")(x)\n",
    "        t3 = Conv2D(f[4], 5, padding=\"same\", activation=\"relu\")(t3)\n",
    "\n",
    "        t4 = MaxPool2D(3, 1, padding=\"same\")(x)\n",
    "        t4 = Conv2D(f[5], 1, activation=\"relu\")(t4)\n",
    "\n",
    "        output = Concatenate()([t1, t2, t3, t4])\n",
    "        return output\n",
    "\n",
    "    input = Input(input_shape)\n",
    "\n",
    "    x = Conv2D(64, 7, strides=2, padding=\"same\", activation=\"relu\")(input)\n",
    "    x = MaxPool2D(3, strides=2, padding=\"same\")(x)\n",
    "\n",
    "    x = Conv2D(64, 1, activation=\"relu\")(x)\n",
    "    x = Conv2D(192, 3, padding=\"same\", activation=\"relu\")(x)\n",
    "    x = MaxPool2D(3, strides=2)(x)\n",
    "\n",
    "    x = inception_block(x, [64, 96, 128, 16, 32, 32])\n",
    "    x = inception_block(x, [128, 128, 192, 32, 96, 64])\n",
    "    x = MaxPool2D(3, strides=2, padding=\"same\")(x)\n",
    "\n",
    "    x = inception_block(x, [192, 96, 208, 16, 48, 64])\n",
    "    x = inception_block(x, [160, 112, 224, 24, 64, 64])\n",
    "    x = inception_block(x, [128, 128, 256, 24, 64, 64])\n",
    "    x = inception_block(x, [112, 144, 288, 32, 64, 64])\n",
    "    x = inception_block(x, [256, 160, 320, 32, 128, 128])\n",
    "    x = MaxPool2D(3, strides=2, padding=\"same\")(x)\n",
    "\n",
    "    x = inception_block(x, [256, 160, 320, 32, 128, 128])\n",
    "    x = inception_block(x, [384, 192, 384, 48, 128, 128])\n",
    "\n",
    "    x = AvgPool2D(2, strides=1)(x)\n",
    "    x = Dropout(0.4)(x)\n",
    "\n",
    "    x = Flatten()(x)\n",
    "    output = Dense(n_classes, activation=\"softmax\")(x)\n",
    "\n",
    "    model = Model(input, output)\n",
    "    return model\n",
    "\n",
    "model = googlenet(input_shape, n_classes)\n",
    "model.summary()"
   ]
  },
  {
   "cell_type": "code",
   "execution_count": null,
   "id": "f64a4446-ce34-4f46-a1a6-eace8086cb5a",
   "metadata": {},
   "outputs": [],
   "source": [
    "from keras.optimizers import RMSprop,SGD,Adam\n",
    "from keras.callbacks import ModelCheckpoint, EarlyStopping, ReduceLROnPlateau\n",
    "\n",
    "\n",
    "# checkpoint = ModelCheckpoint(str(Path(os.getcwd()) / \"Model/CNN\"/\"cnnmodel.keras\"), monitor='val_acc', verbose=1, save_best_only=True, mode='max')\n",
    "\n",
    "early_stopping = EarlyStopping(monitor='accuracy',\n",
    "                          min_delta=0,\n",
    "                          patience=3,\n",
    "                          verbose=1,\n",
    "                          restore_best_weights=True\n",
    "                          )\n",
    "\n",
    "reduce_learningrate = ReduceLROnPlateau(monitor='accuracy',\n",
    "                              factor=0.2,\n",
    "                              patience=3,\n",
    "                              verbose=1,\n",
    "                              min_delta=0.0001)\n",
    "\n",
    "# callbacks_list = [early_stopping,checkpoint,reduce_learningrate]\n",
    "# callbacks_list = [checkpoint,reduce_learningrate]\n",
    "callbacks_list = [early_stopping,reduce_learningrate]\n",
    "epochs = 50\n",
    "\n",
    "model.compile(loss='categorical_crossentropy',\n",
    "              optimizer=Adam(learning_rate=0.001),  # Pass learning rate as positional argument\n",
    "              metrics=['accuracy'])"
   ]
  },
  {
   "cell_type": "code",
   "execution_count": null,
   "id": "80ef3f8c-f98e-4b29-9565-2767a9097321",
   "metadata": {},
   "outputs": [],
   "source": [
    "history = model.fit(train_set,\n",
    "                                steps_per_epoch=train_set.n//train_set.batch_size,\n",
    "                                epochs=epochs,\n",
    "                                validation_data = test_set,\n",
    "                                validation_steps = test_set.n//test_set.batch_size,\n",
    "                                callbacks=callbacks_list\n",
    "                                )\n",
    "\n",
    "model.save(Path(os.getcwd()) / \"model/inception\"/ \"inception_model.h5\")"
   ]
  },
  {
   "cell_type": "code",
   "execution_count": null,
   "id": "2eaa0a5e-9a2f-461a-a541-eeca0d228a1b",
   "metadata": {},
   "outputs": [],
   "source": [
    "# Save plots\n",
    "plots_path = Path(os.getcwd()) / \"model\" / \"Alexnet\"\n",
    "plt.style.use('dark_background')\n",
    "\n",
    "# Loss plot\n",
    "plt.figure(figsize=(10, 6))\n",
    "plt.ylabel('Loss', fontsize=16)\n",
    "plt.plot(history.history['loss'], label='Training Loss')\n",
    "plt.plot(history.history['val_loss'], label='Validation Loss')\n",
    "plt.legend(loc='upper right')\n",
    "plt.title('CNN Loss')\n",
    "plt.savefig(plots_path / \"Alexnet_Loss.png\")\n",
    "plt.show()\n",
    "\n",
    "# Accuracy plot\n",
    "plt.figure(figsize=(10, 6))\n",
    "plt.ylabel('Accuracy', fontsize=16)\n",
    "plt.plot(history.history['accuracy'], label='Training Accuracy')\n",
    "plt.plot(history.history['val_accuracy'], label='Validation Accuracy')\n",
    "plt.legend(loc='lower right')\n",
    "plt.title('CNN Accuracy')\n",
    "plt.savefig(plots_path / \"Alexnet_Accuracy.png\")\n",
    "plt.show()\n"
   ]
  },
  {
   "cell_type": "code",
   "execution_count": null,
   "id": "0ad913dd-9724-4a5c-832e-66fb648f7902",
   "metadata": {},
   "outputs": [],
   "source": [
    "#mobilenet\n",
    "\n",
    "def mobilenet(input_shape, n_classes):\n",
    "    def mobilenet_block(x, f, s=1):\n",
    "        x = DepthwiseConv2D(3, strides=s, padding=\"same\")(x)\n",
    "        x = BatchNormalization()(x)\n",
    "        x = ReLU()(x)\n",
    "\n",
    "        x = Conv2D(f, 1, strides=1, padding=\"same\")(x)\n",
    "        x = BatchNormalization()(x)\n",
    "        x = ReLU()(x)\n",
    "        return x\n",
    "\n",
    "    input = Input(input_shape)\n",
    "\n",
    "    x = Conv2D(32, 3, strides=2, padding=\"same\")(input)\n",
    "    x = BatchNormalization()(x)\n",
    "    x = ReLU()(x)\n",
    "\n",
    "    x = mobilenet_block(x, 64)\n",
    "    x = mobilenet_block(x, 128, 2)\n",
    "    x = mobilenet_block(x, 128)\n",
    "\n",
    "    x = mobilenet_block(x, 256, 2)\n",
    "    x = mobilenet_block(x, 256)\n",
    "\n",
    "    x = mobilenet_block(x, 512, 2)\n",
    "    for _ in range(5):\n",
    "        x = mobilenet_block(x, 512)\n",
    "\n",
    "    x = mobilenet_block(x, 1024, 2)\n",
    "    x = mobilenet_block(x, 1024)\n",
    "\n",
    "    x = GlobalAvgPool2D()(x)\n",
    "\n",
    "    output = Dense(n_classes, activation=\"softmax\")(x)\n",
    "\n",
    "    model = Model(input, output)\n",
    "    return model\n",
    "\n",
    "model = mobilenet(input_shape, n_classes)\n",
    "model.summary()"
   ]
  },
  {
   "cell_type": "code",
   "execution_count": null,
   "id": "debd5f60-f304-467b-9e58-92f568afcb94",
   "metadata": {},
   "outputs": [],
   "source": [
    "from keras.optimizers import RMSprop,SGD,Adam\n",
    "from keras.callbacks import ModelCheckpoint, EarlyStopping, ReduceLROnPlateau\n",
    "\n",
    "\n",
    "# checkpoint = ModelCheckpoint(str(Path(os.getcwd()) / \"Model/CNN\"/\"cnnmodel.keras\"), monitor='val_acc', verbose=1, save_best_only=True, mode='max')\n",
    "\n",
    "early_stopping = EarlyStopping(monitor='accuracy',\n",
    "                          min_delta=0,\n",
    "                          patience=3,\n",
    "                          verbose=1,\n",
    "                          restore_best_weights=True\n",
    "                          )\n",
    "\n",
    "reduce_learningrate = ReduceLROnPlateau(monitor='accuracy',\n",
    "                              factor=0.2,\n",
    "                              patience=3,\n",
    "                              verbose=1,\n",
    "                              min_delta=0.0001)\n",
    "\n",
    "# callbacks_list = [early_stopping,checkpoint,reduce_learningrate]\n",
    "# callbacks_list = [checkpoint,reduce_learningrate]\n",
    "callbacks_list = [early_stopping,reduce_learningrate]\n",
    "epochs = 50\n",
    "\n",
    "model.compile(loss='categorical_crossentropy',\n",
    "              optimizer=Adam(learning_rate=0.001),  # Pass learning rate as positional argument\n",
    "              metrics=['accuracy'])"
   ]
  },
  {
   "cell_type": "code",
   "execution_count": null,
   "id": "518234ba-0f74-4beb-b29a-312bc1f55820",
   "metadata": {},
   "outputs": [],
   "source": [
    "history = model.fit(train_set,\n",
    "                                steps_per_epoch=train_set.n//train_set.batch_size,\n",
    "                                epochs=epochs,\n",
    "                                validation_data = test_set,\n",
    "                                validation_steps = test_set.n//test_set.batch_size,\n",
    "                                callbacks=callbacks_list\n",
    "                                )\n",
    "\n",
    "model.save(Path(os.getcwd()) / \"model/mobilenet\"/ \"mobilenet_model.h5\")"
   ]
  },
  {
   "cell_type": "code",
   "execution_count": null,
   "id": "768e756c-a0d7-4590-9579-392520a3720a",
   "metadata": {},
   "outputs": [],
   "source": [
    "# Save plots\n",
    "plots_path = Path(os.getcwd()) / \"model\" / \"Alexnet\"\n",
    "plt.style.use('dark_background')\n",
    "\n",
    "# Loss plot\n",
    "plt.figure(figsize=(10, 6))\n",
    "plt.ylabel('Loss', fontsize=16)\n",
    "plt.plot(history.history['loss'], label='Training Loss')\n",
    "plt.plot(history.history['val_loss'], label='Validation Loss')\n",
    "plt.legend(loc='upper right')\n",
    "plt.title('CNN Loss')\n",
    "plt.savefig(plots_path / \"Alexnet_Loss.png\")\n",
    "plt.show()\n",
    "\n",
    "# Accuracy plot\n",
    "plt.figure(figsize=(10, 6))\n",
    "plt.ylabel('Accuracy', fontsize=16)\n",
    "plt.plot(history.history['accuracy'], label='Training Accuracy')\n",
    "plt.plot(history.history['val_accuracy'], label='Validation Accuracy')\n",
    "plt.legend(loc='lower right')\n",
    "plt.title('CNN Accuracy')\n",
    "plt.savefig(plots_path / \"Alexnet_Accuracy.png\")\n",
    "plt.show()\n"
   ]
  },
  {
   "cell_type": "code",
   "execution_count": null,
   "id": "525da640-a9e8-44e0-99ad-37f761550ffa",
   "metadata": {},
   "outputs": [],
   "source": [
    "#xception\n",
    "\n",
    "def xception(input_shape, n_classes):\n",
    "    def conv_bn(x, f, k, s=1, p=\"same\"):\n",
    "        x = Conv2D(f, k, strides=s, padding=p, use_bias=False)(x)\n",
    "        x = BatchNormalization()(x)\n",
    "        return x\n",
    "\n",
    "    def sep_bn(x, f, k, s=1, p=\"same\"):\n",
    "        x = SeparableConv2D(f, k, strides=s, padding=p, use_bias=False)(x)\n",
    "        x = BatchNormalization()(x)\n",
    "        return x\n",
    "\n",
    "    def entry_flow(x):\n",
    "        x = conv_bn(x, 32, 3, 2)\n",
    "        x = ReLU()(x)\n",
    "        x = conv_bn(x, 64, 3)\n",
    "        tensor = ReLU()(x)\n",
    "\n",
    "        x = sep_bn(tensor, 128, 3)\n",
    "        x = ReLU()(x)\n",
    "        x = sep_bn(x, 128, 3)\n",
    "        x = MaxPool2D(3, strides=2, padding=\"same\")(x)\n",
    "\n",
    "        tensor = conv_bn(tensor, 128, 1, 2)\n",
    "\n",
    "        x = Add()([tensor, x])\n",
    "        x = ReLU()(x)\n",
    "        x = sep_bn(x, 256, 3)\n",
    "        x = ReLU()(x)\n",
    "        x = sep_bn(x, 256, 3)\n",
    "        x = MaxPool2D(3, strides=2, padding=\"same\")(x)\n",
    "\n",
    "        tensor = conv_bn(tensor, 256, 1, 2)\n",
    "\n",
    "        x = Add()([tensor, x])\n",
    "        x = ReLU()(x)\n",
    "        x = sep_bn(x, 728, 3)\n",
    "        x = ReLU()(x)\n",
    "        x = sep_bn(x, 728, 3)\n",
    "        x = MaxPool2D(3, strides=2, padding=\"same\")(x)\n",
    "\n",
    "        tensor = conv_bn(tensor, 728, 1, 2)\n",
    "        x = Add()([tensor, x])\n",
    "\n",
    "        return x\n",
    "\n",
    "    def middle_flow(tensor):\n",
    "        for _ in range(8):\n",
    "            x = ReLU()(tensor)\n",
    "            x = sep_bn(x, 728, 3)\n",
    "            x = ReLU()(x)\n",
    "            x = sep_bn(x, 728, 3)\n",
    "            x = ReLU()(x)\n",
    "            x = sep_bn(x, 728, 3)\n",
    "\n",
    "            tensor = Add()([tensor, x])\n",
    "\n",
    "        return tensor\n",
    "\n",
    "    def exit_flow(tensor):\n",
    "        x = ReLU()(tensor)\n",
    "        x = sep_bn(x, 728, 3)\n",
    "        x = ReLU()(x)\n",
    "        x = sep_bn(x, 1024, 3)\n",
    "        x = MaxPool2D(3, strides=2, padding=\"same\")(x)\n",
    "\n",
    "        tensor = conv_bn(tensor, 1024, 1, 2)\n",
    "\n",
    "        x = Add()([tensor, x])\n",
    "        x = sep_bn(x, 1536, 3)\n",
    "        x = ReLU()(x)\n",
    "        x = sep_bn(x, 2048, 3)\n",
    "        x = ReLU()(x)\n",
    "        x = GlobalAvgPool2D()(x)\n",
    "        x = Dense(n_classes, activation=\"softmax\")(x)\n",
    "\n",
    "        return x\n",
    "\n",
    "    input = Input(input_shape)\n",
    "\n",
    "    x = entry_flow(input)\n",
    "    x = middle_flow(x)\n",
    "    output = exit_flow(x)\n",
    "\n",
    "    model = Model(input, output)\n",
    "\n",
    "    return model\n",
    "\n",
    "model = xception(input_shape, n_classes)\n",
    "model.summary()"
   ]
  },
  {
   "cell_type": "code",
   "execution_count": null,
   "id": "6a9bf992-b05d-47fd-9934-8dfbe318b05c",
   "metadata": {},
   "outputs": [],
   "source": [
    "from keras.optimizers import RMSprop,SGD,Adam\n",
    "from keras.callbacks import ModelCheckpoint, EarlyStopping, ReduceLROnPlateau\n",
    "\n",
    "\n",
    "# checkpoint = ModelCheckpoint(str(Path(os.getcwd()) / \"Model/CNN\"/\"cnnmodel.keras\"), monitor='val_acc', verbose=1, save_best_only=True, mode='max')\n",
    "\n",
    "early_stopping = EarlyStopping(monitor='accuracy',\n",
    "                          min_delta=0,\n",
    "                          patience=3,\n",
    "                          verbose=1,\n",
    "                          restore_best_weights=True\n",
    "                          )\n",
    "\n",
    "reduce_learningrate = ReduceLROnPlateau(monitor='accuracy',\n",
    "                              factor=0.2,\n",
    "                              patience=3,\n",
    "                              verbose=1,\n",
    "                              min_delta=0.0001)\n",
    "\n",
    "# callbacks_list = [early_stopping,checkpoint,reduce_learningrate]\n",
    "# callbacks_list = [checkpoint,reduce_learningrate]\n",
    "callbacks_list = [early_stopping,reduce_learningrate]\n",
    "epochs = 50\n",
    "\n",
    "model.compile(loss='categorical_crossentropy',\n",
    "              optimizer=Adam(learning_rate=0.001),  # Pass learning rate as positional argument\n",
    "              metrics=['accuracy'])"
   ]
  },
  {
   "cell_type": "code",
   "execution_count": null,
   "id": "34a6405a-ba5c-4c15-b7b7-05caebcaab59",
   "metadata": {},
   "outputs": [],
   "source": [
    "history = model.fit(train_set,\n",
    "                                steps_per_epoch=train_set.n//train_set.batch_size,\n",
    "                                epochs=epochs,\n",
    "                                validation_data = test_set,\n",
    "                                validation_steps = test_set.n//test_set.batch_size,\n",
    "                                callbacks=callbacks_list\n",
    "                                )\n",
    "\n",
    "model.save(Path(os.getcwd()) / \"model/xception\"/ \"xception_model.h5\")"
   ]
  },
  {
   "cell_type": "code",
   "execution_count": null,
   "id": "6e633a05-055a-44a9-a60b-73f36697d02b",
   "metadata": {},
   "outputs": [],
   "source": [
    "# Save plots\n",
    "plots_path = Path(os.getcwd()) / \"model\" / \"Alexnet\"\n",
    "plt.style.use('dark_background')\n",
    "\n",
    "# Loss plot\n",
    "plt.figure(figsize=(10, 6))\n",
    "plt.ylabel('Loss', fontsize=16)\n",
    "plt.plot(history.history['loss'], label='Training Loss')\n",
    "plt.plot(history.history['val_loss'], label='Validation Loss')\n",
    "plt.legend(loc='upper right')\n",
    "plt.title('CNN Loss')\n",
    "plt.savefig(plots_path / \"Alexnet_Loss.png\")\n",
    "plt.show()\n",
    "\n",
    "# Accuracy plot\n",
    "plt.figure(figsize=(10, 6))\n",
    "plt.ylabel('Accuracy', fontsize=16)\n",
    "plt.plot(history.history['accuracy'], label='Training Accuracy')\n",
    "plt.plot(history.history['val_accuracy'], label='Validation Accuracy')\n",
    "plt.legend(loc='lower right')\n",
    "plt.title('CNN Accuracy')\n",
    "plt.savefig(plots_path / \"Alexnet_Accuracy.png\")\n",
    "plt.show()\n"
   ]
  },
  {
   "cell_type": "code",
   "execution_count": null,
   "id": "11786e6a-8823-4cbf-9097-6ceb3b0a4bca",
   "metadata": {},
   "outputs": [],
   "source": [
    "#yolo\n",
    "\n",
    "\n",
    "\n",
    "def yolo(input_shape=(448, 448, 3), n_outputs=30):\n",
    "    activation = LeakyReLU(0.1)\n",
    "\n",
    "    def conv_1_3(x, f1, f2, r=1):\n",
    "        for _ in range(r):\n",
    "            x = Conv2D(f1, 1, padding=\"same\", activation=activation)(x)\n",
    "            x = Conv2D(f2, 3, padding=\"same\", activation=activation)(x)\n",
    "        return x\n",
    "\n",
    "    input = Input(input_shape)\n",
    "\n",
    "    x = Conv2D(64, 7, strides=2, padding=\"same\", activation=activation)(input)\n",
    "    x = MaxPool2D(2, strides=2, padding=\"same\")(x)\n",
    "\n",
    "    x = Conv2D(192, 3, padding=\"same\", activation=activation)(x)\n",
    "    x = MaxPool2D(2, strides=2, padding=\"same\")(x)\n",
    "\n",
    "    x = conv_1_3(x, 128, 256)\n",
    "    x = conv_1_3(x, 256, 512)\n",
    "    x = MaxPool2D(2, strides=2, padding=\"same\")(x)\n",
    "\n",
    "    x = conv_1_3(x, 256, 512, 4)\n",
    "    x = conv_1_3(x, 512, 1024)\n",
    "    x = MaxPool2D(2, strides=2, padding=\"same\")(x)\n",
    "\n",
    "    x = conv_1_3(x, 512, 1024, 2)\n",
    "    x = Conv2D(1024, 3, padding=\"same\", activation=activation)(x)\n",
    "    x = Conv2D(1024, 3, strides=2, padding=\"same\", activation=activation)(x)\n",
    "\n",
    "    x = Conv2D(1024, 3, padding=\"same\", activation=activation)(x)\n",
    "    x = Conv2D(1024, 3, padding=\"same\", activation=activation)(x)\n",
    "\n",
    "    x = Dense(4096, activation=activation)(x)\n",
    "    x = Flatten()(x)  # Flatten the output\n",
    "    output = Dense(n_outputs)(x)\n",
    "\n",
    "    model = Model(input, output)\n",
    "    return model\n",
    "\n",
    "model = yolo(input_shape, n_classes)\n",
    "model.summary()\n"
   ]
  },
  {
   "cell_type": "code",
   "execution_count": null,
   "id": "214df494-40d1-426e-afb9-91231b6c6cf6",
   "metadata": {},
   "outputs": [],
   "source": [
    "#### from keras.optimizers import RMSprop,SGD,Adam\n",
    "from keras.callbacks import ModelCheckpoint, EarlyStopping, ReduceLROnPlateau\n",
    "\n",
    "\n",
    "# checkpoint = ModelCheckpoint(str(Path(os.getcwd()) / \"Model/CNN\"/\"cnnmodel.keras\"), monitor='val_acc', verbose=1, save_best_only=True, mode='max')\n",
    "\n",
    "early_stopping = EarlyStopping(monitor='accuracy',\n",
    "                          min_delta=0,\n",
    "                          patience=3,\n",
    "                          verbose=1,\n",
    "                          restore_best_weights=True\n",
    "                          )\n",
    "\n",
    "reduce_learningrate = ReduceLROnPlateau(monitor='accuracy',\n",
    "                              factor=0.2,\n",
    "                              patience=3,\n",
    "                              verbose=1,\n",
    "                              min_delta=0.0001)\n",
    "\n",
    "# callbacks_list = [early_stopping,checkpoint,reduce_learningrate]\n",
    "# callbacks_list = [checkpoint,reduce_learningrate]\n",
    "callbacks_list = [early_stopping,reduce_learningrate]\n",
    "epochs = 50\n",
    "\n",
    "model.compile(loss='categorical_crossentropy',\n",
    "              optimizer=Adam(learning_rate=0.001),  # Pass learning rate as positional argument\n",
    "              metrics=['accuracy'])"
   ]
  },
  {
   "cell_type": "code",
   "execution_count": null,
   "id": "fe5befea-eeca-4377-a017-99769a4c7ec6",
   "metadata": {},
   "outputs": [],
   "source": [
    "history = model.fit(train_set,\n",
    "                                steps_per_epoch=train_set.n//train_set.batch_size,\n",
    "                                epochs=epochs,\n",
    "                                validation_data = test_set,\n",
    "                                validation_steps = test_set.n//test_set.batch_size,\n",
    "                                callbacks=callbacks_list\n",
    "                                )\n",
    "\n",
    "model.save(Path(os.getcwd()) / \"model/yolo\"/ \"yolo_model.h5\")"
   ]
  },
  {
   "cell_type": "code",
   "execution_count": null,
   "id": "b281765d-8273-4fb2-ba2b-df5da43585ab",
   "metadata": {},
   "outputs": [],
   "source": [
    "# Save plots\n",
    "plots_path = Path(os.getcwd()) / \"model\" / \"yolo\"\n",
    "plt.style.use('dark_background')\n",
    "\n",
    "# Loss plot\n",
    "plt.figure(figsize=(10, 6))\n",
    "plt.ylabel('Loss', fontsize=16)\n",
    "plt.plot(history.history['loss'], label='Training Loss')\n",
    "plt.plot(history.history['val_loss'], label='Validation Loss')\n",
    "plt.legend(loc='upper right')\n",
    "plt.title('CNN Loss')\n",
    "plt.savefig(plots_path / \"yolo_Loss.png\")\n",
    "plt.show()\n",
    "\n",
    "# Accuracy plot\n",
    "plt.figure(figsize=(10, 6))\n",
    "plt.ylabel('Accuracy', fontsize=16)\n",
    "plt.plot(history.history['accuracy'], label='Training Accuracy')\n",
    "plt.plot(history.history['val_accuracy'], label='Validation Accuracy')\n",
    "plt.legend(loc='lower right')\n",
    "plt.title('CNN Accuracy')\n",
    "plt.savefig(plots_path / \"yolo_Accuracy.png\")\n",
    "plt.show()\n"
   ]
  },
  {
   "cell_type": "code",
   "execution_count": null,
   "id": "5bb57264-c8fc-41ef-ab6f-22265d7c5f28",
   "metadata": {},
   "outputs": [],
   "source": []
  },
  {
   "cell_type": "code",
   "execution_count": null,
   "id": "78021a6f-1d9e-4e90-97a0-7dde0b9ab9a8",
   "metadata": {},
   "outputs": [],
   "source": []
  },
  {
   "cell_type": "code",
   "execution_count": null,
   "id": "1154bd54-7a6a-4787-a976-ff578dc2ace7",
   "metadata": {},
   "outputs": [],
   "source": []
  }
 ],
 "metadata": {
  "kernelspec": {
   "display_name": "Python 3 (ipykernel)",
   "language": "python",
   "name": "python3"
  },
  "language_info": {
   "codemirror_mode": {
    "name": "ipython",
    "version": 3
   },
   "file_extension": ".py",
   "mimetype": "text/x-python",
   "name": "python",
   "nbconvert_exporter": "python",
   "pygments_lexer": "ipython3",
   "version": "3.12.1"
  }
 },
 "nbformat": 4,
 "nbformat_minor": 5
}
